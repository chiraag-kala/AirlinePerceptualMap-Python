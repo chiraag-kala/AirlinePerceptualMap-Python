{
 "cells": [
  {
   "cell_type": "markdown",
   "metadata": {},
   "source": [
    "# Marketing Analytics: Airline Perceptual Map Analysis Using Tweets"
   ]
  },
  {
   "cell_type": "markdown",
   "metadata": {},
   "source": [
    "This is a marketing analytics project that helps answer the following questions: how do US travelers perceive different domestic airlines? Do certain airlines have better brand perception than others? In this project, a dataset with tweets about domestic US airlines from February 2015 is used to create a perceptual map of the US Airline Market, which can be used to understand how US domestic travelers perceived different airlines in 2015."
   ]
  },
  {
   "cell_type": "markdown",
   "metadata": {},
   "source": [
    "# Standard Imports"
   ]
  },
  {
   "cell_type": "code",
   "execution_count": 7,
   "metadata": {},
   "outputs": [],
   "source": [
    "import numpy as np\n",
    "import pandas as pd\n",
    "import re"
   ]
  },
  {
   "cell_type": "code",
   "execution_count": 8,
   "metadata": {},
   "outputs": [],
   "source": [
    "import time\n",
    "import math\n",
    "import re\n",
    "from textblob import TextBlob\n",
    "import pandas as pd\n",
    "\n",
    "import nltk as nltk\n",
    "from nltk.corpus import stopwords\n",
    "from nltk.stem.wordnet import WordNetLemmatizer\n",
    "\n",
    "import string\n",
    "\n",
    "import warnings\n",
    "warnings.filterwarnings(action='ignore', category=UserWarning, module='gensim')\n",
    "\n",
    "import gensim\n",
    "from gensim import corpora, models\n",
    "from gensim.models.ldamulticore import LdaMulticore\n",
    "import pyLDAvis.gensim"
   ]
  },
  {
   "cell_type": "code",
   "execution_count": 9,
   "metadata": {},
   "outputs": [],
   "source": [
    "tweets = pd.read_csv('/Users/Monu/Desktop/MSc Analytics/Classes/Quarter 3/Marketing Analytics/Marketing Analytics Final Project/Tweets.csv')"
   ]
  },
  {
   "cell_type": "code",
   "execution_count": 10,
   "metadata": {},
   "outputs": [
    {
     "data": {
      "text/html": [
       "<div>\n",
       "<style scoped>\n",
       "    .dataframe tbody tr th:only-of-type {\n",
       "        vertical-align: middle;\n",
       "    }\n",
       "\n",
       "    .dataframe tbody tr th {\n",
       "        vertical-align: top;\n",
       "    }\n",
       "\n",
       "    .dataframe thead th {\n",
       "        text-align: right;\n",
       "    }\n",
       "</style>\n",
       "<table border=\"1\" class=\"dataframe\">\n",
       "  <thead>\n",
       "    <tr style=\"text-align: right;\">\n",
       "      <th></th>\n",
       "      <th>tweet_id</th>\n",
       "      <th>airline_sentiment</th>\n",
       "      <th>airline_sentiment_confidence</th>\n",
       "      <th>negativereason</th>\n",
       "      <th>negativereason_confidence</th>\n",
       "      <th>airline</th>\n",
       "      <th>airline_sentiment_gold</th>\n",
       "      <th>name</th>\n",
       "      <th>negativereason_gold</th>\n",
       "      <th>retweet_count</th>\n",
       "      <th>text</th>\n",
       "      <th>tweet_coord</th>\n",
       "      <th>tweet_created</th>\n",
       "      <th>tweet_location</th>\n",
       "      <th>user_timezone</th>\n",
       "    </tr>\n",
       "  </thead>\n",
       "  <tbody>\n",
       "    <tr>\n",
       "      <th>0</th>\n",
       "      <td>570306133677760513</td>\n",
       "      <td>neutral</td>\n",
       "      <td>1.0000</td>\n",
       "      <td>NaN</td>\n",
       "      <td>NaN</td>\n",
       "      <td>Virgin America</td>\n",
       "      <td>NaN</td>\n",
       "      <td>cairdin</td>\n",
       "      <td>NaN</td>\n",
       "      <td>0</td>\n",
       "      <td>@VirginAmerica What @dhepburn said.</td>\n",
       "      <td>NaN</td>\n",
       "      <td>2015-02-24 11:35:52 -0800</td>\n",
       "      <td>NaN</td>\n",
       "      <td>Eastern Time (US &amp; Canada)</td>\n",
       "    </tr>\n",
       "    <tr>\n",
       "      <th>1</th>\n",
       "      <td>570301130888122368</td>\n",
       "      <td>positive</td>\n",
       "      <td>0.3486</td>\n",
       "      <td>NaN</td>\n",
       "      <td>0.0000</td>\n",
       "      <td>Virgin America</td>\n",
       "      <td>NaN</td>\n",
       "      <td>jnardino</td>\n",
       "      <td>NaN</td>\n",
       "      <td>0</td>\n",
       "      <td>@VirginAmerica plus you've added commercials t...</td>\n",
       "      <td>NaN</td>\n",
       "      <td>2015-02-24 11:15:59 -0800</td>\n",
       "      <td>NaN</td>\n",
       "      <td>Pacific Time (US &amp; Canada)</td>\n",
       "    </tr>\n",
       "    <tr>\n",
       "      <th>2</th>\n",
       "      <td>570301083672813571</td>\n",
       "      <td>neutral</td>\n",
       "      <td>0.6837</td>\n",
       "      <td>NaN</td>\n",
       "      <td>NaN</td>\n",
       "      <td>Virgin America</td>\n",
       "      <td>NaN</td>\n",
       "      <td>yvonnalynn</td>\n",
       "      <td>NaN</td>\n",
       "      <td>0</td>\n",
       "      <td>@VirginAmerica I didn't today... Must mean I n...</td>\n",
       "      <td>NaN</td>\n",
       "      <td>2015-02-24 11:15:48 -0800</td>\n",
       "      <td>Lets Play</td>\n",
       "      <td>Central Time (US &amp; Canada)</td>\n",
       "    </tr>\n",
       "    <tr>\n",
       "      <th>3</th>\n",
       "      <td>570301031407624196</td>\n",
       "      <td>negative</td>\n",
       "      <td>1.0000</td>\n",
       "      <td>Bad Flight</td>\n",
       "      <td>0.7033</td>\n",
       "      <td>Virgin America</td>\n",
       "      <td>NaN</td>\n",
       "      <td>jnardino</td>\n",
       "      <td>NaN</td>\n",
       "      <td>0</td>\n",
       "      <td>@VirginAmerica it's really aggressive to blast...</td>\n",
       "      <td>NaN</td>\n",
       "      <td>2015-02-24 11:15:36 -0800</td>\n",
       "      <td>NaN</td>\n",
       "      <td>Pacific Time (US &amp; Canada)</td>\n",
       "    </tr>\n",
       "    <tr>\n",
       "      <th>4</th>\n",
       "      <td>570300817074462722</td>\n",
       "      <td>negative</td>\n",
       "      <td>1.0000</td>\n",
       "      <td>Can't Tell</td>\n",
       "      <td>1.0000</td>\n",
       "      <td>Virgin America</td>\n",
       "      <td>NaN</td>\n",
       "      <td>jnardino</td>\n",
       "      <td>NaN</td>\n",
       "      <td>0</td>\n",
       "      <td>@VirginAmerica and it's a really big bad thing...</td>\n",
       "      <td>NaN</td>\n",
       "      <td>2015-02-24 11:14:45 -0800</td>\n",
       "      <td>NaN</td>\n",
       "      <td>Pacific Time (US &amp; Canada)</td>\n",
       "    </tr>\n",
       "  </tbody>\n",
       "</table>\n",
       "</div>"
      ],
      "text/plain": [
       "             tweet_id airline_sentiment  airline_sentiment_confidence  \\\n",
       "0  570306133677760513           neutral                        1.0000   \n",
       "1  570301130888122368          positive                        0.3486   \n",
       "2  570301083672813571           neutral                        0.6837   \n",
       "3  570301031407624196          negative                        1.0000   \n",
       "4  570300817074462722          negative                        1.0000   \n",
       "\n",
       "  negativereason  negativereason_confidence         airline  \\\n",
       "0            NaN                        NaN  Virgin America   \n",
       "1            NaN                     0.0000  Virgin America   \n",
       "2            NaN                        NaN  Virgin America   \n",
       "3     Bad Flight                     0.7033  Virgin America   \n",
       "4     Can't Tell                     1.0000  Virgin America   \n",
       "\n",
       "  airline_sentiment_gold        name negativereason_gold  retweet_count  \\\n",
       "0                    NaN     cairdin                 NaN              0   \n",
       "1                    NaN    jnardino                 NaN              0   \n",
       "2                    NaN  yvonnalynn                 NaN              0   \n",
       "3                    NaN    jnardino                 NaN              0   \n",
       "4                    NaN    jnardino                 NaN              0   \n",
       "\n",
       "                                                text tweet_coord  \\\n",
       "0                @VirginAmerica What @dhepburn said.         NaN   \n",
       "1  @VirginAmerica plus you've added commercials t...         NaN   \n",
       "2  @VirginAmerica I didn't today... Must mean I n...         NaN   \n",
       "3  @VirginAmerica it's really aggressive to blast...         NaN   \n",
       "4  @VirginAmerica and it's a really big bad thing...         NaN   \n",
       "\n",
       "               tweet_created tweet_location               user_timezone  \n",
       "0  2015-02-24 11:35:52 -0800            NaN  Eastern Time (US & Canada)  \n",
       "1  2015-02-24 11:15:59 -0800            NaN  Pacific Time (US & Canada)  \n",
       "2  2015-02-24 11:15:48 -0800      Lets Play  Central Time (US & Canada)  \n",
       "3  2015-02-24 11:15:36 -0800            NaN  Pacific Time (US & Canada)  \n",
       "4  2015-02-24 11:14:45 -0800            NaN  Pacific Time (US & Canada)  "
      ]
     },
     "execution_count": 10,
     "metadata": {},
     "output_type": "execute_result"
    }
   ],
   "source": [
    "tweets.head()"
   ]
  },
  {
   "cell_type": "code",
   "execution_count": 11,
   "metadata": {},
   "outputs": [
    {
     "data": {
      "text/plain": [
       "United            3822\n",
       "US Airways        2913\n",
       "American          2759\n",
       "Southwest         2420\n",
       "Delta             2222\n",
       "Virgin America     504\n",
       "Name: airline, dtype: int64"
      ]
     },
     "execution_count": 11,
     "metadata": {},
     "output_type": "execute_result"
    }
   ],
   "source": [
    "tweets.airline.value_counts()"
   ]
  },
  {
   "cell_type": "code",
   "execution_count": 12,
   "metadata": {},
   "outputs": [],
   "source": [
    "tweets['text_clean'] = tweets['text'].map(lambda x: re.sub('[^a-zA-Z0-9  . , : - _]', '', str(x)))"
   ]
  },
  {
   "cell_type": "code",
   "execution_count": 13,
   "metadata": {},
   "outputs": [],
   "source": [
    "tweets.text_clean = tweets.text_clean.str.lower()"
   ]
  },
  {
   "cell_type": "code",
   "execution_count": 14,
   "metadata": {},
   "outputs": [
    {
     "data": {
      "text/html": [
       "<div>\n",
       "<style scoped>\n",
       "    .dataframe tbody tr th:only-of-type {\n",
       "        vertical-align: middle;\n",
       "    }\n",
       "\n",
       "    .dataframe tbody tr th {\n",
       "        vertical-align: top;\n",
       "    }\n",
       "\n",
       "    .dataframe thead th {\n",
       "        text-align: right;\n",
       "    }\n",
       "</style>\n",
       "<table border=\"1\" class=\"dataframe\">\n",
       "  <thead>\n",
       "    <tr style=\"text-align: right;\">\n",
       "      <th></th>\n",
       "      <th>text</th>\n",
       "      <th>text_clean</th>\n",
       "    </tr>\n",
       "  </thead>\n",
       "  <tbody>\n",
       "    <tr>\n",
       "      <th>14625</th>\n",
       "      <td>@AmericanAir Flight 236 was great. Fantastic c...</td>\n",
       "      <td>americanair flight 236 was great. fantastic ca...</td>\n",
       "    </tr>\n",
       "    <tr>\n",
       "      <th>14626</th>\n",
       "      <td>@AmericanAir Flight 953 NYC-Buenos Aires has b...</td>\n",
       "      <td>americanair flight 953 nycbuenos aires has bee...</td>\n",
       "    </tr>\n",
       "    <tr>\n",
       "      <th>14627</th>\n",
       "      <td>@AmericanAir Flight Cancelled Flightled, can't...</td>\n",
       "      <td>americanair flight cancelled flightled, cant g...</td>\n",
       "    </tr>\n",
       "    <tr>\n",
       "      <th>14628</th>\n",
       "      <td>Thank you. “@AmericanAir: @jlhalldc Customer R...</td>\n",
       "      <td>thank you. americanair: jlhalldc customer rela...</td>\n",
       "    </tr>\n",
       "    <tr>\n",
       "      <th>14629</th>\n",
       "      <td>@AmericanAir How do I change my flight if the ...</td>\n",
       "      <td>americanair how do i change my flight if the p...</td>\n",
       "    </tr>\n",
       "    <tr>\n",
       "      <th>14630</th>\n",
       "      <td>@AmericanAir Thanks! He is.</td>\n",
       "      <td>americanair thanks he is.</td>\n",
       "    </tr>\n",
       "    <tr>\n",
       "      <th>14631</th>\n",
       "      <td>@AmericanAir thx for nothing on getting us out...</td>\n",
       "      <td>americanair thx for nothing on getting us out ...</td>\n",
       "    </tr>\n",
       "    <tr>\n",
       "      <th>14632</th>\n",
       "      <td>“@AmericanAir: @TilleyMonsta George, that does...</td>\n",
       "      <td>americanair: tilleymonsta george, that doesnt ...</td>\n",
       "    </tr>\n",
       "    <tr>\n",
       "      <th>14633</th>\n",
       "      <td>@AmericanAir my flight was Cancelled Flightled...</td>\n",
       "      <td>americanair my flight was cancelled flightled,...</td>\n",
       "    </tr>\n",
       "    <tr>\n",
       "      <th>14634</th>\n",
       "      <td>@AmericanAir right on cue with the delays👌</td>\n",
       "      <td>americanair right on cue with the delays</td>\n",
       "    </tr>\n",
       "    <tr>\n",
       "      <th>14635</th>\n",
       "      <td>@AmericanAir thank you we got on a different f...</td>\n",
       "      <td>americanair thank you we got on a different fl...</td>\n",
       "    </tr>\n",
       "    <tr>\n",
       "      <th>14636</th>\n",
       "      <td>@AmericanAir leaving over 20 minutes Late Flig...</td>\n",
       "      <td>americanair leaving over 20 minutes late fligh...</td>\n",
       "    </tr>\n",
       "    <tr>\n",
       "      <th>14637</th>\n",
       "      <td>@AmericanAir Please bring American Airlines to...</td>\n",
       "      <td>americanair please bring american airlines to ...</td>\n",
       "    </tr>\n",
       "    <tr>\n",
       "      <th>14638</th>\n",
       "      <td>@AmericanAir you have my money, you change my ...</td>\n",
       "      <td>americanair you have my money, you change my f...</td>\n",
       "    </tr>\n",
       "    <tr>\n",
       "      <th>14639</th>\n",
       "      <td>@AmericanAir we have 8 ppl so we need 2 know h...</td>\n",
       "      <td>americanair we have 8 ppl so we need 2 know ho...</td>\n",
       "    </tr>\n",
       "  </tbody>\n",
       "</table>\n",
       "</div>"
      ],
      "text/plain": [
       "                                                    text  \\\n",
       "14625  @AmericanAir Flight 236 was great. Fantastic c...   \n",
       "14626  @AmericanAir Flight 953 NYC-Buenos Aires has b...   \n",
       "14627  @AmericanAir Flight Cancelled Flightled, can't...   \n",
       "14628  Thank you. “@AmericanAir: @jlhalldc Customer R...   \n",
       "14629  @AmericanAir How do I change my flight if the ...   \n",
       "14630                        @AmericanAir Thanks! He is.   \n",
       "14631  @AmericanAir thx for nothing on getting us out...   \n",
       "14632  “@AmericanAir: @TilleyMonsta George, that does...   \n",
       "14633  @AmericanAir my flight was Cancelled Flightled...   \n",
       "14634         @AmericanAir right on cue with the delays👌   \n",
       "14635  @AmericanAir thank you we got on a different f...   \n",
       "14636  @AmericanAir leaving over 20 minutes Late Flig...   \n",
       "14637  @AmericanAir Please bring American Airlines to...   \n",
       "14638  @AmericanAir you have my money, you change my ...   \n",
       "14639  @AmericanAir we have 8 ppl so we need 2 know h...   \n",
       "\n",
       "                                              text_clean  \n",
       "14625  americanair flight 236 was great. fantastic ca...  \n",
       "14626  americanair flight 953 nycbuenos aires has bee...  \n",
       "14627  americanair flight cancelled flightled, cant g...  \n",
       "14628  thank you. americanair: jlhalldc customer rela...  \n",
       "14629  americanair how do i change my flight if the p...  \n",
       "14630                          americanair thanks he is.  \n",
       "14631  americanair thx for nothing on getting us out ...  \n",
       "14632  americanair: tilleymonsta george, that doesnt ...  \n",
       "14633  americanair my flight was cancelled flightled,...  \n",
       "14634           americanair right on cue with the delays  \n",
       "14635  americanair thank you we got on a different fl...  \n",
       "14636  americanair leaving over 20 minutes late fligh...  \n",
       "14637  americanair please bring american airlines to ...  \n",
       "14638  americanair you have my money, you change my f...  \n",
       "14639  americanair we have 8 ppl so we need 2 know ho...  "
      ]
     },
     "execution_count": 14,
     "metadata": {},
     "output_type": "execute_result"
    }
   ],
   "source": [
    "tweets[['text','text_clean']][-15:]"
   ]
  },
  {
   "cell_type": "markdown",
   "metadata": {},
   "source": [
    "# VADER Sentiment Analysis"
   ]
  },
  {
   "cell_type": "code",
   "execution_count": 15,
   "metadata": {},
   "outputs": [],
   "source": [
    "from vaderSentiment.vaderSentiment import SentimentIntensityAnalyzer\n",
    "analyser = SentimentIntensityAnalyzer()"
   ]
  },
  {
   "cell_type": "code",
   "execution_count": 16,
   "metadata": {},
   "outputs": [],
   "source": [
    "tweets['vader_sentiment'] = tweets.text_clean.apply(lambda x:analyser.polarity_scores(x))"
   ]
  },
  {
   "cell_type": "code",
   "execution_count": 17,
   "metadata": {},
   "outputs": [],
   "source": [
    "def sentiment_parser(x):\n",
    "    if x['compound'] <= -0.05:\n",
    "        return 'negative'\n",
    "    elif x['compound'] >= 0.05:\n",
    "        return 'positive'\n",
    "    else:\n",
    "        return 'neutral'"
   ]
  },
  {
   "cell_type": "code",
   "execution_count": 18,
   "metadata": {},
   "outputs": [],
   "source": [
    "tweets['v_sentiment'] = tweets['vader_sentiment'].apply(lambda x:sentiment_parser(x))"
   ]
  },
  {
   "cell_type": "code",
   "execution_count": 19,
   "metadata": {},
   "outputs": [
    {
     "data": {
      "text/html": [
       "<div>\n",
       "<style scoped>\n",
       "    .dataframe tbody tr th:only-of-type {\n",
       "        vertical-align: middle;\n",
       "    }\n",
       "\n",
       "    .dataframe tbody tr th {\n",
       "        vertical-align: top;\n",
       "    }\n",
       "\n",
       "    .dataframe thead th {\n",
       "        text-align: right;\n",
       "    }\n",
       "</style>\n",
       "<table border=\"1\" class=\"dataframe\">\n",
       "  <thead>\n",
       "    <tr style=\"text-align: right;\">\n",
       "      <th>v_sentiment</th>\n",
       "      <th>negative</th>\n",
       "      <th>neutral</th>\n",
       "      <th>positive</th>\n",
       "    </tr>\n",
       "    <tr>\n",
       "      <th>airline_sentiment</th>\n",
       "      <th></th>\n",
       "      <th></th>\n",
       "      <th></th>\n",
       "    </tr>\n",
       "  </thead>\n",
       "  <tbody>\n",
       "    <tr>\n",
       "      <th>negative</th>\n",
       "      <td>3964</td>\n",
       "      <td>1498</td>\n",
       "      <td>3716</td>\n",
       "    </tr>\n",
       "    <tr>\n",
       "      <th>neutral</th>\n",
       "      <td>355</td>\n",
       "      <td>1048</td>\n",
       "      <td>1696</td>\n",
       "    </tr>\n",
       "    <tr>\n",
       "      <th>positive</th>\n",
       "      <td>86</td>\n",
       "      <td>182</td>\n",
       "      <td>2095</td>\n",
       "    </tr>\n",
       "  </tbody>\n",
       "</table>\n",
       "</div>"
      ],
      "text/plain": [
       "v_sentiment        negative  neutral  positive\n",
       "airline_sentiment                             \n",
       "negative               3964     1498      3716\n",
       "neutral                 355     1048      1696\n",
       "positive                 86      182      2095"
      ]
     },
     "execution_count": 19,
     "metadata": {},
     "output_type": "execute_result"
    }
   ],
   "source": [
    "pd.crosstab(tweets.airline_sentiment,tweets.v_sentiment)"
   ]
  },
  {
   "cell_type": "markdown",
   "metadata": {},
   "source": [
    "# TF-IDF"
   ]
  },
  {
   "cell_type": "code",
   "execution_count": 20,
   "metadata": {},
   "outputs": [],
   "source": [
    "# http://stevenloria.com/finding-important-words-in-a-document-using-tf-idf/\n",
    "\n",
    "def tf(word, blob):\n",
    "    return blob.words.count(word) / len(blob.words)\n",
    "# tf(word, blob) computes \"term frequency\" which is the number of times a word appears in a document blob, \n",
    "# normalized by dividing by the total number of words in blob. We use TextBlob for breaking up the text into words \n",
    "# and getting the word counts.\n",
    "\n",
    "\n",
    "def n_containing(word, bloblist):\n",
    "    return sum(1 for blob in bloblist if word in blob.words)\n",
    "# n_containing(word, bloblist) returns the number of documents containing word. \n",
    "# A generator expression is passed to the sum() function.\n",
    "\n",
    "\n",
    "def idf(word, bloblist):\n",
    "    return math.log(len(bloblist) / (1 + n_containing(word, bloblist)))\n",
    "# idf(word, bloblist) computes \"inverse document frequency\" which measures how common a word is \n",
    "# among all documents in bloblist. The more common a word is, the lower its idf. \n",
    "# We take the ratio of the total number of documents to the number of documents containing word, \n",
    "# then take the log of that. Add 1 to the divisor to prevent division by zero\n",
    "\n",
    "\n",
    "def tfidf(word, blob, bloblist):\n",
    "    return tf(word, blob) * idf(word, bloblist)\n",
    "# tfidf(word, blob, bloblist) computes the TF-IDF score. It is simply the product of tf and idf."
   ]
  },
  {
   "cell_type": "code",
   "execution_count": 21,
   "metadata": {},
   "outputs": [
    {
     "data": {
      "text/plain": [
       "14640"
      ]
     },
     "execution_count": 21,
     "metadata": {},
     "output_type": "execute_result"
    }
   ],
   "source": [
    "bloblist = []\n",
    "del bloblist[:]\n",
    "\n",
    "for i  in range(0,len(tweets)):\n",
    "    bloblist.append(TextBlob(tweets['text_clean'].iloc[i]))\n",
    "    \n",
    "len(bloblist)"
   ]
  },
  {
   "cell_type": "code",
   "execution_count": 22,
   "metadata": {},
   "outputs": [
    {
     "name": "stdout",
     "output_type": "stream",
     "text": [
      "Top words in tweet 1\n",
      "\tWord: dhepburn, TF-IDF: 2.22459\n",
      "\tWord: said, TF-IDF: 1.10526\n",
      "\tWord: virginamerica, TF-IDF: 0.83635\n",
      "\tWord: what, TF-IDF: 0.77596\n",
      "Top words in tweet 2\n",
      "\tWord: tacky, TF-IDF: 0.98871\n",
      "\tWord: commercials, TF-IDF: 0.84951\n",
      "\tWord: added, TF-IDF: 0.72744\n",
      "\tWord: plus, TF-IDF: 0.61266\n",
      "\tWord: youve, TF-IDF: 0.61266\n",
      "Top words in tweet 3\n",
      "\tWord: must, TF-IDF: 0.50067\n",
      "\tWord: mean, TF-IDF: 0.46385\n",
      "\tWord: trip, TF-IDF: 0.35653\n",
      "\tWord: didnt, TF-IDF: 0.3533\n",
      "\tWord: take, TF-IDF: 0.33495\n",
      "Top words in tweet 4\n",
      "\tWord: blast, TF-IDF: 0.49958\n",
      "\tWord: obnoxious, TF-IDF: 0.49958\n",
      "\tWord: aggressive, TF-IDF: 0.48266\n",
      "\tWord: faces, TF-IDF: 0.48266\n",
      "\tWord: guests, TF-IDF: 0.46953\n",
      "Top words in tweet 5\n",
      "\tWord: thing, TF-IDF: 0.5343\n",
      "\tWord: big, TF-IDF: 0.53148\n",
      "\tWord: bad, TF-IDF: 0.44154\n",
      "\tWord: really, TF-IDF: 0.39012\n",
      "\tWord: about, TF-IDF: 0.3393\n"
     ]
    }
   ],
   "source": [
    "for i, blob in enumerate(bloblist):\n",
    "# Print top 5 values\n",
    "    if i == 5:\n",
    "        break\n",
    "    print(\"Top words in tweet {}\".format(i + 1))\n",
    "    scores = {word: tfidf(word, blob, bloblist) for word in blob.words}\n",
    "    sorted_words = sorted(scores.items(), key=lambda x: x[1], reverse=True)\n",
    "    for word, score in sorted_words[:5]:\n",
    "        print(\"\\tWord: {}, TF-IDF: {}\".format(word, round(score, 5)))"
   ]
  },
  {
   "cell_type": "markdown",
   "metadata": {},
   "source": [
    "## Topic Modeling "
   ]
  },
  {
   "cell_type": "markdown",
   "metadata": {},
   "source": [
    "## LDA (latent dirichlet allocation)\n",
    "#### LDA is a matrix factorization technique, which assumes documents are produced from a mixture of topics. Those topics then generate words based on their probability distribution."
   ]
  },
  {
   "cell_type": "code",
   "execution_count": 23,
   "metadata": {},
   "outputs": [],
   "source": [
    "doc_complete = list(tweets.text_clean)"
   ]
  },
  {
   "cell_type": "code",
   "execution_count": 24,
   "metadata": {},
   "outputs": [],
   "source": [
    "stop_airline_names = ['jetblue','americanair','united','virginamerica', 'virgin','usairways','southwest','delta','southwestair','flight']"
   ]
  },
  {
   "cell_type": "code",
   "execution_count": 25,
   "metadata": {},
   "outputs": [],
   "source": [
    "stop = set(stopwords.words('english')).union(stop_airline_names)\n",
    "exclude = set(string.punctuation)\n",
    "lemma = WordNetLemmatizer()\n",
    "def clean(doc):\n",
    "    stop_free = \" \".join([i for i in doc.lower().split() if i not in stop])\n",
    "    punc_free = ''.join(ch for ch in stop_free if ch not in exclude)\n",
    "    normalized = \" \".join(lemma.lemmatize(word) for word in punc_free.split())\n",
    "    return normalized\n",
    "\n",
    "doc_clean = [clean(doc).split() for doc in doc_complete]     "
   ]
  },
  {
   "cell_type": "code",
   "execution_count": 26,
   "metadata": {},
   "outputs": [],
   "source": [
    "final_list = []\n",
    "for i in doc_clean:\n",
    "    initial_list = []\n",
    "    for j in i:\n",
    "        if j not in stop_airline_names:\n",
    "            initial_list.append(j)\n",
    "    final_list.append(initial_list)"
   ]
  },
  {
   "cell_type": "code",
   "execution_count": 27,
   "metadata": {},
   "outputs": [],
   "source": [
    "doc_clean = final_list"
   ]
  },
  {
   "cell_type": "code",
   "execution_count": 28,
   "metadata": {},
   "outputs": [
    {
     "data": {
      "text/plain": [
       "14640"
      ]
     },
     "execution_count": 28,
     "metadata": {},
     "output_type": "execute_result"
    }
   ],
   "source": [
    "len(doc_clean)"
   ]
  },
  {
   "cell_type": "code",
   "execution_count": 29,
   "metadata": {},
   "outputs": [
    {
     "data": {
      "text/plain": [
       "[['dhepburn', 'said'],\n",
       " ['plus', 'youve', 'added', 'commercial', 'experience', 'tacky'],\n",
       " ['didnt', 'today', 'must', 'mean', 'need', 'take', 'another', 'trip']]"
      ]
     },
     "execution_count": 29,
     "metadata": {},
     "output_type": "execute_result"
    }
   ],
   "source": [
    "doc_clean[:3]"
   ]
  },
  {
   "cell_type": "code",
   "execution_count": 30,
   "metadata": {},
   "outputs": [],
   "source": [
    "# Creating the term dictionary of our courpus, where every unique term is assigned an index. \n",
    "dictionary = corpora.Dictionary(doc_clean)\n",
    "\n",
    "# Converting list of documents (corpus) into Document Term Matrix using dictionary prepared above.\n",
    "doc_term_matrix = [dictionary.doc2bow(doc) for doc in doc_clean]"
   ]
  },
  {
   "cell_type": "code",
   "execution_count": 31,
   "metadata": {},
   "outputs": [],
   "source": [
    "# Creating the object for LDA model using gensim library\n",
    "Lda = gensim.models.ldamodel.LdaModel"
   ]
  },
  {
   "cell_type": "code",
   "execution_count": 32,
   "metadata": {},
   "outputs": [
    {
     "name": "stdout",
     "output_type": "stream",
     "text": [
      "CPU times: user 1min 47s, sys: 13.4 s, total: 2min\n",
      "Wall time: 2min 10s\n",
      "(0, '0.022*\"thanks\" + 0.019*\"customer\" + 0.017*\"service\" + 0.012*\"thank\" + 0.008*\"airline\" + 0.007*\"dont\" + 0.007*\"seat\" + 0.006*\"guy\" + 0.006*\"great\" + 0.006*\"would\"')\n",
      "(1, '0.017*\"help\" + 0.016*\"get\" + 0.015*\"cancelled\" + 0.014*\"cant\" + 0.012*\"phone\" + 0.011*\"call\" + 0.011*\"need\" + 0.010*\"u\" + 0.009*\"change\" + 0.008*\"please\"')\n",
      "(2, '0.021*\"hour\" + 0.013*\"bag\" + 0.012*\"time\" + 0.012*\"get\" + 0.011*\"plane\" + 0.010*\"cancelled\" + 0.009*\"2\" + 0.008*\"still\" + 0.008*\"delayed\" + 0.008*\"gate\"')\n"
     ]
    }
   ],
   "source": [
    "%time ldamodel = LdaMulticore(doc_term_matrix, num_topics=3, id2word = dictionary, passes=50) #3 topics\n",
    "print(*ldamodel.print_topics(num_topics=3, num_words=10), sep='\\n')"
   ]
  },
  {
   "cell_type": "code",
   "execution_count": 33,
   "metadata": {},
   "outputs": [
    {
     "name": "stderr",
     "output_type": "stream",
     "text": [
      "/anaconda3/lib/python3.6/site-packages/pyLDAvis/_prepare.py:257: FutureWarning: Sorting because non-concatenation axis is not aligned. A future version\n",
      "of pandas will change to not sort by default.\n",
      "\n",
      "To accept the future behavior, pass 'sort=False'.\n",
      "\n",
      "To retain the current behavior and silence the warning, pass 'sort=True'.\n",
      "\n",
      "  return pd.concat([default_term_info] + list(topic_dfs))\n"
     ]
    },
    {
     "data": {
      "text/html": [
       "\n",
       "<link rel=\"stylesheet\" type=\"text/css\" href=\"https://cdn.rawgit.com/bmabey/pyLDAvis/files/ldavis.v1.0.0.css\">\n",
       "\n",
       "\n",
       "<div id=\"ldavis_el3666351538077201796764550\"></div>\n",
       "<script type=\"text/javascript\">\n",
       "\n",
       "var ldavis_el3666351538077201796764550_data = {\"mdsDat\": {\"x\": [-0.18805949996428684, 0.061306886843489256, 0.12675261312079764], \"y\": [0.03307593215825043, -0.15910441654932142, 0.1260284843910709], \"topics\": [1, 2, 3], \"cluster\": [1, 1, 1], \"Freq\": [34.04352951049805, 27.748119354248047, 38.20834732055664]}, \"tinfo\": {\"Category\": [\"Default\", \"Default\", \"Default\", \"Default\", \"Default\", \"Default\", \"Default\", \"Default\", \"Default\", \"Default\", \"Default\", \"Default\", \"Default\", \"Default\", \"Default\", \"Default\", \"Default\", \"Default\", \"Default\", \"Default\", \"Default\", \"Default\", \"Default\", \"Default\", \"Default\", \"Default\", \"Default\", \"Default\", \"Default\", \"Default\", \"Topic1\", \"Topic1\", \"Topic1\", \"Topic1\", \"Topic1\", \"Topic1\", \"Topic1\", \"Topic1\", \"Topic1\", \"Topic1\", \"Topic1\", \"Topic1\", \"Topic1\", \"Topic1\", \"Topic1\", \"Topic1\", \"Topic1\", \"Topic1\", \"Topic1\", \"Topic1\", \"Topic1\", \"Topic1\", \"Topic1\", \"Topic1\", \"Topic1\", \"Topic1\", \"Topic1\", \"Topic1\", \"Topic1\", \"Topic1\", \"Topic1\", \"Topic1\", \"Topic1\", \"Topic1\", \"Topic1\", \"Topic1\", \"Topic1\", \"Topic1\", \"Topic1\", \"Topic1\", \"Topic1\", \"Topic1\", \"Topic1\", \"Topic1\", \"Topic1\", \"Topic1\", \"Topic1\", \"Topic1\", \"Topic1\", \"Topic1\", \"Topic1\", \"Topic1\", \"Topic1\", \"Topic1\", \"Topic1\", \"Topic1\", \"Topic1\", \"Topic1\", \"Topic1\", \"Topic2\", \"Topic2\", \"Topic2\", \"Topic2\", \"Topic2\", \"Topic2\", \"Topic2\", \"Topic2\", \"Topic2\", \"Topic2\", \"Topic2\", \"Topic2\", \"Topic2\", \"Topic2\", \"Topic2\", \"Topic2\", \"Topic2\", \"Topic2\", \"Topic2\", \"Topic2\", \"Topic2\", \"Topic2\", \"Topic2\", \"Topic2\", \"Topic2\", \"Topic2\", \"Topic2\", \"Topic2\", \"Topic2\", \"Topic2\", \"Topic2\", \"Topic2\", \"Topic2\", \"Topic2\", \"Topic2\", \"Topic2\", \"Topic2\", \"Topic2\", \"Topic2\", \"Topic2\", \"Topic2\", \"Topic2\", \"Topic2\", \"Topic2\", \"Topic2\", \"Topic2\", \"Topic2\", \"Topic2\", \"Topic2\", \"Topic2\", \"Topic2\", \"Topic2\", \"Topic2\", \"Topic2\", \"Topic2\", \"Topic2\", \"Topic2\", \"Topic2\", \"Topic2\", \"Topic3\", \"Topic3\", \"Topic3\", \"Topic3\", \"Topic3\", \"Topic3\", \"Topic3\", \"Topic3\", \"Topic3\", \"Topic3\", \"Topic3\", \"Topic3\", \"Topic3\", \"Topic3\", \"Topic3\", \"Topic3\", \"Topic3\", \"Topic3\", \"Topic3\", \"Topic3\", \"Topic3\", \"Topic3\", \"Topic3\", \"Topic3\", \"Topic3\", \"Topic3\", \"Topic3\", \"Topic3\", \"Topic3\", \"Topic3\", \"Topic3\", \"Topic3\", \"Topic3\", \"Topic3\", \"Topic3\", \"Topic3\", \"Topic3\", \"Topic3\", \"Topic3\", \"Topic3\", \"Topic3\", \"Topic3\", \"Topic3\", \"Topic3\", \"Topic3\", \"Topic3\", \"Topic3\", \"Topic3\", \"Topic3\", \"Topic3\", \"Topic3\", \"Topic3\", \"Topic3\"], \"Freq\": [993.0, 1072.0, 881.0, 542.0, 672.0, 532.0, 803.0, 434.0, 917.0, 1058.0, 336.0, 440.0, 622.0, 305.0, 382.0, 828.0, 652.0, 357.0, 1289.0, 284.0, 236.0, 601.0, 585.0, 222.0, 482.0, 289.0, 208.0, 276.0, 288.0, 270.0, 992.589599609375, 284.05902099609375, 201.7138214111328, 530.6005249023438, 222.5186767578125, 152.68209838867188, 112.70832824707031, 112.2110366821289, 115.9231185913086, 105.98584747314453, 103.90900421142578, 875.833740234375, 103.85903930664062, 87.87997436523438, 90.785400390625, 82.14794921875, 68.65098571777344, 75.18103790283203, 58.70473861694336, 83.53458404541016, 76.6142349243164, 49.197471618652344, 46.01726531982422, 49.82098388671875, 78.59308624267578, 43.71150588989258, 68.51447296142578, 37.17380905151367, 37.190956115722656, 94.08781433105469, 89.3293228149414, 195.08999633789062, 217.57135009765625, 143.05316162109375, 202.83836364746094, 780.05029296875, 207.3074493408203, 161.7331085205078, 328.00738525390625, 158.44717407226562, 294.6441955566406, 333.4383850097656, 346.32391357421875, 244.12982177734375, 108.8123550415039, 190.388916015625, 283.7054443359375, 216.43832397460938, 235.34866333007812, 166.89825439453125, 127.7154769897461, 173.2110595703125, 169.3976593017578, 164.530029296875, 242.78805541992188, 161.15771484375, 201.09951782226562, 197.0000762939453, 199.1034698486328, 542.0940551757812, 434.05145263671875, 335.91790771484375, 304.6285400390625, 221.67422485351562, 207.7863006591797, 186.94732666015625, 102.72489929199219, 95.60975646972656, 133.0319366455078, 91.40213012695312, 132.29466247558594, 90.26546478271484, 80.64916229248047, 73.81397247314453, 72.2620849609375, 58.34407043457031, 51.39387893676758, 52.678184509277344, 233.98458862304688, 51.05168151855469, 49.42912673950195, 48.13397979736328, 48.69012451171875, 101.80805206298828, 43.63867950439453, 42.65422439575195, 39.68217849731445, 34.228607177734375, 38.08881378173828, 70.96240997314453, 58.09823226928711, 75.17769622802734, 624.050537109375, 88.0560302734375, 428.5418395996094, 400.6780090332031, 89.13939666748047, 103.94498443603516, 312.2012939453125, 548.090576171875, 117.29778289794922, 582.8317260742188, 207.75904846191406, 118.81707763671875, 388.8467102050781, 265.84808349609375, 251.27171325683594, 216.18104553222656, 118.38336181640625, 206.7199249267578, 130.236083984375, 118.43498992919922, 140.7904052734375, 126.32035064697266, 131.0747528076172, 149.3125457763672, 125.02007293701172, 121.4172592163086, 671.8114013671875, 439.4798583984375, 1070.720703125, 382.2079772949219, 356.5260314941406, 289.0486755371094, 276.0531921386719, 252.32159423828125, 241.4775390625, 180.24957275390625, 154.81727600097656, 145.3037109375, 193.6056365966797, 159.0285186767578, 107.35993957519531, 268.4850158691406, 99.97280883789062, 93.50462341308594, 86.9431381225586, 68.92938232421875, 71.07769775390625, 71.5062026977539, 67.70219421386719, 70.19722747802734, 76.75807189941406, 81.91767883300781, 78.51713562011719, 59.56107711791992, 285.6200256347656, 63.537628173828125, 127.81938934326172, 85.96939086914062, 93.12732696533203, 423.7723388671875, 551.4439086914062, 439.8375244140625, 486.8097839355469, 631.0858154296875, 283.4745178222656, 304.47796630859375, 173.26773071289062, 238.4888458251953, 233.75100708007812, 343.8133544921875, 370.3024597167969, 600.9880981445312, 509.9692077636719, 306.6216125488281, 261.9353332519531, 295.30914306640625, 232.36004638671875, 301.7134094238281, 231.54067993164062], \"Term\": [\"thanks\", \"hour\", \"customer\", \"cant\", \"bag\", \"thank\", \"help\", \"phone\", \"service\", \"cancelled\", \"change\", \"delayed\", \"call\", \"trying\", \"late\", \"time\", \"plane\", \"waiting\", \"get\", \"great\", \"number\", \"2\", \"need\", \"reservation\", \"gate\", \"minute\", \"dm\", \"3\", \"hr\", \"4\", \"thanks\", \"great\", \"much\", \"thank\", \"response\", \"care\", \"fleek\", \"fleet\", \"class\", \"upgrade\", \"awesome\", \"customer\", \"appreciate\", \"tweet\", \"money\", \"received\", \"rt\", \"oh\", \"feel\", \"took\", \"amazing\", \"worry\", \"medium\", \"lol\", \"something\", \"treat\", \"complaint\", \"forward\", \"tv\", \"business\", \"wifi\", \"love\", \"ever\", \"ill\", \"worst\", \"service\", \"you\", \"experience\", \"seat\", \"it\", \"guy\", \"dont\", \"airline\", \"fly\", \"year\", \"want\", \"would\", \"know\", \"like\", \"first\", \"look\", \"good\", \"never\", \"really\", \"im\", \"work\", \"one\", \"time\", \"u\", \"cant\", \"phone\", \"change\", \"trying\", \"reservation\", \"dm\", \"online\", \"fee\", \"follow\", \"website\", \"app\", \"answer\", \"helpful\", \"name\", \"airway\", \"hang\", \"busy\", \"automated\", \"assistance\", \"number\", \"reach\", \"award\", \"800\", \"confirmation\", \"speak\", \"counter\", \"record\", \"spent\", \"volume\", \"philly\", \"message\", \"snow\", \"site\", \"help\", \"via\", \"call\", \"need\", \"talk\", \"rep\", \"please\", \"cancelled\", \"book\", \"get\", \"ticket\", \"sent\", \"u\", \"amp\", \"flightled\", \"agent\", \"system\", \"hold\", \"travel\", \"wont\", \"aa\", \"new\", \"tomorrow\", \"im\", \"day\", \"dont\", \"bag\", \"delayed\", \"hour\", \"late\", \"waiting\", \"minute\", \"3\", \"min\", \"luggage\", \"sitting\", \"5\", \"flightr\", \"baggage\", \"connection\", \"30\", \"4\", \"checked\", \"havent\", \"phl\", \"tarmac\", \"leaving\", \"clt\", \"45\", \"7\", \"la\", \"20\", \"12\", \"mechanical\", \"hr\", \"on\", \"update\", \"departure\", \"10\", \"gate\", \"plane\", \"still\", \"2\", \"time\", \"airport\", \"delay\", \"lost\", \"going\", \"wait\", \"back\", \"hold\", \"get\", \"cancelled\", \"day\", \"flightled\", \"im\", \"got\", \"u\", \"amp\"], \"Total\": [993.0, 1072.0, 881.0, 542.0, 672.0, 532.0, 803.0, 434.0, 917.0, 1058.0, 336.0, 440.0, 622.0, 305.0, 382.0, 828.0, 652.0, 357.0, 1289.0, 284.0, 236.0, 601.0, 585.0, 222.0, 482.0, 289.0, 208.0, 276.0, 288.0, 270.0, 993.2512817382812, 284.6877136230469, 202.37318420410156, 532.6103515625, 223.4173126220703, 153.33042907714844, 113.29434967041016, 112.79753112792969, 116.55132293701172, 106.64051055908203, 104.57073974609375, 881.8927612304688, 104.5848388671875, 88.51792907714844, 91.45149230957031, 82.87037658691406, 69.2560043334961, 75.85867309570312, 59.32329559326172, 84.42755889892578, 77.49150848388672, 49.81442642211914, 46.61624526977539, 50.47773742675781, 79.6614761352539, 44.33110046386719, 69.50413513183594, 37.77630615234375, 37.797271728515625, 95.68144226074219, 91.33206176757812, 206.79458618164062, 232.77645874023438, 150.92701721191406, 220.29660034179688, 917.0532836914062, 239.7681427001953, 187.40577697753906, 430.3470764160156, 183.325439453125, 390.54998779296875, 455.7494812011719, 495.8411865234375, 321.167236328125, 119.01873779296875, 257.1032409667969, 491.3154296875, 338.56207275390625, 390.6784973144531, 235.47744750976562, 152.87953186035156, 276.4390563964844, 267.375, 270.51214599609375, 687.4097290039062, 266.230712890625, 535.240966796875, 828.4189453125, 889.66357421875, 542.7749633789062, 434.72528076171875, 336.5771484375, 305.3075256347656, 222.3173828125, 208.4320526123047, 187.5884246826172, 103.38949584960938, 96.25724029541016, 133.9991912841797, 92.0698013305664, 133.2879180908203, 90.961181640625, 81.2988510131836, 74.4788589477539, 72.91725158691406, 58.98171615600586, 52.03071975708008, 53.33380889892578, 236.89739990234375, 51.71071243286133, 50.069244384765625, 48.76761245727539, 49.337772369384766, 103.19857025146484, 44.295108795166016, 43.30802917480469, 40.403560638427734, 34.86549377441406, 38.83824157714844, 72.72058868408203, 59.915279388427734, 79.5168685913086, 803.090087890625, 95.27326202392578, 622.9719848632812, 585.530029296875, 100.44792938232422, 124.09695434570312, 486.747802734375, 1058.38818359375, 150.1676788330078, 1289.2333984375, 329.1080627441406, 154.9173126220703, 889.66357421875, 552.902587890625, 513.5262451171875, 425.5749816894531, 157.67738342285156, 577.3448486328125, 209.43450927734375, 174.03207397460938, 328.04791259765625, 239.2605743408203, 332.07489013671875, 687.4097290039062, 498.9112548828125, 455.7494812011719, 672.4529418945312, 440.10943603515625, 1072.4876708984375, 382.8399353027344, 357.1483459472656, 289.6723937988281, 276.69873046875, 252.94342041015625, 242.18536376953125, 180.87451171875, 155.4488525390625, 145.92225646972656, 194.4475555419922, 159.88682556152344, 107.99278259277344, 270.16351318359375, 100.6246337890625, 94.1791000366211, 87.57341003417969, 69.53170776367188, 71.70620727539062, 72.14078521728516, 68.3178482055664, 70.84321594238281, 77.49044036865234, 82.70850372314453, 79.27813720703125, 60.176597595214844, 288.67645263671875, 64.22484588623047, 129.34156799316406, 87.35343933105469, 95.08039855957031, 482.5534973144531, 652.1610107421875, 532.2049560546875, 601.2888793945312, 828.4189453125, 342.3298645019531, 374.748046875, 206.92794799804688, 310.2381896972656, 306.66949462890625, 519.6103515625, 577.3448486328125, 1289.2333984375, 1058.38818359375, 498.9112548828125, 513.5262451171875, 687.4097290039062, 433.0177001953125, 889.66357421875, 552.902587890625], \"loglift\": [30.0, 29.0, 28.0, 27.0, 26.0, 25.0, 24.0, 23.0, 22.0, 21.0, 20.0, 19.0, 18.0, 17.0, 16.0, 15.0, 14.0, 13.0, 12.0, 11.0, 10.0, 9.0, 8.0, 7.0, 6.0, 5.0, 4.0, 3.0, 2.0, 1.0, 1.0769000053405762, 1.0752999782562256, 1.0743000507354736, 1.073699951171875, 1.0735000371932983, 1.0733000040054321, 1.0722999572753906, 1.0722999572753906, 1.072100043296814, 1.0714000463485718, 1.0712000131607056, 1.0706000328063965, 1.0706000328063965, 1.0702999830245972, 1.070199966430664, 1.0687999725341797, 1.0687999725341797, 1.068600058555603, 1.0670000314712524, 1.0669000148773193, 1.066100001335144, 1.0650999546051025, 1.0645999908447266, 1.0643999576568604, 1.0640000104904175, 1.0635000467300415, 1.0631999969482422, 1.0614999532699585, 1.061400055885315, 1.0607000589370728, 1.055400013923645, 1.0192999839782715, 1.0099999904632568, 1.0240000486373901, 0.9950000047683716, 0.9157000184059143, 0.9320999979972839, 0.9301999807357788, 0.8059999942779541, 0.9316999912261963, 0.7957000136375427, 0.7649999856948853, 0.7185999751091003, 0.8033000230789185, 0.9879000186920166, 0.7771000266075134, 0.5284000039100647, 0.6301000118255615, 0.5706999897956848, 0.733299970626831, 0.8977000117301941, 0.6100999712944031, 0.6211000084877014, 0.580299973487854, 0.03680000081658363, 0.5756000280380249, 0.09860000014305115, -0.3587999939918518, -0.4194999933242798, 1.2806999683380127, 1.280500054359436, 1.2799999713897705, 1.2798000574111938, 1.279099941253662, 1.2789000272750854, 1.2785999774932861, 1.2755999565124512, 1.2753000259399414, 1.2747999429702759, 1.2747000455856323, 1.2745000123977661, 1.2742999792099, 1.2740000486373901, 1.2730000019073486, 1.2730000019073486, 1.2711000442504883, 1.269700050354004, 1.2696000337600708, 1.2696000337600708, 1.2691999673843384, 1.2690999507904053, 1.2689000368118286, 1.2688000202178955, 1.268399953842163, 1.2670999765396118, 1.266800045967102, 1.2640000581741333, 1.2635999917984009, 1.2625000476837158, 1.2575000524520874, 1.2511999607086182, 1.2259000539779663, 1.0298000574111938, 1.2031999826431274, 0.9078999757766724, 0.9025999903678894, 1.162600040435791, 1.1047999858856201, 0.8378999829292297, 0.6238999962806702, 1.034999966621399, 0.48809999227523804, 0.8220000267028809, 1.016700029373169, 0.4542999863624573, 0.5497000217437744, 0.5672000050544739, 0.6047000288963318, 0.9954000115394592, 0.2549000084400177, 0.8069000244140625, 0.8970999717712402, 0.4361000061035156, 0.6432999968528748, 0.352400004863739, -0.24490000307559967, -0.10199999809265137, -0.040699999779462814, 0.9611999988555908, 0.9606999754905701, 0.9605000019073486, 0.9605000019073486, 0.9603999853134155, 0.9599999785423279, 0.9598000049591064, 0.9596999883651733, 0.9592000246047974, 0.9587000012397766, 0.9580000042915344, 0.9578999876976013, 0.9577999711036682, 0.9567000269889832, 0.9562000036239624, 0.9559000134468079, 0.9556000232696533, 0.9549000263214111, 0.9549000263214111, 0.9534000158309937, 0.9532999992370605, 0.9532999992370605, 0.9531000256538391, 0.953000009059906, 0.9526000022888184, 0.9524999856948853, 0.9524999856948853, 0.9517999887466431, 0.9514999985694885, 0.9513999819755554, 0.9502999782562256, 0.9460999965667725, 0.9413999915122986, 0.8321999907493591, 0.7943999767303467, 0.7714999914169312, 0.7508999705314636, 0.6899999976158142, 0.7735000252723694, 0.7544999718666077, 0.784600019454956, 0.6991000175476074, 0.6905999779701233, 0.5490999817848206, 0.5180000066757202, 0.1988999992609024, 0.23199999332427979, 0.47530001401901245, 0.2888999879360199, 0.11720000207424164, 0.33959999680519104, -0.11919999867677689, 0.0917000025510788], \"logprob\": [30.0, 29.0, 28.0, 27.0, 26.0, 25.0, 24.0, 23.0, 22.0, 21.0, 20.0, 19.0, 18.0, 17.0, 16.0, 15.0, 14.0, 13.0, 12.0, 11.0, 10.0, 9.0, 8.0, 7.0, 6.0, 5.0, 4.0, 3.0, 2.0, 1.0, -3.8385000228881836, -5.089700222015381, -5.432000160217285, -4.464799880981445, -5.333799839019775, -5.7104997634887695, -6.013999938964844, -6.018499851226807, -5.985899925231934, -6.075500011444092, -6.095300197601318, -3.96370005607605, -6.095799922943115, -6.262899875640869, -6.230299949645996, -6.3302998542785645, -6.509799957275391, -6.418900012969971, -6.666299819946289, -6.313600063323975, -6.400100231170654, -6.8429999351501465, -6.909800052642822, -6.830399990081787, -6.374599933624268, -6.96120023727417, -6.5117998123168945, -7.123199939727783, -7.122799873352051, -6.1946001052856445, -6.246500015258789, -5.465400218963623, -5.356299877166748, -5.775599956512451, -5.426400184631348, -4.079500198364258, -5.404600143432617, -5.652900218963623, -4.945799827575684, -5.673399925231934, -5.053100109100342, -4.9293999671936035, -4.891499996185303, -5.241099834442139, -6.049200057983398, -5.489799976348877, -5.09089994430542, -5.361499786376953, -5.2778000831604, -5.621500015258789, -5.888999938964844, -5.5843000411987305, -5.606599807739258, -5.635700225830078, -5.246600151062012, -5.656499862670898, -5.434999942779541, -5.455599784851074, -5.445000171661377, -4.238900184631348, -4.46120023727417, -4.71750020980835, -4.815299987792969, -5.133200168609619, -5.19789981842041, -5.303500175476074, -5.902299880981445, -5.974100112915039, -5.643799781799316, -6.019100189208984, -5.6493000984191895, -6.031599998474121, -6.1442999839782715, -6.232800006866455, -6.2540998458862305, -6.4679999351501465, -6.594799995422363, -6.570199966430664, -5.079100131988525, -6.601500034332275, -6.633800029754639, -6.660399913787842, -6.648900032043457, -5.911300182342529, -6.758399963378906, -6.781199932098389, -6.853499889373779, -7.001299858093262, -6.894400119781494, -6.272200107574463, -6.4721999168396, -6.2144999504089355, -4.098100185394287, -6.056399822235107, -4.473999977111816, -4.541200160980225, -6.0441999435424805, -5.890500068664551, -4.7906999588012695, -4.22790002822876, -5.769599914550781, -4.166500091552734, -5.197999954223633, -5.756800174713135, -4.571199893951416, -4.951399803161621, -5.007800102233887, -5.158199787139893, -5.76039981842041, -5.203000068664551, -5.664999961853027, -5.760000228881836, -5.587100028991699, -5.695499897003174, -5.658599853515625, -5.528299808502197, -5.705900192260742, -5.735099792480469, -4.344299793243408, -4.768700122833252, -3.878200054168701, -4.908299922943115, -4.977799892425537, -5.187699794769287, -5.233699798583984, -5.323500156402588, -5.367499828338623, -5.659900188446045, -5.811999797821045, -5.875400066375732, -5.588399887084961, -5.785200119018555, -6.178100109100342, -5.261499881744385, -6.2494001388549805, -6.316199779510498, -6.388999938964844, -6.621200084686279, -6.5904998779296875, -6.584499835968018, -6.639100074768066, -6.60290002822876, -6.513599872589111, -6.448500156402588, -6.490900039672852, -6.767199993133545, -5.1996002197265625, -6.702600002288818, -6.003600120544434, -6.400300025939941, -6.320300102233887, -4.805099964141846, -4.5416998863220215, -4.7677998542785645, -4.666399955749512, -4.406799793243408, -5.207099914550781, -5.1356000900268555, -5.699399948120117, -5.379899978637695, -5.400000095367432, -5.014200210571289, -4.939899921417236, -4.455699920654297, -4.619900226593018, -5.128600120544434, -5.286200046539307, -5.166200160980225, -5.406000137329102, -5.144800186157227, -5.4095001220703125]}, \"token.table\": {\"Topic\": [2, 3, 3, 2, 3, 3, 3, 3, 2, 3, 3, 3, 3, 2, 1, 2, 3, 2, 3, 1, 2, 3, 1, 2, 3, 2, 1, 1, 2, 3, 2, 3, 2, 1, 2, 2, 2, 1, 1, 2, 3, 3, 2, 3, 1, 2, 1, 2, 2, 2, 3, 2, 3, 2, 1, 2, 3, 1, 3, 1, 2, 2, 2, 3, 2, 1, 2, 3, 1, 2, 3, 1, 3, 3, 2, 3, 2, 1, 2, 3, 1, 3, 1, 2, 3, 2, 1, 1, 3, 1, 1, 2, 3, 3, 1, 2, 3, 2, 1, 2, 3, 1, 2, 3, 2, 3, 1, 2, 3, 1, 2, 3, 1, 1, 2, 2, 3, 1, 2, 3, 2, 2, 3, 2, 3, 2, 3, 1, 3, 1, 2, 3, 1, 3, 1, 2, 3, 3, 3, 3, 1, 2, 3, 1, 1, 2, 1, 2, 3, 1, 2, 3, 3, 1, 1, 2, 3, 3, 3, 1, 1, 2, 1, 2, 3, 1, 2, 3, 1, 2, 3, 2, 3, 1, 3, 1, 2, 3, 2, 2, 3, 2, 1, 3, 1, 2, 3, 2, 1, 2, 3, 1, 2, 2, 3, 2, 1, 2, 1, 1, 2, 3, 1, 2, 3, 1, 2, 3, 1, 2, 3, 2, 3, 1, 3, 2, 3, 2, 1, 2, 3, 1, 2, 3, 1, 2, 3, 3, 1, 2, 3, 1, 1, 2, 3, 1, 3, 2, 3, 1, 3, 1, 2, 1, 2, 1, 1, 1, 2, 3, 2, 3, 1, 1, 2, 2, 2, 3, 3, 1, 2, 1, 2, 1, 3, 1, 2, 3, 1, 2, 3, 1, 1, 3, 1, 2, 3, 1, 2, 3, 1, 2, 3], \"Freq\": [0.021034829318523407, 0.9781196117401123, 0.9964916110038757, 0.18959273397922516, 0.8099268078804016, 0.9914337396621704, 0.9974747896194458, 0.9908069372177124, 0.0037014621775597334, 0.9919918179512024, 0.9953474998474121, 0.997112512588501, 0.9880974292755127, 0.9842597842216492, 0.45115360617637634, 0.42981526255607605, 0.11888507008552551, 0.5075486302375793, 0.4911003112792969, 0.6978040933609009, 0.1089058369398117, 0.19361038506031036, 0.0029211591463536024, 0.16942723095417023, 0.8266880512237549, 0.9935705661773682, 0.9936572313308716, 0.10128366202116013, 0.48109740018844604, 0.41960376501083374, 0.9903373122215271, 0.0075025553815066814, 0.9883805513381958, 0.9944080114364624, 0.9937411546707153, 0.9801901578903198, 0.9786446690559387, 0.9945420622825623, 0.16743315756320953, 0.16935767233371735, 0.6620345115661621, 0.9993264079093933, 0.005142774898558855, 0.9976983070373535, 0.21975433826446533, 0.7791290283203125, 0.982426643371582, 0.010451347567141056, 0.9833555817604065, 0.6886345148086548, 0.31141048669815063, 0.5177684426307678, 0.4818647801876068, 0.9985722303390503, 0.9978449940681458, 0.9982852339744568, 0.9937924146652222, 0.9952697157859802, 0.9980484843254089, 0.9927467107772827, 0.014387632720172405, 0.9931538701057434, 0.006254423875361681, 0.9944534301757812, 0.9933376908302307, 0.9933180809020996, 0.005669623613357544, 0.0011339246993884444, 0.13429242372512817, 0.25054556131362915, 0.6153398752212524, 0.18679216504096985, 0.8112117052078247, 0.9974792003631592, 0.011447746306657791, 0.9845061898231506, 0.9979271292686462, 0.7306645512580872, 0.26549673080444336, 0.0021941878367215395, 0.9365208148956299, 0.06443950533866882, 0.8644344210624695, 0.12272834032773972, 0.0160080436617136, 0.9962327480316162, 0.9945502877235413, 0.7091974020004272, 0.2887749969959259, 0.9974018931388855, 0.9929295182228088, 0.48877736926078796, 0.5101978778839111, 0.9936798214912415, 0.7597287893295288, 0.22418226301670074, 0.015568213537335396, 0.9973275661468506, 0.9794499278068542, 0.12019392848014832, 0.8786590695381165, 0.08144374936819077, 0.45220670104026794, 0.46616849303245544, 0.2288564145565033, 0.7671524882316589, 0.6258160471916199, 0.0795835480093956, 0.2930121421813965, 0.196296826004982, 0.2655780613422394, 0.5357748866081238, 0.997584342956543, 0.7553450465202332, 0.2458072006702423, 0.9874206781387329, 0.9980983138084412, 0.031129758805036545, 0.77699875831604, 0.19175930321216583, 0.9894330501556396, 0.358537882566452, 0.6408647894859314, 0.0009324116399511695, 0.9986128807067871, 0.010392257012426853, 0.9907285571098328, 0.9474778175354004, 0.053005751222372055, 0.35350096225738525, 0.2167557328939438, 0.42914724349975586, 0.8618552684783936, 0.1363695114850998, 0.6379923224449158, 0.2717374563217163, 0.08861004561185837, 0.9936709403991699, 0.9978060126304626, 0.9901514053344727, 0.6015176177024841, 0.24828599393367767, 0.14845967292785645, 0.9905356764793396, 0.8372605443000793, 0.1635274440050125, 0.14981059730052948, 0.009665199555456638, 0.8360397815704346, 0.9429647326469421, 0.05319288372993469, 0.9951055645942688, 0.9970653653144836, 0.9867804646492004, 0.013751263730227947, 0.9763397574424744, 0.013751263730227947, 0.9962702393531799, 0.9976787567138672, 0.995063066482544, 0.998155951499939, 0.9963240623474121, 0.08368486166000366, 0.6848495602607727, 0.23226818442344666, 0.6320710778236389, 0.10472182929515839, 0.26180458068847656, 0.3427225649356842, 0.526622474193573, 0.12956584990024567, 0.987769365310669, 0.012663709931075573, 0.9886806011199951, 0.9964990615844727, 0.37553179264068604, 0.21298818290233612, 0.4110298156738281, 0.9968631863594055, 0.9784170985221863, 0.993452250957489, 0.998331606388092, 0.15333636105060577, 0.844883382320404, 0.1335393786430359, 0.6409890055656433, 0.22393526136875153, 0.9862560033798218, 0.6099541187286377, 0.14417096972465515, 0.24767833948135376, 0.9894971251487732, 0.9928874969482422, 0.8380544185638428, 0.1611643135547638, 0.9985724091529846, 0.9981321096420288, 0.004475928843021393, 0.9963034987449646, 0.7621755003929138, 0.21378093957901, 0.023237058892846107, 0.03873033821582794, 0.7681517004966736, 0.1936516910791397, 0.8505503535270691, 0.04470841586589813, 0.10468312352895737, 0.05030379071831703, 0.9431961178779602, 0.9951651096343994, 0.9680335521697998, 0.01669023372232914, 0.9916964173316956, 0.012553119100630283, 0.988385796546936, 0.009690056554973125, 0.9900117516517639, 0.08267491310834885, 0.09206978976726532, 0.8267491459846497, 0.17123572528362274, 0.7483634948730469, 0.07610476016998291, 0.10950947552919388, 0.8860312104225159, 0.009955407120287418, 0.9923530220985413, 0.9969764947891235, 0.0018775451462715864, 0.0018775451462715864, 0.9997470378875732, 0.3463907837867737, 0.6320112347602844, 0.02430812455713749, 0.2378023862838745, 0.7616919279098511, 0.3944893181324005, 0.6052851676940918, 0.9949358105659485, 0.011844473890960217, 0.3772062361240387, 0.6207190752029419, 0.9925311803817749, 0.9989927411079407, 0.9789066314697266, 0.994148850440979, 0.2236800640821457, 0.4372439384460449, 0.33945414423942566, 0.007731466554105282, 0.9896277189254761, 0.9939937591552734, 0.07347287237644196, 0.9236589670181274, 0.975176215171814, 0.23804128170013428, 0.7630364298820496, 0.9995846152305603, 0.7390027642250061, 0.25670620799064636, 0.007462731562554836, 0.9925432801246643, 0.9744661450386047, 0.021898115053772926, 0.1321595460176468, 0.6780359148979187, 0.1896202117204666, 0.6047386527061462, 0.23288072645664215, 0.1615140438079834, 0.983650803565979, 0.9214849472045898, 0.07716868817806244, 0.5780400633811951, 0.20760594308376312, 0.21574734151363373, 0.9158222079277039, 0.07561834156513214, 0.016804076731204987, 0.863334059715271, 0.11260879039764404, 0.020853478461503983], \"Term\": [\"10\", \"10\", \"12\", \"2\", \"2\", \"20\", \"3\", \"30\", \"4\", \"4\", \"45\", \"5\", \"7\", \"800\", \"aa\", \"aa\", \"aa\", \"agent\", \"agent\", \"airline\", \"airline\", \"airline\", \"airport\", \"airport\", \"airport\", \"airway\", \"amazing\", \"amp\", \"amp\", \"amp\", \"answer\", \"answer\", \"app\", \"appreciate\", \"assistance\", \"automated\", \"award\", \"awesome\", \"back\", \"back\", \"back\", \"bag\", \"baggage\", \"baggage\", \"book\", \"book\", \"business\", \"business\", \"busy\", \"call\", \"call\", \"cancelled\", \"cancelled\", \"cant\", \"care\", \"change\", \"checked\", \"class\", \"clt\", \"complaint\", \"complaint\", \"confirmation\", \"connection\", \"connection\", \"counter\", \"customer\", \"customer\", \"customer\", \"day\", \"day\", \"day\", \"delay\", \"delay\", \"delayed\", \"departure\", \"departure\", \"dm\", \"dont\", \"dont\", \"dont\", \"ever\", \"ever\", \"experience\", \"experience\", \"experience\", \"fee\", \"feel\", \"first\", \"first\", \"fleek\", \"fleet\", \"flightled\", \"flightled\", \"flightr\", \"fly\", \"fly\", \"fly\", \"follow\", \"forward\", \"gate\", \"gate\", \"get\", \"get\", \"get\", \"going\", \"going\", \"good\", \"good\", \"good\", \"got\", \"got\", \"got\", \"great\", \"guy\", \"guy\", \"hang\", \"havent\", \"help\", \"help\", \"help\", \"helpful\", \"hold\", \"hold\", \"hour\", \"hour\", \"hr\", \"hr\", \"ill\", \"ill\", \"im\", \"im\", \"im\", \"it\", \"it\", \"know\", \"know\", \"know\", \"la\", \"late\", \"leaving\", \"like\", \"like\", \"like\", \"lol\", \"look\", \"look\", \"lost\", \"lost\", \"lost\", \"love\", \"love\", \"luggage\", \"mechanical\", \"medium\", \"message\", \"message\", \"message\", \"min\", \"minute\", \"money\", \"much\", \"name\", \"need\", \"need\", \"need\", \"never\", \"never\", \"never\", \"new\", \"new\", \"new\", \"number\", \"number\", \"oh\", \"on\", \"one\", \"one\", \"one\", \"online\", \"philly\", \"phl\", \"phone\", \"plane\", \"plane\", \"please\", \"please\", \"please\", \"reach\", \"really\", \"really\", \"really\", \"received\", \"record\", \"rep\", \"rep\", \"reservation\", \"response\", \"response\", \"rt\", \"seat\", \"seat\", \"seat\", \"sent\", \"sent\", \"sent\", \"service\", \"service\", \"service\", \"site\", \"site\", \"sitting\", \"snow\", \"snow\", \"something\", \"something\", \"speak\", \"speak\", \"spent\", \"still\", \"still\", \"still\", \"system\", \"system\", \"system\", \"talk\", \"talk\", \"talk\", \"tarmac\", \"thank\", \"thank\", \"thank\", \"thanks\", \"ticket\", \"ticket\", \"ticket\", \"time\", \"time\", \"tomorrow\", \"tomorrow\", \"took\", \"took\", \"travel\", \"travel\", \"treat\", \"trying\", \"tv\", \"tweet\", \"u\", \"u\", \"u\", \"update\", \"update\", \"upgrade\", \"via\", \"via\", \"volume\", \"wait\", \"wait\", \"waiting\", \"want\", \"want\", \"website\", \"website\", \"wifi\", \"wifi\", \"wont\", \"wont\", \"wont\", \"work\", \"work\", \"work\", \"worry\", \"worst\", \"worst\", \"would\", \"would\", \"would\", \"year\", \"year\", \"year\", \"you\", \"you\", \"you\"]}, \"R\": 30, \"lambda.step\": 0.01, \"plot.opts\": {\"xlab\": \"PC1\", \"ylab\": \"PC2\"}, \"topic.order\": [1, 2, 3]};\n",
       "\n",
       "function LDAvis_load_lib(url, callback){\n",
       "  var s = document.createElement('script');\n",
       "  s.src = url;\n",
       "  s.async = true;\n",
       "  s.onreadystatechange = s.onload = callback;\n",
       "  s.onerror = function(){console.warn(\"failed to load library \" + url);};\n",
       "  document.getElementsByTagName(\"head\")[0].appendChild(s);\n",
       "}\n",
       "\n",
       "if(typeof(LDAvis) !== \"undefined\"){\n",
       "   // already loaded: just create the visualization\n",
       "   !function(LDAvis){\n",
       "       new LDAvis(\"#\" + \"ldavis_el3666351538077201796764550\", ldavis_el3666351538077201796764550_data);\n",
       "   }(LDAvis);\n",
       "}else if(typeof define === \"function\" && define.amd){\n",
       "   // require.js is available: use it to load d3/LDAvis\n",
       "   require.config({paths: {d3: \"https://cdnjs.cloudflare.com/ajax/libs/d3/3.5.5/d3.min\"}});\n",
       "   require([\"d3\"], function(d3){\n",
       "      window.d3 = d3;\n",
       "      LDAvis_load_lib(\"https://cdn.rawgit.com/bmabey/pyLDAvis/files/ldavis.v1.0.0.js\", function(){\n",
       "        new LDAvis(\"#\" + \"ldavis_el3666351538077201796764550\", ldavis_el3666351538077201796764550_data);\n",
       "      });\n",
       "    });\n",
       "}else{\n",
       "    // require.js not available: dynamically load d3 & LDAvis\n",
       "    LDAvis_load_lib(\"https://cdnjs.cloudflare.com/ajax/libs/d3/3.5.5/d3.min.js\", function(){\n",
       "         LDAvis_load_lib(\"https://cdn.rawgit.com/bmabey/pyLDAvis/files/ldavis.v1.0.0.js\", function(){\n",
       "                 new LDAvis(\"#\" + \"ldavis_el3666351538077201796764550\", ldavis_el3666351538077201796764550_data);\n",
       "            })\n",
       "         });\n",
       "}\n",
       "</script>"
      ],
      "text/plain": [
       "<IPython.core.display.HTML object>"
      ]
     },
     "execution_count": 33,
     "metadata": {},
     "output_type": "execute_result"
    }
   ],
   "source": [
    "lda_display = pyLDAvis.gensim.prepare(ldamodel, doc_term_matrix, dictionary, sort_topics=False)\n",
    "pyLDAvis.display(lda_display)"
   ]
  },
  {
   "cell_type": "code",
   "execution_count": 34,
   "metadata": {},
   "outputs": [
    {
     "name": "stdout",
     "output_type": "stream",
     "text": [
      "CPU times: user 1min 31s, sys: 11 s, total: 1min 42s\n",
      "Wall time: 1min 57s\n",
      "(0, '0.057*\"cancelled\" + 0.028*\"flightled\" + 0.017*\"u\" + 0.017*\"tomorrow\" + 0.012*\"get\" + 0.012*\"flighted\" + 0.009*\"im\" + 0.009*\"delay\" + 0.007*\"hotel\" + 0.007*\"today\" + 0.007*\"amp\" + 0.007*\"help\" + 0.007*\"dfw\" + 0.007*\"rebooked\" + 0.007*\"connection\"')\n",
      "(1, '0.016*\"ticket\" + 0.013*\"u\" + 0.013*\"one\" + 0.010*\"would\" + 0.008*\"change\" + 0.007*\"mile\" + 0.007*\"make\" + 0.007*\"dont\" + 0.007*\"fleek\" + 0.007*\"fleet\" + 0.006*\"credit\" + 0.006*\"help\" + 0.006*\"get\" + 0.006*\"fee\" + 0.006*\"want\"')\n",
      "(2, '0.030*\"call\" + 0.028*\"get\" + 0.027*\"hold\" + 0.024*\"hour\" + 0.021*\"phone\" + 0.019*\"help\" + 0.016*\"cant\" + 0.013*\"trying\" + 0.012*\"2\" + 0.012*\"back\" + 0.011*\"reservation\" + 0.010*\"need\" + 0.009*\"number\" + 0.009*\"ive\" + 0.009*\"online\"')\n",
      "(3, '0.021*\"plane\" + 0.015*\"time\" + 0.015*\"seat\" + 0.014*\"minute\" + 0.014*\"hour\" + 0.012*\"min\" + 0.011*\"bag\" + 0.009*\"waiting\" + 0.008*\"first\" + 0.008*\"sitting\" + 0.007*\"gate\" + 0.007*\"still\" + 0.007*\"delayed\" + 0.006*\"u\" + 0.006*\"wait\"')\n",
      "(4, '0.047*\"service\" + 0.045*\"customer\" + 0.017*\"airline\" + 0.012*\"ever\" + 0.011*\"worst\" + 0.010*\"never\" + 0.010*\"experience\" + 0.009*\"thanks\" + 0.009*\"time\" + 0.007*\"like\" + 0.006*\"ive\" + 0.006*\"travel\" + 0.006*\"would\" + 0.006*\"fly\" + 0.006*\"care\"')\n",
      "(5, '0.006*\"love\" + 0.006*\"flying\" + 0.006*\"bad\" + 0.006*\"airline\" + 0.005*\"there\" + 0.005*\"suck\" + 0.005*\"well\" + 0.005*\"get\" + 0.005*\"way\" + 0.005*\"day\" + 0.005*\"good\" + 0.005*\"time\" + 0.005*\"im\" + 0.005*\"la\" + 0.004*\"row\"')\n",
      "(6, '0.028*\"thanks\" + 0.018*\"gate\" + 0.017*\"bag\" + 0.011*\"late\" + 0.010*\"still\" + 0.009*\"crew\" + 0.008*\"hour\" + 0.008*\"agent\" + 0.008*\"lost\" + 0.007*\"amp\" + 0.007*\"im\" + 0.007*\"great\" + 0.007*\"luggage\" + 0.007*\"day\" + 0.006*\"boarding\"')\n",
      "(7, '0.039*\"thank\" + 0.018*\"please\" + 0.018*\"you\" + 0.017*\"dm\" + 0.014*\"problem\" + 0.013*\"thanks\" + 0.011*\"email\" + 0.010*\"much\" + 0.009*\"sent\" + 0.009*\"booking\" + 0.009*\"help\" + 0.008*\"aa\" + 0.008*\"response\" + 0.008*\"follow\" + 0.006*\"get\"')\n"
     ]
    }
   ],
   "source": [
    "%time ldamodel = LdaMulticore(doc_term_matrix, num_topics=8, id2word = dictionary, passes=50) #3 topics\n",
    "print(*ldamodel.print_topics(num_topics=8, num_words=15), sep='\\n')"
   ]
  },
  {
   "cell_type": "code",
   "execution_count": 35,
   "metadata": {},
   "outputs": [
    {
     "name": "stderr",
     "output_type": "stream",
     "text": [
      "/anaconda3/lib/python3.6/site-packages/pyLDAvis/_prepare.py:257: FutureWarning: Sorting because non-concatenation axis is not aligned. A future version\n",
      "of pandas will change to not sort by default.\n",
      "\n",
      "To accept the future behavior, pass 'sort=False'.\n",
      "\n",
      "To retain the current behavior and silence the warning, pass 'sort=True'.\n",
      "\n",
      "  return pd.concat([default_term_info] + list(topic_dfs))\n"
     ]
    },
    {
     "data": {
      "text/html": [
       "\n",
       "<link rel=\"stylesheet\" type=\"text/css\" href=\"https://cdn.rawgit.com/bmabey/pyLDAvis/files/ldavis.v1.0.0.css\">\n",
       "\n",
       "\n",
       "<div id=\"ldavis_el3666351543185205854245157\"></div>\n",
       "<script type=\"text/javascript\">\n",
       "\n",
       "var ldavis_el3666351543185205854245157_data = {\"mdsDat\": {\"x\": [0.08206316135781827, -0.04298145239537432, 0.08606748063097462, 0.14117736323001703, -0.06363151696822354, -0.08056896612523154, 0.09144970250380104, -0.21357577223378182], \"y\": [-0.007742768209539299, -0.0758581630767086, -0.20217368877664668, 0.04793868676313242, 0.12077476500078034, 0.09066573457061901, 0.09387732560120432, -0.06748189187284169], \"topics\": [1, 2, 3, 4, 5, 6, 7, 8], \"cluster\": [1, 1, 1, 1, 1, 1, 1, 1], \"Freq\": [13.571645736694336, 12.639254570007324, 14.36484146118164, 15.582850456237793, 14.162166595458984, 7.99399995803833, 11.870758056640625, 9.814488410949707]}, \"tinfo\": {\"Category\": [\"Default\", \"Default\", \"Default\", \"Default\", \"Default\", \"Default\", \"Default\", \"Default\", \"Default\", \"Default\", \"Default\", \"Default\", \"Default\", \"Default\", \"Default\", \"Default\", \"Default\", \"Default\", \"Default\", \"Default\", \"Default\", \"Default\", \"Default\", \"Default\", \"Default\", \"Default\", \"Default\", \"Default\", \"Default\", \"Default\", \"Topic1\", \"Topic1\", \"Topic1\", \"Topic1\", \"Topic1\", \"Topic1\", \"Topic1\", \"Topic1\", \"Topic1\", \"Topic1\", \"Topic1\", \"Topic1\", \"Topic1\", \"Topic1\", \"Topic1\", \"Topic1\", \"Topic1\", \"Topic1\", \"Topic1\", \"Topic1\", \"Topic1\", \"Topic1\", \"Topic1\", \"Topic1\", \"Topic1\", \"Topic1\", \"Topic1\", \"Topic1\", \"Topic1\", \"Topic1\", \"Topic1\", \"Topic1\", \"Topic1\", \"Topic1\", \"Topic1\", \"Topic1\", \"Topic1\", \"Topic1\", \"Topic1\", \"Topic1\", \"Topic1\", \"Topic1\", \"Topic1\", \"Topic1\", \"Topic1\", \"Topic1\", \"Topic1\", \"Topic1\", \"Topic1\", \"Topic1\", \"Topic1\", \"Topic1\", \"Topic1\", \"Topic1\", \"Topic1\", \"Topic1\", \"Topic1\", \"Topic1\", \"Topic1\", \"Topic1\", \"Topic1\", \"Topic1\", \"Topic1\", \"Topic1\", \"Topic1\", \"Topic1\", \"Topic1\", \"Topic1\", \"Topic1\", \"Topic1\", \"Topic1\", \"Topic1\", \"Topic2\", \"Topic2\", \"Topic2\", \"Topic2\", \"Topic2\", \"Topic2\", \"Topic2\", \"Topic2\", \"Topic2\", \"Topic2\", \"Topic2\", \"Topic2\", \"Topic2\", \"Topic2\", \"Topic2\", \"Topic2\", \"Topic2\", \"Topic2\", \"Topic2\", \"Topic2\", \"Topic2\", \"Topic2\", \"Topic2\", \"Topic2\", \"Topic2\", \"Topic2\", \"Topic2\", \"Topic2\", \"Topic2\", \"Topic2\", \"Topic2\", \"Topic2\", \"Topic2\", \"Topic2\", \"Topic2\", \"Topic2\", \"Topic2\", \"Topic2\", \"Topic2\", \"Topic2\", \"Topic2\", \"Topic2\", \"Topic2\", \"Topic2\", \"Topic2\", \"Topic2\", \"Topic2\", \"Topic2\", \"Topic2\", \"Topic2\", \"Topic2\", \"Topic2\", \"Topic2\", \"Topic2\", \"Topic2\", \"Topic2\", \"Topic2\", \"Topic2\", \"Topic2\", \"Topic2\", \"Topic2\", \"Topic2\", \"Topic2\", \"Topic2\", \"Topic2\", \"Topic2\", \"Topic2\", \"Topic2\", \"Topic2\", \"Topic3\", \"Topic3\", \"Topic3\", \"Topic3\", \"Topic3\", \"Topic3\", \"Topic3\", \"Topic3\", \"Topic3\", \"Topic3\", \"Topic3\", \"Topic3\", \"Topic3\", \"Topic3\", \"Topic3\", \"Topic3\", \"Topic3\", \"Topic3\", \"Topic3\", \"Topic3\", \"Topic3\", \"Topic3\", \"Topic3\", \"Topic3\", \"Topic3\", \"Topic3\", \"Topic3\", \"Topic3\", \"Topic3\", \"Topic3\", \"Topic3\", \"Topic3\", \"Topic3\", \"Topic3\", \"Topic3\", \"Topic3\", \"Topic3\", \"Topic3\", \"Topic3\", \"Topic3\", \"Topic3\", \"Topic3\", \"Topic3\", \"Topic3\", \"Topic3\", \"Topic3\", \"Topic3\", \"Topic3\", \"Topic3\", \"Topic3\", \"Topic3\", \"Topic3\", \"Topic3\", \"Topic3\", \"Topic3\", \"Topic3\", \"Topic3\", \"Topic3\", \"Topic3\", \"Topic3\", \"Topic4\", \"Topic4\", \"Topic4\", \"Topic4\", \"Topic4\", \"Topic4\", \"Topic4\", \"Topic4\", \"Topic4\", \"Topic4\", \"Topic4\", \"Topic4\", \"Topic4\", \"Topic4\", \"Topic4\", \"Topic4\", \"Topic4\", \"Topic4\", \"Topic4\", \"Topic4\", \"Topic4\", \"Topic4\", \"Topic4\", \"Topic4\", \"Topic4\", \"Topic4\", \"Topic4\", \"Topic4\", \"Topic4\", \"Topic4\", \"Topic4\", \"Topic4\", \"Topic4\", \"Topic4\", \"Topic4\", \"Topic4\", \"Topic4\", \"Topic4\", \"Topic4\", \"Topic4\", \"Topic4\", \"Topic4\", \"Topic4\", \"Topic4\", \"Topic4\", \"Topic4\", \"Topic4\", \"Topic4\", \"Topic4\", \"Topic4\", \"Topic4\", \"Topic4\", \"Topic4\", \"Topic4\", \"Topic4\", \"Topic4\", \"Topic4\", \"Topic4\", \"Topic4\", \"Topic4\", \"Topic4\", \"Topic4\", \"Topic4\", \"Topic4\", \"Topic4\", \"Topic4\", \"Topic4\", \"Topic4\", \"Topic4\", \"Topic4\", \"Topic4\", \"Topic4\", \"Topic4\", \"Topic5\", \"Topic5\", \"Topic5\", \"Topic5\", \"Topic5\", \"Topic5\", \"Topic5\", \"Topic5\", \"Topic5\", \"Topic5\", \"Topic5\", \"Topic5\", \"Topic5\", \"Topic5\", \"Topic5\", \"Topic5\", \"Topic5\", \"Topic5\", \"Topic5\", \"Topic5\", \"Topic5\", \"Topic5\", \"Topic5\", \"Topic5\", \"Topic5\", \"Topic5\", \"Topic5\", \"Topic5\", \"Topic5\", \"Topic5\", \"Topic5\", \"Topic5\", \"Topic5\", \"Topic5\", \"Topic5\", \"Topic5\", \"Topic5\", \"Topic5\", \"Topic5\", \"Topic5\", \"Topic5\", \"Topic5\", \"Topic5\", \"Topic5\", \"Topic5\", \"Topic5\", \"Topic5\", \"Topic5\", \"Topic5\", \"Topic5\", \"Topic5\", \"Topic5\", \"Topic5\", \"Topic5\", \"Topic5\", \"Topic5\", \"Topic5\", \"Topic5\", \"Topic5\", \"Topic5\", \"Topic5\", \"Topic5\", \"Topic5\", \"Topic5\", \"Topic5\", \"Topic5\", \"Topic5\", \"Topic6\", \"Topic6\", \"Topic6\", \"Topic6\", \"Topic6\", \"Topic6\", \"Topic6\", \"Topic6\", \"Topic6\", \"Topic6\", \"Topic6\", \"Topic6\", \"Topic6\", \"Topic6\", \"Topic6\", \"Topic6\", \"Topic6\", \"Topic6\", \"Topic6\", \"Topic6\", \"Topic6\", \"Topic6\", \"Topic6\", \"Topic6\", \"Topic6\", \"Topic6\", \"Topic6\", \"Topic6\", \"Topic6\", \"Topic6\", \"Topic6\", \"Topic6\", \"Topic6\", \"Topic6\", \"Topic6\", \"Topic6\", \"Topic6\", \"Topic6\", \"Topic6\", \"Topic6\", \"Topic6\", \"Topic6\", \"Topic6\", \"Topic6\", \"Topic6\", \"Topic6\", \"Topic6\", \"Topic6\", \"Topic6\", \"Topic6\", \"Topic6\", \"Topic6\", \"Topic6\", \"Topic6\", \"Topic6\", \"Topic6\", \"Topic6\", \"Topic6\", \"Topic6\", \"Topic6\", \"Topic6\", \"Topic6\", \"Topic6\", \"Topic6\", \"Topic6\", \"Topic6\", \"Topic6\", \"Topic6\", \"Topic6\", \"Topic6\", \"Topic6\", \"Topic6\", \"Topic6\", \"Topic6\", \"Topic7\", \"Topic7\", \"Topic7\", \"Topic7\", \"Topic7\", \"Topic7\", \"Topic7\", \"Topic7\", \"Topic7\", \"Topic7\", \"Topic7\", \"Topic7\", \"Topic7\", \"Topic7\", \"Topic7\", \"Topic7\", \"Topic7\", \"Topic7\", \"Topic7\", \"Topic7\", \"Topic7\", \"Topic7\", \"Topic7\", \"Topic7\", \"Topic7\", \"Topic7\", \"Topic7\", \"Topic7\", \"Topic7\", \"Topic7\", \"Topic7\", \"Topic7\", \"Topic7\", \"Topic7\", \"Topic7\", \"Topic7\", \"Topic7\", \"Topic7\", \"Topic7\", \"Topic7\", \"Topic7\", \"Topic7\", \"Topic7\", \"Topic7\", \"Topic7\", \"Topic7\", \"Topic7\", \"Topic7\", \"Topic7\", \"Topic7\", \"Topic7\", \"Topic7\", \"Topic7\", \"Topic7\", \"Topic7\", \"Topic7\", \"Topic7\", \"Topic7\", \"Topic7\", \"Topic7\", \"Topic7\", \"Topic7\", \"Topic7\", \"Topic7\", \"Topic7\", \"Topic7\", \"Topic7\", \"Topic7\", \"Topic7\", \"Topic7\", \"Topic7\", \"Topic7\", \"Topic7\", \"Topic7\", \"Topic7\", \"Topic8\", \"Topic8\", \"Topic8\", \"Topic8\", \"Topic8\", \"Topic8\", \"Topic8\", \"Topic8\", \"Topic8\", \"Topic8\", \"Topic8\", \"Topic8\", \"Topic8\", \"Topic8\", \"Topic8\", \"Topic8\", \"Topic8\", \"Topic8\", \"Topic8\", \"Topic8\", \"Topic8\", \"Topic8\", \"Topic8\", \"Topic8\", \"Topic8\", \"Topic8\", \"Topic8\", \"Topic8\", \"Topic8\", \"Topic8\", \"Topic8\", \"Topic8\", \"Topic8\", \"Topic8\", \"Topic8\", \"Topic8\", \"Topic8\", \"Topic8\", \"Topic8\", \"Topic8\", \"Topic8\", \"Topic8\", \"Topic8\", \"Topic8\", \"Topic8\", \"Topic8\", \"Topic8\", \"Topic8\", \"Topic8\", \"Topic8\", \"Topic8\", \"Topic8\", \"Topic8\", \"Topic8\", \"Topic8\", \"Topic8\", \"Topic8\", \"Topic8\", \"Topic8\", \"Topic8\", \"Topic8\", \"Topic8\", \"Topic8\"], \"Freq\": [1047.0, 906.0, 868.0, 518.0, 586.0, 507.0, 531.0, 418.0, 982.0, 325.0, 497.0, 1025.0, 299.0, 235.0, 663.0, 220.0, 491.0, 347.0, 261.0, 229.0, 800.0, 221.0, 491.0, 684.0, 216.0, 266.0, 214.0, 297.0, 305.0, 186.0, 1046.2855224609375, 506.3985595703125, 220.38687133789062, 137.40719604492188, 41.1203498840332, 39.310482025146484, 38.368045806884766, 31.459861755371094, 28.38008689880371, 314.3017272949219, 19.748472213745117, 16.417861938476562, 14.507216453552246, 12.70276165008545, 11.807010650634766, 11.314746856689453, 11.211089134216309, 43.78511428833008, 10.255844116210938, 10.164055824279785, 9.913220405578613, 9.481761932373047, 9.392529487609863, 8.879008293151855, 8.516406059265137, 7.916098594665527, 7.914010524749756, 7.752373695373535, 7.728964805603027, 7.723055362701416, 54.750877380371094, 39.21915817260742, 125.11426544189453, 124.27691650390625, 80.25790405273438, 12.744011878967285, 22.972393035888672, 96.68757629394531, 54.61262130737305, 33.64617919921875, 19.791662216186523, 31.767780303955078, 17.160480499267578, 35.21018600463867, 131.5049591064453, 18.08830451965332, 167.2879180908203, 123.67816162109375, 318.2467346191406, 67.58102416992188, 85.156982421875, 49.76643753051758, 118.4129409790039, 134.9201202392578, 93.11071014404297, 60.20280456542969, 73.37086486816406, 61.43404769897461, 172.45860290527344, 224.6343536376953, 133.29922485351562, 116.42857360839844, 98.84033966064453, 116.46295166015625, 131.89610290527344, 103.82970428466797, 120.21623992919922, 83.86459350585938, 94.70499420166016, 77.49027252197266, 86.12989807128906, 82.51750946044922, 112.49343872070312, 111.9963150024414, 62.76761245727539, 51.322418212890625, 35.70728302001953, 26.91046714782715, 24.79588508605957, 22.482152938842773, 22.290233612060547, 20.728364944458008, 77.6217269897461, 20.372085571289062, 19.463518142700195, 18.1667423248291, 17.871524810791016, 16.767061233520508, 16.277267456054688, 110.46724700927734, 15.246922492980957, 15.169232368469238, 14.71026611328125, 14.159273147583008, 14.05941390991211, 13.279027938842773, 12.748263359069824, 12.286458969116211, 12.188898086547852, 11.528383255004883, 11.42048454284668, 11.36933708190918, 105.10062408447266, 126.08486938476562, 273.2265319824219, 73.03398895263672, 79.92782592773438, 42.00101089477539, 21.203704833984375, 35.2559700012207, 47.9356575012207, 59.87506866455078, 59.338722229003906, 222.38661193847656, 89.36088562011719, 141.92153930664062, 175.21946716308594, 45.74184036254883, 89.38424682617188, 47.81324005126953, 103.6663818359375, 230.4119415283203, 119.36481475830078, 73.78181457519531, 103.61946868896484, 91.72281646728516, 118.72236633300781, 64.31535339355469, 89.47906494140625, 86.38081359863281, 73.98966979980469, 77.30587768554688, 106.67638397216797, 105.81156158447266, 69.0107650756836, 71.96725463867188, 78.80377197265625, 72.82705688476562, 77.57688903808594, 75.12010192871094, 73.29222106933594, 586.157958984375, 417.93597412109375, 213.3636474609375, 98.58123016357422, 82.22187042236328, 80.90019226074219, 69.47512817382812, 525.1049194335938, 49.360923767089844, 46.2147216796875, 32.82754898071289, 29.553258895874023, 28.865110397338867, 20.92811393737793, 174.3936309814453, 19.08123779296875, 18.475988388061523, 15.29749584197998, 15.171862602233887, 121.32384490966797, 12.270030975341797, 11.11816692352295, 10.412435531616211, 53.094322204589844, 9.894107818603516, 9.485984802246094, 8.911556243896484, 8.69216251373291, 8.28380012512207, 7.263606548309326, 26.36014747619629, 250.6932830810547, 44.86735916137695, 27.57002067565918, 178.06365966796875, 46.41182327270508, 99.52658081054688, 141.96554565429688, 320.4215393066406, 77.24578857421875, 176.6797637939453, 466.37982177734375, 542.8029174804688, 375.13067626953125, 100.12023162841797, 163.35316467285156, 232.7919921875, 237.08619689941406, 67.50626373291016, 122.43727111816406, 193.41976928710938, 138.32333374023438, 151.59930419921875, 94.96515655517578, 93.57322692871094, 126.06043243408203, 124.33985900878906, 123.4235610961914, 107.4640884399414, 112.73312377929688, 298.5486755371094, 260.6512451171875, 118.33599853515625, 110.80591583251953, 69.81904602050781, 55.38241195678711, 60.202388763427734, 19.645240783691406, 18.120046615600586, 16.769746780395508, 16.505754470825195, 18.387086868286133, 13.236323356628418, 13.048653602600098, 12.989640235900879, 12.396804809570312, 12.071203231811523, 11.806877136230469, 11.783668518066406, 11.29726505279541, 11.129365921020508, 11.048425674438477, 10.69034194946289, 10.291947364807129, 9.636184692382812, 9.540258407592773, 9.53752613067627, 9.423372268676758, 9.163823127746582, 8.962431907653809, 40.15184020996094, 167.89849853515625, 76.42220306396484, 64.1036376953125, 25.529212951660156, 24.119544982910156, 66.83406066894531, 80.0222396850586, 306.1219482421875, 439.1758728027344, 170.10902404785156, 66.99341583251953, 54.22755432128906, 18.294986724853516, 57.54633712768555, 76.36344146728516, 71.57830810546875, 51.83696746826172, 57.2167854309082, 185.43580627441406, 56.691043853759766, 91.89493560791016, 61.777889251708984, 316.84515380859375, 132.21788024902344, 133.3961181640625, 229.47976684570312, 294.5670166015625, 151.54490661621094, 140.9601593017578, 130.35032653808594, 151.5241241455078, 123.10427856445312, 95.1353759765625, 128.8389129638672, 133.859130859375, 93.81123352050781, 83.03399658203125, 118.00260925292969, 90.03732299804688, 85.47225952148438, 83.67657470703125, 81.46320343017578, 905.95361328125, 867.2427978515625, 228.40504455566406, 216.1537628173828, 185.57469177246094, 92.88311767578125, 73.22552490234375, 39.86979293823242, 23.42507553100586, 20.157501220703125, 19.564180374145508, 17.880481719970703, 15.39136028289795, 14.739933013916016, 14.587790489196777, 11.874693870544434, 11.635427474975586, 10.59441089630127, 10.553813934326172, 9.330986022949219, 9.23267936706543, 8.997857093811035, 8.726015090942383, 8.604472160339355, 8.486092567443848, 8.452491760253906, 8.354236602783203, 7.9989142417907715, 14.56972599029541, 7.370279312133789, 48.56031799316406, 25.979257583618164, 195.99221801757812, 114.22303771972656, 82.78826904296875, 317.10546875, 16.28715705871582, 23.451749801635742, 47.22562789916992, 41.434993743896484, 88.91313934326172, 123.26891326904297, 55.63225555419922, 34.863624572753906, 25.85527992248535, 46.179664611816406, 123.93582153320312, 139.4811248779297, 119.4384994506836, 72.30940246582031, 92.42691040039062, 91.0565414428711, 44.80595779418945, 166.5736541748047, 67.6017074584961, 120.96810150146484, 171.609619140625, 103.20946502685547, 86.98847961425781, 99.22918701171875, 83.14836120605469, 87.08103942871094, 95.87361907958984, 65.49088287353516, 80.16967010498047, 84.5050277709961, 74.32067108154297, 27.71149253845215, 22.41239356994629, 15.787734985351562, 14.818875312805176, 13.653892517089844, 13.576807022094727, 13.21576976776123, 11.901864051818848, 11.596226692199707, 11.201338768005371, 11.10574722290039, 10.833334922790527, 9.352736473083496, 9.124619483947754, 8.671143531799316, 8.47199535369873, 8.408445358276367, 8.017930030822754, 7.899538040161133, 7.579366683959961, 7.363492965698242, 48.05533218383789, 7.002269268035889, 6.928743839263916, 6.9277024269104, 6.829702854156494, 6.751796722412109, 6.635111331939697, 6.57746696472168, 6.475211143493652, 25.5421199798584, 38.313560485839844, 28.78363800048828, 15.298468589782715, 20.00052261352539, 46.44591522216797, 22.77865219116211, 15.471410751342773, 50.384071350097656, 56.38433074951172, 22.48899269104004, 58.20533752441406, 15.698558807373047, 25.809450149536133, 19.155839920043945, 62.992008209228516, 64.98359680175781, 55.5850715637207, 63.03817367553711, 33.66762161254883, 47.507171630859375, 26.561107635498047, 22.163244247436523, 53.07659912109375, 43.08229064941406, 54.357913970947266, 33.26390838623047, 28.2340087890625, 59.750465393066406, 45.683326721191406, 42.09528732299805, 53.10653305053711, 38.27709197998047, 41.72611618041992, 43.757911682128906, 46.72121047973633, 50.6195068359375, 45.280296325683594, 50.65486145019531, 54.516597747802734, 43.678733825683594, 36.41619110107422, 38.06639099121094, 35.4227180480957, 73.9695816040039, 29.26253318786621, 24.939762115478516, 22.014455795288086, 21.030975341796875, 17.984033584594727, 16.003515243530273, 13.784435272216797, 13.388078689575195, 12.730964660644531, 11.730518341064453, 10.906473159790039, 10.903026580810547, 9.7709321975708, 9.591009140014648, 9.407570838928223, 9.12496566772461, 9.042197227478027, 8.906035423278809, 8.746411323547363, 8.68203353881836, 8.254961013793945, 8.100204467773438, 7.975127696990967, 7.278670787811279, 7.271717548370361, 6.88684606552124, 6.80900239944458, 6.731164932250977, 6.724928855895996, 86.61551666259766, 57.73568344116211, 21.387001037597656, 22.30048942565918, 14.443746566772461, 143.214111328125, 287.2376708984375, 103.68103790283203, 59.26295471191406, 121.37925720214844, 448.9537048339844, 33.03907012939453, 30.011812210083008, 276.30865478515625, 172.9376983642578, 53.084529876708984, 23.420574188232422, 63.323707580566406, 105.51343536376953, 28.838119506835938, 110.70271301269531, 84.15166473388672, 160.51756286621094, 41.13644790649414, 91.86300659179688, 43.06724548339844, 56.114627838134766, 62.466243743896484, 123.479248046875, 61.48776626586914, 49.45577621459961, 80.76380157470703, 59.12803649902344, 113.78170013427734, 104.75254821777344, 47.637603759765625, 113.71273040771484, 127.94388580322266, 84.53585815429688, 98.61429595947266, 82.31565856933594, 75.57622528076172, 72.89549255371094, 71.81097412109375, 59.97869110107422, 518.2116088867188, 235.2128448486328, 220.0428466796875, 101.17500305175781, 48.30866241455078, 36.051116943359375, 18.62983512878418, 18.256643295288086, 17.136211395263672, 16.24509048461914, 14.317444801330566, 12.74771785736084, 12.55823040008545, 10.451691627502441, 9.632715225219727, 9.147544860839844, 8.217070579528809, 8.194028854370117, 8.188952445983887, 7.996487140655518, 7.92136812210083, 7.626735210418701, 7.593226432800293, 6.946205139160156, 6.9430460929870605, 73.72090911865234, 6.996540069580078, 5.953982830047607, 117.24266052246094, 5.741292476654053, 38.943050384521484, 10.755844116210938, 54.39704132080078, 190.16221618652344, 117.28716278076172, 138.48731994628906, 22.84950828552246, 24.307788848876953, 67.66912841796875, 146.07025146484375, 30.461509704589844, 238.08482360839844, 27.8535099029541, 24.41996192932129, 103.61585998535156, 51.9184455871582, 55.11552810668945, 46.895111083984375, 109.29796600341797, 45.79603958129883, 40.95942687988281, 60.58063507080078, 177.20542907714844, 62.56962966918945, 116.16056060791016, 75.12191772460938, 59.323524475097656, 73.87083435058594, 78.2452621459961, 64.23209381103516, 74.68284606933594, 82.93083953857422, 63.1292610168457], \"Term\": [\"cancelled\", \"service\", \"customer\", \"thank\", \"call\", \"flightled\", \"hold\", \"phone\", \"thanks\", \"tomorrow\", \"gate\", \"hour\", \"minute\", \"you\", \"plane\", \"dm\", \"please\", \"ticket\", \"min\", \"ever\", \"help\", \"flighted\", \"airline\", \"bag\", \"worst\", \"problem\", \"reservation\", \"trying\", \"ive\", \"experience\", \"cancelled\", \"flightled\", \"flighted\", \"hotel\", \"flightlations\", \"tuesday\", \"flighting\", \"nashville\", \"flightlation\", \"tomorrow\", \"impossible\", \"flightling\", \"advise\", \"deplane\", \"prompt\", \"flts\", \"hit\", \"monday\", \"flightations\", \"lauderdale\", \"reroute\", \"i\", \"accommodation\", \"stressful\", \"somebody\", \"notify\", \"nut\", \"slept\", \"fails\", \"chat\", \"snow\", \"hoping\", \"rebooked\", \"connection\", \"dallas\", \"six\", \"control\", \"miss\", \"stranded\", \"iad\", \"area\", \"drive\", \"compensate\", \"lga\", \"dfw\", \"condition\", \"delay\", \"home\", \"u\", \"missed\", \"morning\", \"dca\", \"weather\", \"today\", \"due\", \"voucher\", \"stuck\", \"rebook\", \"im\", \"get\", \"amp\", \"got\", \"going\", \"delayed\", \"help\", \"need\", \"thanks\", \"airport\", \"2\", \"another\", \"please\", \"hour\", \"fleek\", \"fleet\", \"account\", \"200\", \"ceo\", \"dividend\", \"mileage\", \"however\", \"jetblues\", \"receive\", \"card\", \"woman\", \"lovely\", \"deliver\", \"iphone\", \"rental\", \"street\", \"credit\", \"match\", \"refunded\", \"aadvantage\", \"appease\", \"battle\", \"have\", \"bonus\", \"21\", \"drunk\", \"earn\", \"outstanding\", \"statement\", \"fee\", \"mile\", \"ticket\", \"money\", \"status\", \"price\", \"bank\", \"needed\", \"charge\", \"claim\", \"no\", \"one\", \"said\", \"change\", \"would\", \"month\", \"trip\", \"airway\", \"want\", \"u\", \"make\", \"sure\", \"go\", \"new\", \"dont\", \"anything\", \"even\", \"take\", \"passenger\", \"told\", \"help\", \"get\", \"baggage\", \"another\", \"cant\", \"fly\", \"im\", \"bag\", \"please\", \"call\", \"phone\", \"reservation\", \"speak\", \"calling\", \"hung\", \"hang\", \"hold\", \"automated\", \"800\", \"volume\", \"hanging\", \"answering\", \"useless\", \"online\", \"receipt\", \"disconnect\", \"apologize\", \"dmd\", \"answer\", \"1800\", \"24hrs\", \"understaffing\", \"busy\", \"valid\", \"lap\", \"jump\", \"8004337300\", \"caller\", \"manage\", \"callback\", \"trying\", \"human\", \"disconnected\", \"number\", \"thru\", \"called\", \"someone\", \"cant\", \"anyone\", \"ive\", \"hour\", \"get\", \"help\", \"system\", \"wait\", \"back\", \"2\", \"talk\", \"hr\", \"need\", \"change\", \"agent\", \"two\", \"line\", \"day\", \"still\", \"time\", \"got\", \"im\", \"minute\", \"min\", \"class\", \"30\", \"45\", \"40\", \"sit\", \"loaded\", \"inside\", \"onboard\", \"avail\", \"sold\", \"drove\", \"plat\", \"cab\", \"bin\", \"d\", \"wheres\", \"age\", \"okc\", \"stand\", \"dinner\", \"3056\", \"warning\", \"tues\", \"suit\", \"memory\", \"management\", \"generic\", \"repair\", \"empty\", \"sitting\", \"20\", \"25\", \"mco\", \"90\", \"1st\", \"board\", \"seat\", \"plane\", \"first\", \"open\", \"enough\", \"captain\", \"full\", \"upgrade\", \"available\", \"tarmac\", \"15\", \"waiting\", \"paid\", \"5\", \"10\", \"time\", \"people\", \"wait\", \"bag\", \"hour\", \"gate\", \"delayed\", \"late\", \"still\", \"delay\", \"issue\", \"2\", \"u\", \"hr\", \"line\", \"get\", \"airport\", \"need\", \"dont\", \"would\", \"service\", \"customer\", \"ever\", \"worst\", \"experience\", \"terrible\", \"horrible\", \"seen\", \"advisory\", \"absolute\", \"passbook\", \"experienced\", \"badservice\", \"nc\", \"disappointing\", \"had\", \"planning\", \"april\", \"horrendous\", \"easier\", \"properly\", \"method\", \"bummer\", \"timely\", \"global\", \"deplaned\", \"disregard\", \"cont\", \"provided\", \"throughout\", \"awful\", \"center\", \"never\", \"care\", \"finally\", \"airline\", \"dept\", \"excuse\", \"lack\", \"worse\", \"again\", \"travel\", \"poor\", \"joke\", \"okay\", \"amazing\", \"ive\", \"like\", \"fly\", \"better\", \"flying\", \"work\", \"disappointed\", \"time\", \"staff\", \"would\", \"thanks\", \"guy\", \"great\", \"today\", \"really\", \"know\", \"dont\", \"best\", \"agent\", \"get\", \"day\", \"middle\", \"window\", \"wsj\", \"exit\", \"enter\", \"juan\", \"more\", \"palm\", \"filmcrew\", \"automatically\", \"thinking\", \"comp\", \"memphis\", \"costing\", \"nytimes\", \"prob\", \"thnx\", \"el\", \"virginatlantic\", \"719\", \"ton\", \"row\", \"suggest\", \"hassle\", \"jax\", \"inch\", \"continuing\", \"grand\", \"oneworld\", \"notifying\", \"close\", \"medium\", \"luck\", \"tired\", \"flightd\", \"vega\", \"dealing\", \"emergency\", \"la\", \"suck\", \"social\", \"there\", \"angry\", \"counting\", \"mom\", \"bad\", \"love\", \"well\", \"flying\", \"name\", \"youre\", \"cannot\", \"wish\", \"good\", \"jfk\", \"way\", \"free\", \"ridiculous\", \"airline\", \"work\", \"see\", \"day\", \"didnt\", \"problem\", \"fly\", \"dont\", \"im\", \"delayed\", \"time\", \"get\", \"u\", \"weather\", \"hour\", \"seat\", \"pas\", \"delivered\", \"closed\", \"son\", \"fantastic\", \"engine\", \"standing\", \"hundred\", \"pull\", \"returned\", \"east\", \"departed\", \"accurate\", \"interview\", \"600\", \"winner\", \"130\", \"dozen\", \"sleeping\", \"toilet\", \"stroller\", \"applied\", \"comfortable\", \"va\", \"consideration\", \"catching\", \"curious\", \"forgetting\", \"350\", \"kicking\", \"checked\", \"found\", \"nope\", \"kudos\", \"crossed\", \"crew\", \"gate\", \"boarding\", \"job\", \"lost\", \"thanks\", \"checking\", \"everything\", \"bag\", \"late\", \"ok\", \"layover\", \"done\", \"luggage\", \"spent\", \"great\", \"made\", \"still\", \"sfo\", \"check\", \"ground\", \"pilot\", \"flightr\", \"agent\", \"left\", \"awesome\", \"last\", \"tonight\", \"amp\", \"day\", \"missing\", \"im\", \"hour\", \"got\", \"plane\", \"delayed\", \"guy\", \"waiting\", \"one\", \"u\", \"thank\", \"you\", \"dm\", \"follow\", \"reflight\", \"forward\", \"character\", \"quickly\", \"mexico\", \"diego\", \"coat\", \"starting\", \"screen\", \"ahold\", \"february\", \"airfare\", \"carrieunderwood\", \"puerto\", \"sunny\", \"existing\", \"sincerely\", \"hadnt\", \"ladygaga\", \"rico\", \"cash\", \"send\", \"jh\", \"confirming\", \"booking\", \"exchange\", \"address\", \"sale\", \"reply\", \"problem\", \"sent\", \"much\", \"responding\", \"choice\", \"always\", \"email\", \"quick\", \"please\", \"form\", \"sending\", \"response\", \"wifi\", \"appreciate\", \"that\", \"aa\", \"looking\", \"twitter\", \"ill\", \"thanks\", \"yes\", \"help\", \"fly\", \"love\", \"guy\", \"need\", \"way\", \"im\", \"get\", \"back\"], \"Total\": [1047.0, 906.0, 868.0, 518.0, 586.0, 507.0, 531.0, 418.0, 982.0, 325.0, 497.0, 1025.0, 299.0, 235.0, 663.0, 220.0, 491.0, 347.0, 261.0, 229.0, 800.0, 221.0, 491.0, 684.0, 216.0, 266.0, 214.0, 297.0, 305.0, 186.0, 1047.4283447265625, 507.1839904785156, 221.17298889160156, 138.59548950195312, 41.90576171875, 40.095970153808594, 39.15346908569336, 32.24531555175781, 29.16561508178711, 325.0919189453125, 20.534238815307617, 17.203330993652344, 15.293269157409668, 13.488530158996582, 12.593165397644043, 12.100143432617188, 11.99679183959961, 46.95250701904297, 11.041301727294922, 10.94932746887207, 10.698697090148926, 10.267489433288574, 10.177902221679688, 9.667054176330566, 9.302112579345703, 8.701698303222656, 8.699731826782227, 8.537651062011719, 8.514474868774414, 8.510013580322266, 61.526878356933594, 44.18224334716797, 152.6691131591797, 154.2840576171875, 98.26469421386719, 14.342559814453125, 27.264196395874023, 132.68019104003906, 72.98726654052734, 43.6840934753418, 23.839757919311523, 42.35799789428711, 20.36077117919922, 48.19062423706055, 238.965576171875, 21.693439483642578, 370.5094299316406, 261.2819519042969, 898.3419799804688, 120.54814910888672, 164.40451049804688, 84.51847839355469, 304.5564270019531, 374.5428466796875, 217.9222412109375, 112.75439453125, 153.59288024902344, 116.97496032714844, 677.3753662109375, 1261.6175537109375, 559.047607421875, 424.3082580566406, 306.65081787109375, 439.88897705078125, 800.568115234375, 590.0203857421875, 982.6190185546875, 343.970703125, 583.13671875, 257.6642761230469, 491.61798095703125, 1025.9727783203125, 113.27200317382812, 112.77493286132812, 63.56130599975586, 52.101341247558594, 36.48617935180664, 27.689245223999023, 25.590087890625, 23.26113510131836, 23.06892967224121, 21.507144927978516, 80.61115264892578, 21.16220474243164, 20.24271583557129, 18.9456844329834, 18.650218963623047, 17.545915603637695, 17.055864334106445, 115.96011352539062, 16.025737762451172, 15.947988510131836, 15.489157676696777, 14.937813758850098, 14.838005065917969, 14.069137573242188, 13.527152061462402, 13.065410614013672, 12.967659950256348, 12.30713176727295, 12.199925422668457, 12.150664329528809, 112.48954010009766, 141.27322387695312, 347.62432861328125, 91.39405059814453, 104.17479705810547, 51.949344635009766, 24.087831497192383, 44.04800796508789, 63.95991897583008, 90.33686065673828, 90.5533447265625, 536.9533081054688, 165.584716796875, 346.4910888671875, 492.4588623046875, 72.62615966796875, 193.88404846191406, 78.24361419677734, 255.79615783691406, 898.3419799804688, 330.6474609375, 165.8708953857422, 294.52606201171875, 244.91970825195312, 457.65374755859375, 140.1923828125, 275.8421325683594, 270.5047302246094, 210.68991088867188, 253.64474487304688, 800.568115234375, 1261.6175537109375, 197.9883270263672, 257.6642761230469, 546.1612548828125, 322.97967529296875, 677.3753662109375, 684.5570068359375, 491.61798095703125, 586.9498901367188, 418.7332458496094, 214.1580352783203, 99.38333892822266, 83.01393127441406, 81.6920394897461, 70.26725769042969, 531.8870239257812, 50.15262985229492, 47.00674057006836, 33.61936569213867, 30.34503173828125, 29.656949996948242, 21.720060348510742, 181.53103637695312, 19.874101638793945, 19.299453735351562, 16.089519500732422, 15.96381950378418, 128.82179260253906, 13.061874389648438, 11.909977912902832, 11.204233169555664, 57.17322540283203, 10.68614387512207, 10.277833938598633, 9.704146385192871, 9.48412036895752, 9.07555866241455, 8.055891036987305, 29.574005126953125, 297.66864013671875, 51.73490524291992, 31.204978942871094, 234.38999938964844, 55.8796501159668, 135.9083709716797, 208.159912109375, 546.1612548828125, 109.98678588867188, 305.6904602050781, 1025.9727783203125, 1261.6175537109375, 800.568115234375, 155.6523895263672, 297.42926025390625, 496.9529724121094, 583.13671875, 99.4658203125, 274.7649230957031, 590.0203857421875, 346.4910888671875, 428.2274475097656, 205.85560607910156, 206.3519287109375, 494.7119445800781, 528.8998413085938, 819.3413696289062, 424.3082580566406, 677.3753662109375, 299.3887023925781, 261.4276428222656, 119.11237335205078, 111.60472869873047, 70.59530639648438, 56.158695220947266, 61.83062744140625, 20.42125701904297, 18.896493911743164, 17.54608917236328, 17.282188415527344, 19.260332107543945, 14.01265811920166, 13.825407981872559, 13.765979766845703, 13.172985076904297, 12.847694396972656, 12.583001136779785, 12.55994701385498, 12.073563575744629, 11.905668258666992, 11.824748992919922, 11.466300964355469, 11.068328857421875, 10.412690162658691, 10.316373825073242, 10.313858032226562, 10.200040817260742, 9.940339088439941, 9.738787651062012, 43.819705963134766, 186.6941375732422, 84.95428466796875, 71.0720443725586, 28.442096710205078, 27.06846046447754, 82.62484741210938, 100.57197570800781, 443.4010009765625, 663.8682250976562, 237.8194580078125, 86.9608383178711, 68.89566040039062, 20.547035217285156, 77.45072937011719, 107.66996002197266, 102.64344024658203, 70.77156829833984, 81.21280670166016, 354.5718078613281, 80.91876220703125, 155.1521759033203, 94.03941345214844, 819.3413696289062, 267.6648254394531, 297.42926025390625, 684.5570068359375, 1025.9727783203125, 497.2434997558594, 439.88897705078125, 382.74676513671875, 528.8998413085938, 370.5094299316406, 250.1961669921875, 583.13671875, 898.3419799804688, 274.7649230957031, 206.3519287109375, 1261.6175537109375, 343.970703125, 590.0203857421875, 457.65374755859375, 492.4588623046875, 906.7344360351562, 868.0237426757812, 229.185791015625, 216.9344024658203, 186.3555908203125, 93.66397094726562, 74.00630187988281, 40.65038299560547, 24.20574951171875, 20.93817901611328, 20.344791412353516, 18.66092872619629, 16.172176361083984, 15.52071762084961, 15.368600845336914, 12.655341148376465, 12.416090965270996, 11.375072479248047, 11.334829330444336, 10.111883163452148, 10.013638496398926, 9.778478622436523, 9.506606101989746, 9.385347366333008, 9.266923904418945, 9.233216285705566, 9.134986877441406, 8.779531478881836, 16.03936195373535, 8.150788307189941, 55.04485321044922, 29.602981567382812, 267.1517333984375, 150.9589080810547, 110.56519317626953, 491.962158203125, 18.991655349731445, 28.937362670898438, 64.70243835449219, 56.34360885620117, 138.0057830810547, 213.89254760742188, 87.77142333984375, 49.309818267822266, 34.344947814941406, 76.09295654296875, 305.6904602050781, 386.0994567871094, 322.97967529296875, 160.68556213378906, 253.3751220703125, 261.40924072265625, 82.4083480834961, 819.3413696289062, 169.57888793945312, 492.4588623046875, 982.6190185546875, 389.39019775390625, 280.8412170410156, 374.5428466796875, 264.6291809082031, 337.2597961425781, 457.65374755859375, 164.08670043945312, 428.2274475097656, 1261.6175537109375, 494.7119445800781, 28.491939544677734, 23.192779541015625, 16.56787872314453, 15.599181175231934, 14.434237480163574, 14.357178688049316, 13.996333122253418, 12.682242393493652, 12.376363754272461, 11.982032775878906, 11.88630199432373, 11.61386775970459, 10.133363723754883, 9.905179977416992, 9.45132827758789, 9.252388000488281, 9.188952445983887, 8.798203468322754, 8.679778099060059, 8.359928131103516, 8.143939971923828, 53.22063446044922, 7.783501625061035, 7.709209442138672, 7.708181858062744, 7.610167980194092, 7.532334804534912, 7.415500164031982, 7.357937812805176, 7.2559895515441895, 29.38042640686035, 45.896663665771484, 35.466796875, 18.173107147216797, 24.703271865844727, 65.19786834716797, 29.470643997192383, 19.05156707763672, 77.11807250976562, 92.80368041992188, 31.123294830322266, 101.07605743408203, 20.426454544067383, 41.48384094238281, 29.09135627746582, 182.38003540039062, 202.45263671875, 192.2665557861328, 253.3751220703125, 84.9623031616211, 162.08766174316406, 56.70936584472656, 40.35800552368164, 277.3660888671875, 177.89601135253906, 326.38385009765625, 107.97225952148438, 76.65892791748047, 491.962158203125, 261.40924072265625, 232.6122283935547, 494.7119445800781, 193.0819091796875, 266.4173583984375, 322.97967529296875, 457.65374755859375, 677.3753662109375, 439.88897705078125, 819.3413696289062, 1261.6175537109375, 898.3419799804688, 304.5564270019531, 1025.9727783203125, 443.4010009765625, 74.747314453125, 30.040300369262695, 25.71804428100586, 22.792463302612305, 21.809005737304688, 18.761871337890625, 16.781408309936523, 14.56257152557373, 14.165802001953125, 13.518732070922852, 12.508248329162598, 11.68411922454834, 11.680940628051758, 10.548746109008789, 10.368880271911621, 10.185160636901855, 9.902796745300293, 9.82394027709961, 9.683688163757324, 9.524259567260742, 9.459741592407227, 9.033034324645996, 8.877985000610352, 8.753301620483398, 8.056227684020996, 8.053288459777832, 7.6647820472717285, 7.5867815017700195, 7.5088934898376465, 7.5030670166015625, 102.14872741699219, 71.42278289794922, 25.168167114257812, 26.936735153198242, 17.068998336791992, 219.1884002685547, 497.2434997558594, 157.3544464111328, 88.00740051269531, 209.83273315429688, 982.6190185546875, 46.63241195678711, 42.47793197631836, 684.5570068359375, 382.74676513671875, 88.0401382446289, 31.855947494506836, 119.76579284667969, 243.32533264160156, 43.8243293762207, 280.8412170410156, 204.0164031982422, 528.8998413085938, 73.67288970947266, 244.4952392578125, 79.46145629882812, 119.7809829711914, 142.03240966796875, 428.2274475097656, 151.1785125732422, 104.12918853759766, 264.5650329589844, 148.12576293945312, 559.047607421875, 494.7119445800781, 99.34076690673828, 677.3753662109375, 1025.9727783203125, 424.3082580566406, 663.8682250976562, 439.88897705078125, 389.39019775390625, 354.5718078613281, 536.9533081054688, 898.3419799804688, 518.9933471679688, 235.9947509765625, 220.824462890625, 101.95652770996094, 49.090293884277344, 36.83694076538086, 19.411428451538086, 19.054292678833008, 17.918106079101562, 17.02678871154785, 15.099189758300781, 13.52973461151123, 13.339902877807617, 11.233766555786133, 10.414527893066406, 9.929366111755371, 8.998559951782227, 8.975568771362305, 8.970897674560547, 8.778311729431152, 8.703210830688477, 8.408886909484863, 8.374723434448242, 7.727764129638672, 7.724864959716797, 82.49900817871094, 7.844913959503174, 6.735668659210205, 132.68307495117188, 6.522933006286621, 45.742103576660156, 12.31840991973877, 68.5903091430664, 266.4173583984375, 161.71224975585938, 197.7637939453125, 27.94949722290039, 30.74701499938965, 97.2250747680664, 246.33494567871094, 40.96540832519531, 491.61798095703125, 38.698917388916016, 33.27862548828125, 215.13821411132812, 89.71817016601562, 102.62200927734375, 83.714111328125, 331.0719299316406, 90.14724731445312, 76.6188735961914, 148.16351318359375, 982.6190185546875, 213.45738220214844, 800.568115234375, 322.97967529296875, 202.45263671875, 389.39019775390625, 590.0203857421875, 326.38385009765625, 677.3753662109375, 1261.6175537109375, 496.9529724121094], \"loglift\": [30.0, 29.0, 28.0, 27.0, 26.0, 25.0, 24.0, 23.0, 22.0, 21.0, 20.0, 19.0, 18.0, 17.0, 16.0, 15.0, 14.0, 13.0, 12.0, 11.0, 10.0, 9.0, 8.0, 7.0, 6.0, 5.0, 4.0, 3.0, 2.0, 1.0, 1.9960999488830566, 1.9955999851226807, 1.9936000108718872, 1.9886000156402588, 1.9782999753952026, 1.9773999452590942, 1.9768999814987183, 1.972499966621399, 1.9699000120162964, 1.9634000062942505, 1.9581999778747559, 1.9505000114440918, 1.9443999528884888, 1.9371999502182007, 1.9327000379562378, 1.9300999641418457, 1.9294999837875366, 1.927299976348877, 1.9234000444412231, 1.9227999448776245, 1.9208999872207642, 1.9176000356674194, 1.9169000387191772, 1.9121999740600586, 1.9089000225067139, 1.9026000499725342, 1.902500033378601, 1.9006999731063843, 1.9004000425338745, 1.9002000093460083, 1.8804999589920044, 1.878000020980835, 1.7980999946594238, 1.780900001525879, 1.794800043106079, 1.878999948501587, 1.8258999586105347, 1.6806999444961548, 1.707200050354004, 1.7360999584197998, 1.8111000061035156, 1.7094999551773071, 1.826200008392334, 1.68340003490448, 1.399899959564209, 1.8154000043869019, 1.2020000219345093, 1.2493000030517578, 0.9595000147819519, 1.4184999465942383, 1.339400053024292, 1.4675999879837036, 1.0525000095367432, 0.9761999845504761, 1.1468000411987305, 1.3696999549865723, 1.2583999633789062, 1.3531999588012695, 0.6291000247001648, 0.27149999141693115, 0.5634999871253967, 0.7039999961853027, 0.8650000095367432, 0.6682000160217285, 0.193900004029274, 0.259799987077713, -0.10369999706745148, 0.5857999920845032, 0.17949999868869781, 0.7957000136375427, 0.25529998540878296, -0.5231999754905701, 2.061500072479248, 2.0613999366760254, 2.055799961090088, 2.053299903869629, 2.046799898147583, 2.039799928665161, 2.036799907684326, 2.0343000888824463, 2.0339999198913574, 2.0315001010894775, 2.030600070953369, 2.0302999019622803, 2.029099941253662, 2.026400089263916, 2.025700092315674, 2.0230000019073486, 2.0216000080108643, 2.0197999477386475, 2.0185000896453857, 2.0183000564575195, 2.0167999267578125, 2.0148000717163086, 2.0144999027252197, 2.0106000900268555, 2.0090999603271484, 2.0069000720977783, 2.0064001083374023, 2.003000020980835, 2.0023000240325928, 2.0018999576568604, 2.0004000663757324, 1.9545999765396118, 1.8274999856948853, 1.844099998474121, 1.8034000396728516, 1.8558000326156616, 1.9407999515533447, 1.8457000255584717, 1.7799999713897705, 1.657099962234497, 1.6456999778747559, 1.186900019645691, 1.4515999555587769, 1.1757999658584595, 1.034999966621399, 1.6060999631881714, 1.2940000295639038, 1.5757999420166016, 1.1651999950408936, 0.7077000141143799, 1.0494999885559082, 1.2582999467849731, 1.0236999988555908, 1.0861999988555908, 0.718999981880188, 1.2891000509262085, 0.9424999952316284, 0.926800012588501, 1.0219000577926636, 0.8802000284194946, 0.052799999713897705, -0.4101000130176544, 1.0144000053405762, 0.792900025844574, 0.1324000060558319, 0.5788999795913696, -0.09860000014305115, -0.1412999927997589, 0.16509999334812164, 1.9390000104904175, 1.9385000467300415, 1.9366999864578247, 1.9322999715805054, 1.930799961090088, 1.9306000471115112, 1.9290000200271606, 1.9276000261306763, 1.9244999885559082, 1.9234000444412231, 1.916599988937378, 1.9139000177383423, 1.9133000373840332, 1.9032000303268433, 1.9003000259399414, 1.8997000455856323, 1.8968000411987305, 1.8898999691009521, 1.8895000219345093, 1.8803999423980713, 1.8777999877929688, 1.8716000318527222, 1.8671000003814697, 1.8664000034332275, 1.8633999824523926, 1.860200047492981, 1.8552000522613525, 1.8531999588012695, 1.8490999937057495, 1.836899995803833, 1.8252999782562256, 1.7685999870300293, 1.7979999780654907, 1.816499948501587, 1.6655000448226929, 1.754699945449829, 1.6288000345230103, 1.5577000379562378, 1.407099962234497, 1.5870000123977661, 1.392199993133545, 1.1519999504089355, 1.097000002861023, 1.1822999715805054, 1.4990999698638916, 1.3410999774932861, 1.1820000410079956, 1.0404000282287598, 1.5528000593185425, 1.132099986076355, 0.8251000046730042, 1.0220999717712402, 0.9020000100135803, 1.166700005531311, 1.1495000123977661, 0.573199987411499, 0.4925999939441681, 0.04749999940395355, 0.5670999884605408, 0.14720000326633453, 1.8561999797821045, 1.8559999465942383, 1.8524999618530273, 1.8517999649047852, 1.8479000329971313, 1.8451000452041626, 1.8322999477386475, 1.8202999830245972, 1.8170000314712524, 1.8136999607086182, 1.812999963760376, 1.812600016593933, 1.8020000457763672, 1.801200032234192, 1.8009999990463257, 1.79830002784729, 1.7967000007629395, 1.795300006866455, 1.795199990272522, 1.7925000190734863, 1.791599988937378, 1.791100025177002, 1.7889000177383423, 1.7862999439239502, 1.781499981880188, 1.7807999849319458, 1.7806999683380127, 1.7798000574111938, 1.7776999473571777, 1.7759000062942505, 1.7716000080108643, 1.7529000043869019, 1.7532000541687012, 1.7558000087738037, 1.7510000467300415, 1.7437000274658203, 1.6469000577926636, 1.6303999423980713, 1.4884999990463257, 1.4457999467849731, 1.523900032043457, 1.598099946975708, 1.6196000576019287, 1.742900013923645, 1.561900019645691, 1.5154000520706177, 1.4984999895095825, 1.5476000308990479, 1.5088000297546387, 1.210800051689148, 1.5032000541687012, 1.3351999521255493, 1.4387999773025513, 0.9089000225067139, 1.1536999940872192, 1.0571000576019287, 0.765999972820282, 0.6111000180244446, 0.670799970626831, 0.7210000157356262, 0.7818999886512756, 0.6089000105857849, 0.7572000026702881, 0.8920999765396118, 0.3490999937057495, -0.04479999840259552, 0.7843999862670898, 0.9487000107765198, -0.5103999972343445, 0.5187000036239624, -0.0729999989271164, 0.1597999930381775, 0.059700001031160355, 1.9536999464035034, 1.9536999464035034, 1.951200008392334, 1.9509999752044678, 1.9503999948501587, 1.9462000131607056, 1.944000005722046, 1.9351999759674072, 1.9218000173568726, 1.916599988937378, 1.9155000448226929, 1.9119000434875488, 1.9050999879837036, 1.902999997138977, 1.902500033378601, 1.8909000158309937, 1.8897000551223755, 1.8834999799728394, 1.8832000494003296, 1.8741999864578247, 1.8733999729156494, 1.871399998664856, 1.868899941444397, 1.8676999807357788, 1.8666000366210938, 1.8661999702453613, 1.8653000593185425, 1.8615000247955322, 1.8585000038146973, 1.8538999557495117, 1.829300045967102, 1.8240000009536743, 1.6448999643325806, 1.6756999492645264, 1.6653000116348267, 1.5154000520706177, 1.8009999990463257, 1.7444000244140625, 1.6397000551223755, 1.6473000049591064, 1.5149999856948853, 1.403499960899353, 1.4986000061035156, 1.6079000234603882, 1.670699954032898, 1.455199956893921, 1.051800012588501, 0.9363999962806702, 0.9598000049591064, 1.1561000347137451, 0.9460999965667725, 0.8999999761581421, 1.3452999591827393, 0.36149999499320984, 1.0348999500274658, 0.5507000088691711, 0.20960000157356262, 0.626800000667572, 0.7825999855995178, 0.6262999773025513, 0.7968999743461609, 0.600600004196167, 0.39149999618530273, 1.0361000299453735, 0.2791000008583069, -0.7487000226974487, 0.05900000035762787, 2.498699903488159, 2.492300033569336, 2.4781999588012695, 2.4751999378204346, 2.470900058746338, 2.470599889755249, 2.469099998474121, 2.4630000591278076, 2.461400032043457, 2.4591000080108643, 2.4586000442504883, 2.456899881362915, 2.4463000297546387, 2.4444000720977783, 2.4402999877929688, 2.4384000301361084, 2.437700033187866, 2.4335999488830566, 2.432300090789795, 2.428499937057495, 2.4256999492645264, 2.4244000911712646, 2.4207000732421875, 2.4196999073028564, 2.4196999073028564, 2.418299913406372, 2.417099952697754, 2.415299892425537, 2.414299964904785, 2.412600040435791, 2.3864998817443848, 2.345900058746338, 2.317699909210205, 2.354300022125244, 2.3152999877929688, 2.187299966812134, 2.268899917602539, 2.3183000087738037, 2.100800037384033, 2.0281999111175537, 2.2014999389648438, 1.9745999574661255, 2.263200044631958, 2.0518999099731445, 2.108599901199341, 1.4634000062942505, 1.3901000022888184, 1.2855000495910645, 1.1353000402450562, 1.6008000373840332, 1.2992000579833984, 1.7680000066757202, 1.9270999431610107, 0.8729000091552734, 1.1083999872207642, 0.734000027179718, 1.3490999937057495, 1.5276000499725342, 0.41830000281333923, 0.7821000218391418, 0.8169999718666077, 0.2948000133037567, 0.9082000255584717, 0.6725000143051147, 0.5275999903678894, 0.24459999799728394, -0.0674000009894371, 0.25279998779296875, -0.25699999928474426, -0.6151999831199646, -0.49720001220703125, 0.4025999903678894, -0.7675999999046326, -0.0006000000284984708, 2.1205999851226807, 2.1048998832702637, 2.100399971008301, 2.096400022506714, 2.0947999954223633, 2.08870005607605, 2.0836000442504883, 2.076200008392334, 2.0745999813079834, 2.0710999965667725, 2.0669000148773193, 2.0622000694274902, 2.0622000694274902, 2.054500102996826, 2.053100109100342, 2.0517001152038574, 2.049299955368042, 2.0481998920440674, 2.0473999977111816, 2.0459001064300537, 2.045300006866455, 2.0409998893737793, 2.039400100708008, 2.0380001068115234, 2.029599905014038, 2.0290000438690186, 2.0241000652313232, 2.022900104522705, 2.0218000411987305, 2.0216000080108643, 1.9660999774932861, 1.9184000492095947, 1.9682999849319458, 1.942199945449829, 1.9641000032424927, 1.7055000066757202, 1.5822999477386475, 1.7138999700546265, 1.735700011253357, 1.5836999416351318, 1.3478000164031982, 1.7864999771118164, 1.7836999893188477, 1.2237999439239502, 1.3365999460220337, 1.6252000331878662, 1.8235000371932983, 1.4938000440597534, 1.2955000400543213, 1.7125999927520752, 1.2001999616622925, 1.2454999685287476, 0.9387000203132629, 1.5484000444412231, 1.1521999835968018, 1.5185999870300293, 1.3727999925613403, 1.3097000122070312, 0.887499988079071, 1.2315000295639038, 1.3865000009536743, 0.9445000290870667, 1.2127000093460083, 0.5390999913215637, 0.5787000060081482, 1.3961999416351318, 0.3465000092983246, 0.049300000071525574, 0.517799973487854, 0.22419999539852142, 0.45509999990463257, 0.4916999936103821, 0.5491999983787537, 0.11919999867677689, -0.5755000114440918, 2.3197999000549316, 2.318000078201294, 2.3178000450134277, 2.3136000633239746, 2.305299997329712, 2.2997000217437744, 2.2802000045776367, 2.2785000801086426, 2.276700019836426, 2.2743000984191895, 2.2681000232696533, 2.2618000507354736, 2.2609000205993652, 2.2492001056671143, 2.243299961090088, 2.239300012588501, 2.2304999828338623, 2.2302000522613525, 2.23009991645813, 2.2279999256134033, 2.2272000312805176, 2.2237000465393066, 2.223299980163574, 2.2146999835968018, 2.214600086212158, 2.2088000774383545, 2.206899881362915, 2.197999954223633, 2.1975998878479004, 2.193700075149536, 2.160399913787842, 2.185699939727783, 2.0894999504089355, 1.9840999841690063, 2.0000998973846436, 1.965000033378601, 2.119800090789795, 2.0862998962402344, 1.958899974822998, 1.798699975013733, 2.0250000953674316, 1.5961999893188477, 1.9924999475479126, 2.0118000507354736, 1.5907000303268433, 1.7742999792099, 1.6996999979019165, 1.7417999505996704, 1.2130999565124512, 1.6440999507904053, 1.6950000524520874, 1.4270000457763672, 0.6083999872207642, 1.0942000150680542, 0.39100000262260437, 0.8628000020980835, 1.0937999486923218, 0.6589999794960022, 0.3009999990463257, 0.6956999897956848, 0.11630000174045563, -0.4007999897003174, 0.257999986410141], \"logprob\": [30.0, 29.0, 28.0, 27.0, 26.0, 25.0, 24.0, 23.0, 22.0, 21.0, 20.0, 19.0, 18.0, 17.0, 16.0, 15.0, 14.0, 13.0, 12.0, 11.0, 10.0, 9.0, 8.0, 7.0, 6.0, 5.0, 4.0, 3.0, 2.0, 1.0, -2.8661999702453613, -3.5917999744415283, -4.423799991607666, -4.896200180053711, -6.102700233459473, -6.14769983291626, -6.171899795532227, -6.370500087738037, -6.473499774932861, -4.06879997253418, -6.836100101470947, -7.0208001136779785, -7.144499778747559, -7.277400016784668, -7.350500106811523, -7.393099784851074, -7.402299880981445, -6.039899826049805, -7.491300106048584, -7.50029993057251, -7.525300025939941, -7.569799900054932, -7.5792999267578125, -7.635499954223633, -7.677199840545654, -7.75029993057251, -7.750500202178955, -7.771200180053711, -7.774199962615967, -7.775000095367432, -5.816400051116943, -6.150000095367432, -4.9899001121521, -4.996699810028076, -5.433899879455566, -7.274099826812744, -6.684899806976318, -5.247700214385986, -5.818900108337402, -6.303299903869629, -6.833899974822998, -6.3607001304626465, -6.976600170135498, -6.257800102233887, -4.940100193023682, -6.923900127410889, -4.69950008392334, -5.001500129699707, -4.056300163269043, -5.605800151824951, -5.37470006942749, -5.911799907684326, -5.045000076293945, -4.9145002365112305, -5.285399913787842, -5.721499919891357, -5.523600101470947, -5.701200008392334, -4.669000148773193, -4.404699802398682, -4.926599979400635, -5.0619001388549805, -5.2256999015808105, -5.061600208282471, -4.93720006942749, -5.176400184631348, -5.029900074005127, -5.389999866485596, -5.268400192260742, -5.468999862670898, -5.36329984664917, -5.406199932098389, -5.025100231170654, -5.0295000076293945, -5.60860013961792, -5.809899806976318, -6.172599792480469, -6.45550012588501, -6.537300109863281, -6.635300159454346, -6.643799781799316, -6.7164998054504395, -5.396200180053711, -6.733799934387207, -6.7795000076293945, -6.848400115966797, -6.864799976348877, -6.928599834442139, -6.958199977874756, -5.043300151824951, -7.023600101470947, -7.02869987487793, -7.059500217437744, -7.097599983215332, -7.104700088500977, -7.161799907684326, -7.202600002288818, -7.239500045776367, -7.247499942779541, -7.303199768066406, -7.312600135803223, -7.3171000480651855, -5.093100070953369, -4.910999774932861, -4.137700080871582, -5.457099914550781, -5.3668999671936035, -6.010300159454346, -6.69379997253418, -6.185400009155273, -5.8780999183654785, -5.655700206756592, -5.664700031280518, -4.343599796295166, -5.255300045013428, -4.792699813842773, -4.581999778747559, -5.925000190734863, -5.255099773406982, -5.88070011138916, -5.106800079345703, -4.30810022354126, -4.965799808502197, -5.446899890899658, -5.1072998046875, -5.2291998863220215, -4.971199989318848, -5.584199905395508, -5.254000186920166, -5.2891998291015625, -5.4440999031066895, -5.400199890136719, -5.078199863433838, -5.086299896240234, -5.513700008392334, -5.471799850463867, -5.38100004196167, -5.45989990234375, -5.396699905395508, -5.428899765014648, -5.453499794006348, -3.5023999214172363, -3.84060001373291, -4.513000011444092, -5.285099983215332, -5.466599941253662, -5.482800006866455, -5.635000228881836, -3.6124000549316406, -5.976799964904785, -6.042699813842773, -6.384699821472168, -6.489799976348877, -6.513299942016602, -6.83489990234375, -4.714700222015381, -6.927299976348877, -6.959499835968018, -7.1483001708984375, -7.156499862670898, -5.077499866485596, -7.368800163269043, -7.467400074005127, -7.5329999923706055, -5.903900146484375, -7.584000110626221, -7.626200199127197, -7.688600063323975, -7.713600158691406, -7.76170015335083, -7.893099784851074, -6.604100227355957, -4.3516998291015625, -6.072299957275391, -6.559199810028076, -4.69379997253418, -6.038400173187256, -5.2754998207092285, -4.920400142669678, -4.106299877166748, -5.5289998054504395, -4.701600074768066, -3.7309999465942383, -3.579200029373169, -3.948699951171875, -5.269599914550781, -4.780099868774414, -4.42579984664917, -4.407599925994873, -5.66379976272583, -5.068399906158447, -4.611100196838379, -4.946400165557861, -4.854700088500977, -5.322500228881836, -5.337200164794922, -5.0391998291015625, -5.052999973297119, -5.060400009155273, -5.198800086975098, -5.151000022888184, -4.258399963378906, -4.394199848175049, -5.183800220489502, -5.249599933624268, -5.71150016784668, -5.9430999755859375, -5.859600067138672, -6.979499816894531, -7.060299873352051, -7.137800216674805, -7.15369987487793, -7.0457000732421875, -7.3744001388549805, -7.388700008392334, -7.393199920654297, -7.439899921417236, -7.4664998054504395, -7.488699913024902, -7.490600109100342, -7.532800197601318, -7.547800064086914, -7.555099964141846, -7.5879998207092285, -7.625999927520752, -7.691800117492676, -7.7017998695373535, -7.702099800109863, -7.714200019836426, -7.742099761962891, -7.7642998695373535, -6.264699935913086, -4.834000110626221, -5.621099948883057, -5.796899795532227, -6.71750020980835, -6.7743000984191895, -5.755099773406982, -5.575099945068359, -4.233399868011475, -3.872499942779541, -4.820899963378906, -5.752799987792969, -5.964200019836426, -7.0507001876831055, -5.904799938201904, -5.6219000816345215, -5.686600208282471, -6.009300231933594, -5.9105000495910645, -4.7347002029418945, -5.9197001457214355, -5.436699867248535, -5.833799839019775, -4.19890022277832, -5.07289981842041, -5.064000129699707, -4.521500110626221, -4.271900177001953, -4.936500072479248, -5.008900165557861, -5.087100028991699, -4.936600208282471, -5.1442999839782715, -5.402100086212158, -5.098800182342529, -5.0605998039245605, -5.416100025177002, -5.538099765777588, -5.186699867248535, -5.457099914550781, -5.509200096130371, -5.530399799346924, -5.557199954986572, -3.052799940109253, -3.096400022506714, -4.430600166320801, -4.485799789428711, -4.638299942016602, -5.330399990081787, -5.56820011138916, -6.17609977722168, -6.708000183105469, -6.8582000732421875, -6.8881001472473145, -6.978099822998047, -7.127999782562256, -7.171199798583984, -7.181600093841553, -7.387400150299072, -7.407700061798096, -7.501399993896484, -7.505300045013428, -7.628399848937988, -7.638999938964844, -7.66480016708374, -7.695499897003174, -7.709499835968018, -7.723299980163574, -7.72730016708374, -7.738999843597412, -7.78249979019165, -7.182799816131592, -7.864299774169922, -5.979000091552734, -6.604499816894531, -4.583700180053711, -5.123600006103516, -5.445499897003174, -4.102499961853027, -7.071400165557861, -6.7067999839782715, -6.006800174713135, -6.137599945068359, -5.374100208282471, -5.047399997711182, -5.8429999351501465, -6.310299873352051, -6.6092000007629395, -6.029200077056885, -5.041999816894531, -4.923799991607666, -5.078999996185303, -5.5808000564575195, -5.335299968719482, -5.350299835205078, -6.0594000816345215, -4.746300220489502, -5.648099899291992, -5.066199779510498, -4.7164998054504395, -5.224999904632568, -5.395999908447266, -5.2642998695373535, -5.441100120544434, -5.394899845123291, -5.298699855804443, -5.679900169372559, -5.47760009765625, -5.425000190734863, -5.553400039672852, -5.9679999351501465, -6.180300235748291, -6.530600070953369, -6.593999862670898, -6.675899982452393, -6.68149995803833, -6.708499908447266, -6.813199996948242, -6.839200019836426, -6.873799800872803, -6.882400035858154, -6.907299995422363, -7.054200172424316, -7.07889986038208, -7.129899978637695, -7.15310001373291, -7.160600185394287, -7.208199977874756, -7.223100185394287, -7.264500141143799, -7.293300151824951, -5.417500019073486, -7.343599796295166, -7.3541998863220215, -7.354400157928467, -7.368599891662598, -7.380099773406982, -7.397500038146973, -7.406199932098389, -7.421899795532227, -6.049600124359131, -5.644100189208984, -5.930099964141846, -6.562099933624268, -6.294099807739258, -5.451600074768066, -6.164100170135498, -6.550899982452393, -5.370200157165527, -5.257699966430664, -6.1768999099731445, -5.225900173187256, -6.536300182342529, -6.039100170135498, -6.337299823760986, -5.146900177001953, -5.115699768066406, -5.271999835968018, -5.146100044250488, -5.7733001708984375, -5.428999900817871, -6.01039981842041, -6.191400051116943, -5.3180999755859375, -5.526800155639648, -5.294300079345703, -5.785399913787842, -5.949399948120117, -5.199699878692627, -5.468100070953369, -5.549900054931641, -5.317599773406982, -5.644999980926514, -5.558800220489502, -5.511199951171875, -5.445700168609619, -5.365499973297119, -5.4770002365112305, -5.364799976348877, -5.291399955749512, -5.513000011444092, -5.694900035858154, -5.650599956512451, -5.722499847412109, -5.3815999031066895, -6.309000015258789, -6.468800067901611, -6.593599796295166, -6.6392998695373535, -6.79580020904541, -6.912499904632568, -7.061699867248535, -7.09089994430542, -7.141200065612793, -7.223100185394287, -7.295899868011475, -7.296199798583984, -7.405900001525879, -7.4243998527526855, -7.44379997253418, -7.474299907684326, -7.483399868011475, -7.498499870300293, -7.516600131988525, -7.52400016784668, -7.57450008392334, -7.593400001525879, -7.60890007019043, -7.700300216674805, -7.701300144195557, -7.75570011138916, -7.767000198364258, -7.778500080108643, -7.779399871826172, -5.223800182342529, -5.62939977645874, -6.622499942779541, -6.580699920654297, -7.014999866485596, -4.720900058746338, -4.025000095367432, -5.043900012969971, -5.603300094604492, -4.886300086975098, -3.5782999992370605, -6.187600135803223, -6.283699989318848, -4.063700199127197, -4.532299995422363, -5.713399887084961, -6.531700134277344, -5.5370001792907715, -5.026400089263916, -6.323599815368652, -4.978400230407715, -5.252600193023682, -4.606900215148926, -5.968400001525879, -5.164999961853027, -5.922500133514404, -5.657899856567383, -5.550600051879883, -4.869200229644775, -5.566400051116943, -5.784200191497803, -5.293700218200684, -5.605599880218506, -4.951000213623047, -5.033699989318848, -5.821599960327148, -4.951600074768066, -4.833700180053711, -5.2480998039245605, -5.094099998474121, -5.274700164794922, -5.360099792480469, -5.396200180053711, -5.411200046539307, -5.591300010681152, -3.2446999549865723, -4.034599781036377, -4.101200103759766, -4.878200054168701, -5.617400169372559, -5.910099983215332, -6.570300102233887, -6.5904998779296875, -6.653900146484375, -6.707300186157227, -6.833600044250488, -6.949699878692627, -6.964700222015381, -7.1483001708984375, -7.229899883270264, -7.281599998474121, -7.388800144195557, -7.391600131988525, -7.392300128936768, -7.415999889373779, -7.42549991607666, -7.463399887084961, -7.467800140380859, -7.5569000244140625, -7.557300090789795, -5.194799900054932, -7.549600124359131, -7.710999965667725, -4.730800151824951, -7.747399806976318, -5.832900047302246, -7.11959981918335, -5.498700141906738, -4.247200012207031, -4.730400085449219, -4.564300060272217, -6.366099834442139, -6.304299831390381, -5.280399799346924, -4.511000156402588, -6.07859992980957, -4.02239990234375, -6.168099880218506, -6.299600124359131, -4.854400157928467, -5.545400142669678, -5.485599994659424, -5.64709997177124, -4.801000118255615, -5.670899868011475, -5.78249979019165, -5.39109992980957, -4.317699909210205, -5.358799934387207, -4.740099906921387, -5.175899982452393, -5.4120001792907715, -5.192699909210205, -5.135200023651123, -5.332499980926514, -5.18179988861084, -5.077000141143799, -5.349899768829346]}, \"token.table\": {\"Topic\": [1, 3, 4, 5, 7, 1, 3, 4, 6, 3, 1, 4, 1, 2, 3, 4, 5, 7, 1, 4, 7, 2, 2, 3, 4, 5, 6, 4, 4, 7, 4, 4, 2, 3, 4, 5, 7, 7, 6, 3, 3, 4, 8, 1, 2, 3, 4, 5, 6, 7, 8, 2, 5, 1, 2, 7, 4, 8, 1, 5, 1, 2, 4, 5, 7, 4, 2, 3, 4, 5, 6, 7, 8, 8, 1, 2, 5, 6, 7, 1, 2, 3, 4, 5, 7, 1, 2, 3, 8, 3, 6, 7, 8, 2, 5, 8, 1, 2, 3, 4, 5, 6, 7, 8, 1, 6, 1, 2, 4, 5, 1, 3, 3, 3, 4, 8, 1, 2, 3, 5, 6, 8, 3, 2, 7, 1, 4, 5, 7, 8, 5, 1, 3, 3, 6, 4, 1, 3, 4, 8, 5, 6, 7, 5, 7, 8, 1, 2, 3, 4, 5, 6, 7, 8, 2, 3, 4, 5, 6, 7, 8, 5, 1, 2, 4, 5, 6, 7, 8, 2, 4, 5, 6, 7, 2, 8, 2, 1, 3, 4, 5, 6, 7, 8, 3, 4, 5, 6, 7, 8, 4, 1, 4, 7, 8, 4, 7, 2, 2, 8, 5, 3, 5, 4, 3, 3, 7, 3, 5, 7, 3, 3, 1, 2, 4, 6, 8, 1, 2, 3, 4, 5, 8, 4, 7, 2, 6, 5, 6, 7, 8, 8, 8, 7, 2, 5, 2, 1, 2, 3, 5, 7, 8, 2, 4, 1, 1, 2, 3, 4, 6, 7, 8, 1, 5, 6, 7, 6, 7, 8, 2, 6, 8, 2, 4, 6, 8, 4, 5, 6, 7, 8, 7, 6, 1, 3, 1, 5, 8, 1, 7, 7, 5, 6, 1, 7, 6, 5, 6, 2, 6, 4, 5, 7, 3, 7, 7, 5, 4, 1, 6, 1, 2, 3, 4, 5, 6, 7, 1, 4, 5, 7, 2, 4, 6, 1, 4, 5, 7, 1, 4, 5, 6, 7, 8, 2, 7, 7, 1, 5, 3, 5, 1, 2, 3, 4, 5, 6, 7, 1, 2, 3, 4, 5, 6, 7, 8, 4, 2, 4, 5, 7, 5, 3, 3, 8, 5, 2, 8, 3, 1, 5, 6, 7, 8, 1, 2, 3, 4, 5, 6, 8, 7, 1, 2, 4, 2, 1, 2, 3, 4, 5, 7, 8, 2, 5, 7, 6, 1, 2, 3, 8, 6, 7, 4, 6, 7, 1, 3, 4, 6, 1, 2, 3, 4, 5, 6, 7, 8, 5, 2, 7, 8, 5, 6, 8, 6, 5, 5, 1, 7, 8, 2, 4, 6, 1, 5, 1, 2, 4, 5, 6, 2, 2, 1, 5, 6, 1, 1, 1, 1, 1, 1, 3, 4, 7, 1, 2, 5, 6, 7, 8, 1, 4, 5, 6, 7, 8, 7, 4, 8, 8, 4, 7, 2, 4, 5, 6, 7, 4, 6, 7, 2, 4, 5, 7, 4, 1, 2, 3, 4, 5, 6, 7, 8, 5, 1, 2, 3, 4, 5, 6, 7, 8, 1, 3, 4, 5, 6, 7, 1, 2, 4, 5, 6, 7, 8, 1, 2, 3, 4, 5, 6, 7, 8, 6, 2, 3, 5, 7, 8, 1, 2, 4, 7, 1, 2, 3, 4, 5, 6, 7, 8, 5, 8, 3, 3, 6, 2, 1, 2, 3, 4, 7, 8, 1, 3, 4, 1, 2, 3, 5, 6, 7, 8, 1, 5, 5, 5, 1, 1, 3, 4, 5, 6, 7, 2, 1, 3, 4, 3, 6, 7, 7, 3, 1, 1, 7, 1, 2, 5, 6, 8, 1, 2, 3, 4, 5, 6, 7, 8, 1, 6, 4, 7, 2, 1, 3, 4, 5, 6, 7, 8, 1, 3, 5, 6, 2, 1, 2, 3, 4, 6, 7, 8, 3, 5, 7, 8, 3, 5, 6, 3, 7, 1, 2, 3, 4, 5, 6, 7, 8, 4, 7, 1, 6, 7, 8, 1, 5, 6, 7, 8, 8, 3, 1, 2, 3, 4, 5, 6, 7, 8, 1, 3, 4, 7, 8, 1, 1, 3, 7, 1, 4, 7, 8, 1, 6, 7, 8, 1, 2, 3, 4, 5, 6, 7, 8, 3, 4, 5, 7, 4, 3, 5, 7, 8, 2, 4, 5, 7, 1, 2, 3, 5, 6, 8, 2, 6, 8, 1, 2, 4, 6, 7, 2, 3, 4, 5, 6, 7, 8, 1, 2, 3, 4, 5, 6, 7, 3, 4, 2, 1, 4, 6, 6, 8, 4, 6, 5, 8, 6, 2, 8, 2, 4, 4, 1, 5, 6, 1, 5, 7, 8, 1, 2, 4, 7, 3, 6, 1, 8, 2, 4, 5, 6, 8, 2, 4, 5, 6, 1, 2, 3, 4, 6, 7, 8, 5, 8, 2, 3, 6, 1, 5, 1, 2, 3, 4, 5, 6, 7, 8, 2, 6, 7, 2, 4, 5, 6, 7, 8, 1, 2, 6, 7, 8, 2, 3, 5, 6, 2, 7, 1, 6, 2, 3, 1, 6, 2, 3, 7, 4, 5, 4, 4, 1, 2, 3, 4, 5, 7, 6, 3, 4, 8, 2, 4, 5, 7, 2, 2, 4, 8, 6, 7, 5, 1, 2, 4, 7, 3, 4, 5, 6, 7, 8, 3, 2, 4, 6, 7, 1, 2, 4, 7, 8, 5, 4, 1, 2, 3, 8, 1, 5, 7, 8, 1, 2, 8, 6, 2, 6, 8, 1, 5, 2, 5, 8, 7, 3, 4, 8, 8, 1, 2, 3, 4, 5, 7, 8, 1, 3, 1, 3, 3, 2, 8, 2, 2, 4, 4, 5, 7, 8, 1, 3, 2, 8, 1, 3, 4, 5, 6, 7, 8, 7, 8, 1, 2, 3, 6, 6, 7, 1, 2, 3, 4, 8, 4, 8, 8, 1, 2, 3, 4, 6, 7, 8, 1, 2, 3, 4, 5, 6, 8, 5, 1, 8, 2, 5, 8, 1, 2, 5, 8, 5, 1, 4, 5, 7, 8, 4, 7, 4, 7, 1, 4, 7, 1, 1, 5, 6, 8, 4, 1, 1, 2, 3, 4, 5, 7, 7, 3, 1, 2, 4, 6, 7, 1, 2, 3, 4, 5, 8, 4, 7, 8, 2, 1, 2, 4, 1, 2, 3, 4, 5, 6, 7, 1, 3, 4, 2, 1, 7, 1, 2, 3, 6, 7, 5, 6, 7, 6, 4, 8, 2, 4, 5, 6, 7, 2, 3, 4, 5, 1, 2, 3, 4, 5, 6, 7, 8, 2, 3, 4, 5, 1, 4, 6, 7, 5, 8, 1, 2, 4, 5, 7, 8, 1, 4, 5, 7, 8, 4, 6, 6, 6, 5, 3, 6, 8, 2, 4, 8, 1, 2, 3, 4, 5, 6, 7, 8, 5, 3, 6, 1, 2, 4, 5, 6, 7, 8, 7, 1, 2, 3, 4, 6, 7, 1, 3, 6, 1, 2, 5, 6, 7, 1, 2, 3, 5, 8, 1, 2, 4, 5, 8, 1, 2, 3, 8, 4, 1, 1, 2, 5, 8, 1, 2, 3, 4, 5, 6, 1, 2, 3, 4, 5, 6, 7, 3, 1, 2, 4, 3, 7, 3, 2, 6, 8, 6, 3, 1, 2, 3, 4, 5, 3, 4, 1, 3, 4, 7, 1, 2, 3, 4, 5, 6, 7, 8, 4, 1, 2, 3, 4, 5, 6, 7, 8, 1, 3, 4, 5, 6, 7, 1, 2, 3, 4, 5, 6, 7, 8, 4, 4, 5, 7, 8, 6, 7, 1, 3, 6, 2, 1, 2, 3, 4, 5, 6, 8, 5, 6, 7, 8, 5, 1, 2, 3, 4, 5, 8, 6, 1, 2, 3, 4, 6, 7, 8, 8, 2, 3, 4, 5, 6, 8], \"Freq\": [0.031901516020298004, 0.2764798104763031, 0.6592980027198792, 0.031901516020298004, 0.9088341593742371, 0.07387997210025787, 0.2093265950679779, 0.7018597722053528, 0.012313328683376312, 0.9187042713165283, 0.18154345452785492, 0.8108940720558167, 0.162912055850029, 0.0685945451259613, 0.4064227044582367, 0.22121742367744446, 0.04287159442901611, 0.09774722903966904, 0.07062622159719467, 0.8945987820625305, 0.023542072623968124, 0.9788615703582764, 0.9184556603431702, 0.9235953092575073, 0.9004946947097778, 0.056280918419361115, 0.028140459209680557, 0.9945815205574036, 0.9593329429626465, 0.9322279095649719, 0.9793674945831299, 0.9915673136711121, 0.09667927771806717, 0.18691326677799225, 0.5929661989212036, 0.11601512879133224, 0.006445284932851791, 0.9644243121147156, 0.9569460153579712, 0.978583037853241, 0.9489546418190002, 0.886640727519989, 0.07388672977685928, 0.018122950568795204, 0.19029097259044647, 0.15102458000183105, 0.051348358392715454, 0.10873769968748093, 0.03020491637289524, 0.12081966549158096, 0.3292335867881775, 0.9684193730354309, 0.9551929235458374, 0.8842686414718628, 0.9911690354347229, 0.9417049884796143, 0.13117018342018127, 0.8526061773300171, 0.9808236360549927, 0.9501875042915344, 0.1014450266957283, 0.04347644001245499, 0.04347644001245499, 0.6449005007743835, 0.15941360592842102, 0.955418050289154, 0.009340830147266388, 0.35495156049728394, 0.14244766533374786, 0.18681660294532776, 0.01634645275771618, 0.28723055124282837, 0.8901733756065369, 0.9064022898674011, 0.11992792040109634, 0.08333974331617355, 0.6443585157394409, 0.1219606027007103, 0.02845747396349907, 0.24420684576034546, 0.15117566287517548, 0.07268060743808746, 0.2616502046585083, 0.1133817508816719, 0.15699011087417603, 0.12780596315860748, 0.613468587398529, 0.19170893728733063, 0.06390298157930374, 0.05142706260085106, 0.1234249472618103, 0.1234249472618103, 0.6994080543518066, 0.05256728455424309, 0.604523777961731, 0.3285455107688904, 0.2379046082496643, 0.12700170278549194, 0.16456559300422668, 0.10017035901546478, 0.05008517950773239, 0.060817718505859375, 0.2039182335138321, 0.05366269126534462, 0.1958244889974594, 0.7832979559898376, 0.29883846640586853, 0.27943336963653564, 0.21733707189559937, 0.2018129974603653, 0.04657597094774246, 0.9392820596694946, 0.9778483510017395, 0.7000840902328491, 0.09092001616954803, 0.20911602675914764, 0.09272971749305725, 0.45651552081108093, 0.09272971749305725, 0.22112470865249634, 0.00713305501267314, 0.1283949911594391, 0.932283878326416, 0.9372187852859497, 0.8856381773948669, 0.06821148842573166, 0.11693397909402847, 0.2143789678812027, 0.048722490668296814, 0.5359473824501038, 0.9670268297195435, 0.8389347195625305, 0.1258402019739151, 0.9770175814628601, 0.9180412292480469, 0.9836717247962952, 0.05845478177070618, 0.05845478177070618, 0.7014573812484741, 0.17536434531211853, 0.4321554899215698, 0.0864310935139656, 0.47056931257247925, 0.89018315076828, 0.0545010082423687, 0.0545010082423687, 0.09860087931156158, 0.004024525638669729, 0.4688572287559509, 0.08652730286121368, 0.07445372641086578, 0.03420846909284592, 0.10463766753673553, 0.12677255272865295, 0.01644916832447052, 0.14804251492023468, 0.09869500994682312, 0.21932224929332733, 0.3454325497150421, 0.13707640767097473, 0.027415281161665916, 0.9275189638137817, 0.030676772817969322, 0.10955990105867386, 0.33452290296554565, 0.09641271829605103, 0.00438239611685276, 0.40318045020103455, 0.01899038255214691, 0.3485054075717926, 0.32830217480659485, 0.08586364984512329, 0.040406420826911926, 0.20203211903572083, 0.8718094825744629, 0.08302947133779526, 0.9435230493545532, 0.07313206791877747, 0.08532074838876724, 0.07922641187906265, 0.39613205194473267, 0.03656603395938873, 0.09141508489847183, 0.23158489167690277, 0.11202002316713333, 0.08712667971849442, 0.4480800926685333, 0.11202002316713333, 0.06845667958259583, 0.17425335943698883, 0.9109552502632141, 0.009943127632141113, 0.7954502105712891, 0.1590900421142578, 0.02982938289642334, 0.33681920170783997, 0.6609282493591309, 0.9610300660133362, 0.11305134743452072, 0.8818004727363586, 0.9467101097106934, 0.9270073175430298, 0.05247211456298828, 0.9443570375442505, 0.9983816742897034, 0.8791504502296448, 0.1014404371380806, 0.7357898354530334, 0.22809486091136932, 0.029431594535708427, 0.8814884424209595, 0.9877859950065613, 0.9986363053321838, 0.2116052508354187, 0.15870393812656403, 0.47611182928085327, 0.15870393812656403, 0.047604989260435104, 0.14464592933654785, 0.585907518863678, 0.062252677977085114, 0.08788613229990005, 0.07140748202800751, 0.8760387897491455, 0.09733764082193375, 0.9676080346107483, 0.024810463190078735, 0.7551723718643188, 0.12586206197738647, 0.046370234340429306, 0.0728675127029419, 0.8890311121940613, 0.9061647057533264, 0.8692101240158081, 0.1013411432504654, 0.8782899379730225, 0.986674964427948, 0.057721540331840515, 0.409822940826416, 0.3982786536216736, 0.08658231049776077, 0.04617723450064659, 0.9788048267364502, 0.750469982624054, 0.23452186584472656, 0.9400690197944641, 0.036810532212257385, 0.09407135844230652, 0.10225147753953934, 0.28221407532691956, 0.044990651309490204, 0.3762854337692261, 0.06544094532728195, 0.019579295068979263, 0.05873788148164749, 0.05873788148164749, 0.8516992926597595, 0.12866587936878204, 0.7076622843742371, 0.1501101851463318, 0.09757044911384583, 0.09757044911384583, 0.7805635929107666, 0.6641806960105896, 0.18818452954292297, 0.06641807407140732, 0.0774877518415451, 0.9906611442565918, 0.10210879892110825, 0.884942889213562, 0.9720801115036011, 0.927202045917511, 0.9011054039001465, 0.9471435546875, 0.8349388837814331, 0.14734216034412384, 0.8297439217567444, 0.1382906585931778, 0.8907801508903503, 0.8037123084068298, 0.18796497583389282, 0.868893027305603, 0.9112103581428528, 0.9293267130851746, 0.8435972332954407, 0.1467125564813614, 0.9086154699325562, 0.3615865707397461, 0.6267500519752502, 0.948602020740509, 0.043118275701999664, 0.21898968517780304, 0.12318170070648193, 0.6524068117141724, 0.11717148870229721, 0.8202004432678223, 0.913267970085144, 0.9988206028938293, 0.9340197443962097, 0.8141276240348816, 0.17300210893154144, 0.06266272813081741, 0.14351786673069, 0.2546936571598053, 0.06872685998678207, 0.14958199858665466, 0.10713305324316025, 0.21224471926689148, 0.5915865898132324, 0.2011394500732422, 0.07099039107561111, 0.13014905154705048, 0.13572828471660614, 0.06786414235830307, 0.7804376482963562, 0.4507307708263397, 0.33197537064552307, 0.07557162642478943, 0.14034730195999146, 0.2637028992176056, 0.32053542137145996, 0.07956553250551224, 0.1022985428571701, 0.18641066551208496, 0.045466016978025436, 0.9500844478607178, 0.9653698205947876, 0.9414488077163696, 0.9637818336486816, 0.8664369583129883, 0.10530941188335419, 0.8424752950668335, 0.5523808002471924, 0.0376623272895813, 0.06695525348186493, 0.09206347167491913, 0.0753246545791626, 0.0376623272895813, 0.1380952000617981, 0.12429957836866379, 0.2641366124153137, 0.11394128203392029, 0.13983702659606934, 0.09322468191385269, 0.19680766761302948, 0.06732893735170364, 0.9396957159042358, 0.9302523136138916, 0.1092122346162796, 0.27909794449806213, 0.5460611581802368, 0.0728081613779068, 0.9760159850120544, 0.9326688647270203, 0.8972927331924438, 0.09613850712776184, 0.8757538795471191, 0.9751078486442566, 0.9962664246559143, 0.9396247267723083, 0.03339851647615433, 0.21709036827087402, 0.05844740569591522, 0.5260266661643982, 0.15029333531856537, 0.06992185860872269, 0.2600218951702118, 0.08740232139825821, 0.18354487419128418, 0.20976556837558746, 0.10269773006439209, 0.08740232139825821, 0.9161293506622314, 0.7554653286933899, 0.23608292639255524, 0.9277326464653015, 0.9253789782524109, 0.42675772309303284, 0.013766378164291382, 0.11471981555223465, 0.11013102531433105, 0.12848620116710663, 0.1514301598072052, 0.050476718693971634, 0.9750444293022156, 0.8900419473648071, 0.9593669176101685, 0.90927654504776, 0.0974283218383789, 0.27604690194129944, 0.03247610852122307, 0.5926889777183533, 0.7873368263244629, 0.15746736526489258, 0.9128313064575195, 0.06846234947443008, 0.9593925476074219, 0.11611761897802353, 0.0870882123708725, 0.7837939262390137, 0.9699161648750305, 0.003625262062996626, 0.3226483166217804, 0.2392672896385193, 0.11600838601589203, 0.1921388804912567, 0.03987788036465645, 0.047128405421972275, 0.036252621561288834, 0.994826078414917, 0.28249964118003845, 0.7062490582466125, 0.9198316335678101, 0.7948201894760132, 0.17278699576854706, 0.9113369584083557, 0.9615889191627502, 0.9980918765068054, 0.9645822048187256, 0.9395764470100403, 0.9629049897193909, 0.9601971507072449, 0.9334201216697693, 0.0622280091047287, 0.9695901274681091, 0.24419981241226196, 0.7506883144378662, 0.11353150010108948, 0.05886818468570709, 0.7148279547691345, 0.08409740775823593, 0.02522922307252884, 0.9887703657150269, 0.9931284785270691, 0.9056903123855591, 0.16192187368869781, 0.8096093535423279, 0.9946964979171753, 0.9705398082733154, 0.9600346088409424, 0.9783857464790344, 0.9976655840873718, 0.9300524592399597, 0.3661136329174042, 0.19009745121002197, 0.4365200996398926, 0.9090801477432251, 0.22602041065692902, 0.3684442341327667, 0.13623148202896118, 0.03715404123067856, 0.23221275210380554, 0.20522929728031158, 0.0986679345369339, 0.36309799551963806, 0.2486431896686554, 0.08288106322288513, 0.9906182885169983, 0.9226573705673218, 0.2584051489830017, 0.7235344648361206, 0.9772798418998718, 0.18201474845409393, 0.8120657801628113, 0.39825043082237244, 0.04630818963050842, 0.01852327585220337, 0.3056340515613556, 0.21301767230033875, 0.748863160610199, 0.05164573714137077, 0.19367150962352753, 0.004022174049168825, 0.30568525195121765, 0.11262087523937225, 0.5771819949150085, 0.9054017066955566, 0.17834247648715973, 0.08401912450790405, 0.4303998351097107, 0.09353072196245193, 0.06737382709980011, 0.04359482601284981, 0.03804639354348183, 0.06578855961561203, 0.8632853627204895, 0.14939254522323608, 0.3531096577644348, 0.078091561794281, 0.17995011806488037, 0.040743421763181686, 0.016976425424218178, 0.156183123588562, 0.03055756725370884, 0.3228427767753601, 0.15979087352752686, 0.08478698879480362, 0.15979087352752686, 0.08152595162391663, 0.1891402155160904, 0.04326412081718445, 0.0576854944229126, 0.1730564832687378, 0.2018992304801941, 0.19108320772647858, 0.19468854367733002, 0.13700304925441742, 0.273386150598526, 0.056562650948762894, 0.25217515230178833, 0.04713554307818413, 0.08720075339078903, 0.014140662737190723, 0.20032605528831482, 0.07070331275463104, 0.9439687132835388, 0.07833608239889145, 0.060532424598932266, 0.30978357791900635, 0.3952411413192749, 0.1566721647977829, 0.07550830394029617, 0.08809302747249603, 0.3020332157611847, 0.5411428809165955, 0.05649859830737114, 0.038521770387887955, 0.1104290783405304, 0.08474789559841156, 0.2645161747932434, 0.06163483485579491, 0.19517697393894196, 0.1900407373905182, 0.9482162594795227, 0.9513744115829468, 0.981965184211731, 0.9886296987533569, 0.908004879951477, 0.924008309841156, 0.16488291323184967, 0.13365508615970612, 0.46841734647750854, 0.017487581819295883, 0.06995032727718353, 0.14489710330963135, 0.916911780834198, 0.9870517253875732, 0.011280590668320656, 0.47458311915397644, 0.06506381183862686, 0.14160947501659393, 0.038272831588983536, 0.05358196422457695, 0.16840045154094696, 0.06123653054237366, 0.8827075362205505, 0.09053410589694977, 0.9704601168632507, 0.9864025115966797, 0.9884881377220154, 0.08089883625507355, 0.4542030692100525, 0.2875320017337799, 0.015594955533742905, 0.03703802078962326, 0.12475964426994324, 0.9457836151123047, 0.21108953654766083, 0.4440159201622009, 0.34211063385009766, 0.869818925857544, 0.03865861892700195, 0.0773172378540039, 0.9613686800003052, 0.9915286898612976, 0.8765531182289124, 0.7783153653144836, 0.2060246467590332, 0.07424230128526688, 0.26322269439697266, 0.1147380992770195, 0.1349859982728958, 0.4117073118686676, 0.253921240568161, 0.1151503324508667, 0.16682036221027374, 0.06938546150922775, 0.04281230270862579, 0.07529060542583466, 0.16829665005207062, 0.11072147637605667, 0.9739830493927002, 0.9198220372200012, 0.9525576829910278, 0.9479799866676331, 0.9651361107826233, 0.15587769448757172, 0.14788396656513214, 0.37970206141471863, 0.131896510720253, 0.07194355130195618, 0.0639498233795166, 0.043965499848127365, 0.013085131533443928, 0.5790171027183533, 0.40563908219337463, 0.9081259369850159, 0.9536636471748352, 0.26419928669929504, 0.016863783821463585, 0.028106307610869408, 0.26419928669929504, 0.2417142391204834, 0.17988036572933197, 0.8922978639602661, 0.056813403964042664, 0.23861630260944366, 0.6703981757164001, 0.03408804163336754, 0.2636391818523407, 0.7097977995872498, 0.9751219153404236, 0.9274386167526245, 0.932951807975769, 0.1452885866165161, 0.16604410111904144, 0.12749814987182617, 0.16604410111904144, 0.25796136260032654, 0.04447609931230545, 0.01482536643743515, 0.08005698025226593, 0.1484960913658142, 0.8167285323143005, 0.10373703390359879, 0.6483564376831055, 0.15560555458068848, 0.07780277729034424, 0.04636610299348831, 0.7264022827148438, 0.030910735949873924, 0.13909831643104553, 0.030910735949873924, 0.9552554488182068, 0.8756709098815918, 0.04157767817378044, 0.2041086107492447, 0.11339367181062698, 0.03779789060354233, 0.2078883945941925, 0.06803619861602783, 0.30616289377212524, 0.02645852230489254, 0.03919040411710739, 0.1541489213705063, 0.33965015411376953, 0.45199596881866455, 0.013063468039035797, 0.9132981300354004, 0.18834787607192993, 0.06278262287378311, 0.7220001816749573, 0.15213802456855774, 0.3770377039909363, 0.40349650382995605, 0.05953226983547211, 0.7262823581695557, 0.12450554966926575, 0.062252774834632874, 0.0830036997795105, 0.12950031459331512, 0.05180012434720993, 0.15281036496162415, 0.041440099477767944, 0.36001086235046387, 0.054390132427215576, 0.1061902567744255, 0.10101024061441422, 0.4555324614048004, 0.40222546458244324, 0.08722961694002151, 0.05330698937177658, 0.9793716669082642, 0.17748738825321198, 0.09983666241168976, 0.19967332482337952, 0.5102762579917908, 0.06671980768442154, 0.11914251744747162, 0.22875362634658813, 0.5766497850418091, 0.004939427133649588, 0.08890968561172485, 0.0790308341383934, 0.21239535510540009, 0.32106274366378784, 0.2914261817932129, 0.93860924243927, 0.8176661729812622, 0.16917231678962708, 0.19726675748825073, 0.14384034276008606, 0.14384034276008606, 0.07808475941419601, 0.43563076853752136, 0.06372036784887314, 0.15685012936592102, 0.16665326058864594, 0.171554833650589, 0.019606266170740128, 0.4117316007614136, 0.004901566542685032, 0.16634030640125275, 0.35989993810653687, 0.07863359898328781, 0.21473021805286407, 0.10887729376554489, 0.057463016360998154, 0.00907310750335455, 0.8689293265342712, 0.88234943151474, 0.9359943270683289, 0.0351591520011425, 0.9141379594802856, 0.0351591520011425, 0.8279469013214111, 0.15251652896404266, 0.9695692658424377, 0.8881552219390869, 0.9203885793685913, 0.948760986328125, 0.9827340841293335, 0.8918887376785278, 0.10617723315954208, 0.9769407510757446, 0.9983642101287842, 0.9987016916275024, 0.7310812473297119, 0.10551688075065613, 0.16581223905086517, 0.5640899538993835, 0.23227232694625854, 0.13272704184055328, 0.06636352092027664, 0.3019908368587494, 0.17112813889980316, 0.04026544466614723, 0.4831853210926056, 0.3093702495098114, 0.6531149744987488, 0.9371171593666077, 0.042596235871315, 0.7987390756607056, 0.06564978510141373, 0.01094163116067648, 0.09847468137741089, 0.02188326232135296, 0.6333805918693542, 0.15146057307720184, 0.2065371423959732, 0.928814709186554, 0.5170174241065979, 0.02433023229241371, 0.16422906517982483, 0.06082558259367943, 0.02433023229241371, 0.21288953721523285, 0.006082558073103428, 0.2983357012271881, 0.6978021264076233, 0.3295579254627228, 0.25893837213516235, 0.4001774787902832, 0.9613799452781677, 0.9664501547813416, 0.17626509070396423, 0.08304797857999802, 0.32710734009742737, 0.1440628170967102, 0.03898170217871666, 0.04406627267599106, 0.05084570124745369, 0.13219882547855377, 0.7945875525474548, 0.09081000834703445, 0.11351250857114792, 0.13849806785583496, 0.003743191249668598, 0.7336654663085938, 0.07860701531171799, 0.041175100952386856, 0.003743191249668598, 0.2817249894142151, 0.3756332993507385, 0.09390832483768463, 0.057161591947078705, 0.18781664967536926, 0.6515496373176575, 0.1656482219696045, 0.055216070264577866, 0.11043214052915573, 0.11919818818569183, 0.8343873620033264, 0.9193607568740845, 0.8269030451774597, 0.23891803622245789, 0.7594180703163147, 0.9195685982704163, 0.9522470831871033, 0.11358455568552017, 0.27260294556617737, 0.6019981503486633, 0.23293091356754303, 0.7570254802703857, 0.9110814929008484, 0.9688768982887268, 0.054008420556783676, 0.41344377398490906, 0.14526402950286865, 0.13595223426818848, 0.11546628177165985, 0.1340898722410202, 0.9513534903526306, 0.9585137963294983, 0.033052198588848114, 0.005508699920028448, 0.022998858243227005, 0.7704617381095886, 0.08049600571393967, 0.12649372220039368, 0.9016448855400085, 0.21008725464344025, 0.704410195350647, 0.08650651574134827, 0.9462049007415771, 0.9900020956993103, 0.9830526113510132, 0.18985247611999512, 0.3512270748615265, 0.3180028796195984, 0.14238935708999634, 0.19800883531570435, 0.4931540787220001, 0.07472031563520432, 0.11208046972751617, 0.05604023486375809, 0.07098429650068283, 0.9982488751411438, 0.008348570205271244, 0.3756856918334961, 0.15027427673339844, 0.46751996874809265, 0.09640467166900635, 0.0406707227230072, 0.6612758040428162, 0.14912597835063934, 0.052721306681632996, 0.9664877653121948, 0.9402977228164673, 0.1749325692653656, 0.14848928153514862, 0.19120536744594574, 0.48411571979522705, 0.1708984524011612, 0.6380208730697632, 0.1481119841337204, 0.0341796912252903, 0.07699808478355408, 0.808479905128479, 0.0962476059794426, 0.8646416664123535, 0.12761931121349335, 0.15764738619327545, 0.7131667733192444, 0.952897846698761, 0.8987742066383362, 0.06234661862254143, 0.9351993203163147, 0.8913084268569946, 0.9177030920982361, 0.14646503329277039, 0.09764336049556732, 0.7323251962661743, 0.9446690082550049, 0.06424083560705185, 0.0415676012635231, 0.2531844675540924, 0.17760701477527618, 0.31364643573760986, 0.10958731174468994, 0.03778872638940811, 0.5214791297912598, 0.4701860845088959, 0.8187641501426697, 0.17685306072235107, 0.9560180306434631, 0.9764196872711182, 0.9777900576591492, 0.9405574798583984, 0.9688864350318909, 0.924139678478241, 0.04373795539140701, 0.04373795539140701, 0.1166345551609993, 0.7872832417488098, 0.9346932768821716, 0.9945926070213318, 0.14311528205871582, 0.8229128122329712, 0.0790189728140831, 0.17198246717453003, 0.12085254490375519, 0.09296349436044693, 0.023240873590111732, 0.02788904868066311, 0.48341017961502075, 0.9616286158561707, 0.9058247208595276, 0.26089590787887573, 0.10435836017131805, 0.24785110354423523, 0.3652542531490326, 0.9019058346748352, 0.07515881955623627, 0.04831363633275032, 0.5374892354011536, 0.19325454533100128, 0.19325454533100128, 0.02415681816637516, 0.08117930591106415, 0.8929724097251892, 0.9745198488235474, 0.04736119136214256, 0.054127078503370285, 0.0022552949376404285, 0.6901202201843262, 0.07893531769514084, 0.10825415700674057, 0.015787063166499138, 0.060186002403497696, 0.10317600518465042, 0.15906301140785217, 0.13326899707317352, 0.15476401150226593, 0.1805580109357834, 0.20635201036930084, 0.984000563621521, 0.09697086364030838, 0.8969804644584656, 0.12019727379083633, 0.12019727379083633, 0.7211836576461792, 0.08038970828056335, 0.17933088541030884, 0.012367647141218185, 0.7235073447227478, 0.9991900324821472, 0.2714702785015106, 0.08144108206033707, 0.08144108206033707, 0.5565140843391418, 0.9192010164260864, 0.9703928828239441, 0.016173213720321655, 0.899867594242096, 0.09641437977552414, 0.90639328956604, 0.06972256302833557, 0.9293979406356812, 0.9370259046554565, 0.8939182758331299, 0.09751835465431213, 0.7068660259246826, 0.25704219937324524, 0.9345633387565613, 0.967522144317627, 0.03362799435853958, 0.1200999766588211, 0.6821678280830383, 0.024019993841648102, 0.03843199089169502, 0.09607997536659241, 0.9652313590049744, 0.9961428046226501, 0.13691025972366333, 0.06845512986183167, 0.09127350151538849, 0.022818375378847122, 0.6617329120635986, 0.14152705669403076, 0.0648665651679039, 0.017690882086753845, 0.3184358775615692, 0.40099331736564636, 0.05307264253497124, 0.9239296317100525, 0.9534360766410828, 0.9608466625213623, 0.9053003191947937, 0.10559175908565521, 0.7679400444030762, 0.124790258705616, 0.024579323828220367, 0.11155231297016144, 0.23444892466068268, 0.28738901019096375, 0.015125737525522709, 0.0226886048913002, 0.30440545082092285, 0.7535560727119446, 0.17811326682567596, 0.06850510090589523, 0.9380937814712524, 0.9309971332550049, 0.9514002203941345, 0.4752824604511261, 0.0781286209821701, 0.11068221181631088, 0.16276796162128448, 0.16276796162128448, 0.3232630491256714, 0.6034243702888489, 0.06465260684490204, 0.8993381857872009, 0.9693328738212585, 0.8917725086212158, 0.44613009691238403, 0.12660448253154755, 0.27129533886909485, 0.048230282962322235, 0.10248934477567673, 0.0449720062315464, 0.6424571871757507, 0.20558631420135498, 0.10279315710067749, 0.10720700025558472, 0.3179242014884949, 0.17374926805496216, 0.17005248367786407, 0.08132945001125336, 0.05175510421395302, 0.014787171967327595, 0.08502624183893204, 0.11059075593948364, 0.6836519241333008, 0.07037593424320221, 0.13069815933704376, 0.1554296463727951, 0.7347583174705505, 0.04238990321755409, 0.07064983993768692, 0.992911159992218, 0.9980860352516174, 0.12212260812520981, 0.04274291545152664, 0.02238914556801319, 0.17504240572452545, 0.4569421112537384, 0.18013085424900055, 0.04778166860342026, 0.3344716727733612, 0.011945417150855064, 0.03583625331521034, 0.5614346265792847, 0.41552868485450745, 0.5738252997398376, 0.9254350066184998, 0.8706106543540955, 0.8588126301765442, 0.8231977224349976, 0.07158240675926208, 0.0894780084490776, 0.7853305339813232, 0.13520342111587524, 0.07767005264759064, 0.07200905680656433, 0.08055250346660614, 0.1501205712556839, 0.38689613342285156, 0.20382225513458252, 0.062245119363069534, 0.034173790365457535, 0.010984432883560658, 0.9589415788650513, 0.11005272716283798, 0.8253954648971558, 0.36043938994407654, 0.032039057463407516, 0.08543749153614044, 0.2643222212791443, 0.05606835335493088, 0.12281639128923416, 0.07742772251367569, 0.9449553489685059, 0.05519530922174454, 0.30357420444488525, 0.19318358600139618, 0.20501114428043365, 0.11039061844348907, 0.1301032304763794, 0.9658806920051575, 0.03076053038239479, 0.8595348000526428, 0.2902938723564148, 0.14852243661880493, 0.060759179294109344, 0.1012653037905693, 0.39831018447875977, 0.0233762226998806, 0.1823345422744751, 0.1542830765247345, 0.5750551223754883, 0.0607781819999218, 0.12378532439470291, 0.45903724431991577, 0.21662431955337524, 0.19599343836307526, 0.005157721694558859, 0.10078320652246475, 0.04703216254711151, 0.843219518661499, 0.006718880496919155, 0.9603666067123413, 0.972666323184967, 0.11746452748775482, 0.09136129915714264, 0.2610322833061218, 0.5351161956787109, 0.04857774078845978, 0.17002208530902863, 0.4614885151386261, 0.1943109631538391, 0.12144435197114944, 0.009715547785162926, 0.353985458612442, 0.2560272216796875, 0.09907140582799911, 0.14916367828845978, 0.02560272254049778, 0.04897912219166756, 0.06678970903158188, 0.8925198316574097, 0.09287641942501068, 0.1950404793024063, 0.7058607339859009, 0.9668481349945068, 0.9139408469200134, 0.9357912540435791, 0.19939301908016205, 0.7055445313453674, 0.07668962329626083, 0.9216825366020203, 0.9815770983695984, 0.5321300625801086, 0.14190134406089783, 0.11529484391212463, 0.08868833631277084, 0.1241636723279953, 0.5480294823646545, 0.4471651613712311, 0.04794515296816826, 0.22280395030975342, 0.521756112575531, 0.20588213205337524, 0.20328687131404877, 0.40657374262809753, 0.1055527999997139, 0.09382470697164536, 0.05473107844591141, 0.05082171782851219, 0.01563745178282261, 0.07427789270877838, 0.903478741645813, 0.11949120461940765, 0.1623854786157608, 0.13174670934677124, 0.0796608030796051, 0.06740529835224152, 0.1654493659734726, 0.0765969306230545, 0.19608813524246216, 0.3874487280845642, 0.20685821771621704, 0.09193698316812515, 0.10178738087415695, 0.11820469796657562, 0.08537005633115768, 0.20804449915885925, 0.06761446595191956, 0.005201112478971481, 0.15603338181972504, 0.11962559074163437, 0.29126229882240295, 0.11962559074163437, 0.04160889983177185, 0.9536675810813904, 0.10031412541866302, 0.31208840012550354, 0.01114601455628872, 0.579592764377594, 0.9485710859298706, 0.8836385011672974, 0.2725605368614197, 0.1734476238489151, 0.5451210737228394, 0.9450811147689819, 0.03825419396162033, 0.07268296927213669, 0.2410014271736145, 0.08415922522544861, 0.34811317920684814, 0.17596930265426636, 0.042079612612724304, 0.7276779413223267, 0.05324472486972809, 0.1419859379529953, 0.07099296897649765, 0.9956926703453064, 0.10965383052825928, 0.35535964369773865, 0.07513318210840225, 0.16448074579238892, 0.24570579826831818, 0.048735033720731735, 0.9657241106033325, 0.15459761023521423, 0.21081490814685822, 0.03279343247413635, 0.046847760677337646, 0.04216298460960388, 0.21549968421459198, 0.2951408922672272, 0.9957848787307739, 0.04318650811910629, 0.08020351082086563, 0.08020351082086563, 0.3640005588531494, 0.2961360514163971, 0.13572902977466583], \"Term\": [\"10\", \"10\", \"10\", \"10\", \"130\", \"15\", \"15\", \"15\", \"15\", \"1800\", \"1st\", \"1st\", \"2\", \"2\", \"2\", \"2\", \"2\", \"2\", \"20\", \"20\", \"20\", \"200\", \"21\", \"24hrs\", \"25\", \"25\", \"25\", \"30\", \"3056\", \"350\", \"40\", \"45\", \"5\", \"5\", \"5\", \"5\", \"5\", \"600\", \"719\", \"800\", \"8004337300\", \"90\", \"90\", \"aa\", \"aa\", \"aa\", \"aa\", \"aa\", \"aa\", \"aa\", \"aa\", \"aadvantage\", \"absolute\", \"accommodation\", \"account\", \"accurate\", \"address\", \"address\", \"advise\", \"advisory\", \"again\", \"again\", \"again\", \"again\", \"again\", \"age\", \"agent\", \"agent\", \"agent\", \"agent\", \"agent\", \"agent\", \"ahold\", \"airfare\", \"airline\", \"airline\", \"airline\", \"airline\", \"airline\", \"airport\", \"airport\", \"airport\", \"airport\", \"airport\", \"airport\", \"airway\", \"airway\", \"airway\", \"airway\", \"always\", \"always\", \"always\", \"always\", \"amazing\", \"amazing\", \"amazing\", \"amp\", \"amp\", \"amp\", \"amp\", \"amp\", \"amp\", \"amp\", \"amp\", \"angry\", \"angry\", \"another\", \"another\", \"another\", \"another\", \"answer\", \"answer\", \"answering\", \"anyone\", \"anyone\", \"anyone\", \"anything\", \"anything\", \"anything\", \"anything\", \"anything\", \"anything\", \"apologize\", \"appease\", \"applied\", \"appreciate\", \"appreciate\", \"appreciate\", \"appreciate\", \"appreciate\", \"april\", \"area\", \"area\", \"automated\", \"automatically\", \"avail\", \"available\", \"available\", \"available\", \"available\", \"awesome\", \"awesome\", \"awesome\", \"awful\", \"awful\", \"awful\", \"back\", \"back\", \"back\", \"back\", \"back\", \"back\", \"back\", \"back\", \"bad\", \"bad\", \"bad\", \"bad\", \"bad\", \"bad\", \"bad\", \"badservice\", \"bag\", \"bag\", \"bag\", \"bag\", \"bag\", \"bag\", \"bag\", \"baggage\", \"baggage\", \"baggage\", \"baggage\", \"baggage\", \"bank\", \"bank\", \"battle\", \"best\", \"best\", \"best\", \"best\", \"best\", \"best\", \"best\", \"better\", \"better\", \"better\", \"better\", \"better\", \"better\", \"bin\", \"board\", \"board\", \"board\", \"board\", \"boarding\", \"boarding\", \"bonus\", \"booking\", \"booking\", \"bummer\", \"busy\", \"busy\", \"cab\", \"call\", \"callback\", \"callback\", \"called\", \"called\", \"called\", \"caller\", \"calling\", \"cancelled\", \"cannot\", \"cannot\", \"cannot\", \"cannot\", \"cant\", \"cant\", \"cant\", \"cant\", \"cant\", \"cant\", \"captain\", \"captain\", \"card\", \"card\", \"care\", \"care\", \"care\", \"care\", \"carrieunderwood\", \"cash\", \"catching\", \"center\", \"center\", \"ceo\", \"change\", \"change\", \"change\", \"change\", \"change\", \"character\", \"charge\", \"charge\", \"chat\", \"check\", \"check\", \"check\", \"check\", \"check\", \"check\", \"check\", \"checked\", \"checked\", \"checked\", \"checked\", \"checking\", \"checking\", \"checking\", \"choice\", \"choice\", \"choice\", \"claim\", \"claim\", \"claim\", \"claim\", \"class\", \"close\", \"close\", \"closed\", \"coat\", \"comfortable\", \"comp\", \"compensate\", \"compensate\", \"condition\", \"condition\", \"confirming\", \"connection\", \"connection\", \"consideration\", \"cont\", \"continuing\", \"control\", \"control\", \"costing\", \"counting\", \"counting\", \"credit\", \"credit\", \"crew\", \"crew\", \"crew\", \"crossed\", \"crossed\", \"curious\", \"customer\", \"d\", \"dallas\", \"dallas\", \"day\", \"day\", \"day\", \"day\", \"day\", \"day\", \"day\", \"dca\", \"dca\", \"dca\", \"dca\", \"dealing\", \"dealing\", \"dealing\", \"delay\", \"delay\", \"delay\", \"delay\", \"delayed\", \"delayed\", \"delayed\", \"delayed\", \"delayed\", \"delayed\", \"deliver\", \"delivered\", \"departed\", \"deplane\", \"deplaned\", \"dept\", \"dept\", \"dfw\", \"dfw\", \"dfw\", \"dfw\", \"dfw\", \"dfw\", \"dfw\", \"didnt\", \"didnt\", \"didnt\", \"didnt\", \"didnt\", \"didnt\", \"didnt\", \"diego\", \"dinner\", \"disappointed\", \"disappointed\", \"disappointed\", \"disappointed\", \"disappointing\", \"disconnect\", \"disconnected\", \"disconnected\", \"disregard\", \"dividend\", \"dm\", \"dmd\", \"done\", \"done\", \"done\", \"done\", \"done\", \"dont\", \"dont\", \"dont\", \"dont\", \"dont\", \"dont\", \"dont\", \"dozen\", \"drive\", \"drive\", \"drove\", \"drunk\", \"due\", \"due\", \"due\", \"due\", \"due\", \"due\", \"due\", \"earn\", \"easier\", \"east\", \"el\", \"email\", \"email\", \"email\", \"email\", \"emergency\", \"emergency\", \"empty\", \"empty\", \"engine\", \"enough\", \"enough\", \"enough\", \"enter\", \"even\", \"even\", \"even\", \"even\", \"even\", \"even\", \"even\", \"even\", \"ever\", \"everything\", \"everything\", \"exchange\", \"excuse\", \"excuse\", \"existing\", \"exit\", \"experience\", \"experienced\", \"fails\", \"fantastic\", \"february\", \"fee\", \"fee\", \"filmcrew\", \"finally\", \"finally\", \"first\", \"first\", \"first\", \"first\", \"first\", \"fleek\", \"fleet\", \"flightations\", \"flightd\", \"flightd\", \"flighted\", \"flighting\", \"flightlation\", \"flightlations\", \"flightled\", \"flightling\", \"flightr\", \"flightr\", \"flightr\", \"flts\", \"fly\", \"fly\", \"fly\", \"fly\", \"fly\", \"flying\", \"flying\", \"flying\", \"flying\", \"flying\", \"follow\", \"forgetting\", \"form\", \"form\", \"forward\", \"found\", \"found\", \"free\", \"free\", \"free\", \"free\", \"free\", \"full\", \"full\", \"full\", \"gate\", \"gate\", \"gate\", \"gate\", \"generic\", \"get\", \"get\", \"get\", \"get\", \"get\", \"get\", \"get\", \"get\", \"global\", \"go\", \"go\", \"go\", \"go\", \"go\", \"go\", \"go\", \"go\", \"going\", \"going\", \"going\", \"going\", \"going\", \"going\", \"good\", \"good\", \"good\", \"good\", \"good\", \"good\", \"good\", \"got\", \"got\", \"got\", \"got\", \"got\", \"got\", \"got\", \"got\", \"grand\", \"great\", \"great\", \"great\", \"great\", \"great\", \"ground\", \"ground\", \"ground\", \"ground\", \"guy\", \"guy\", \"guy\", \"guy\", \"guy\", \"guy\", \"guy\", \"guy\", \"had\", \"hadnt\", \"hang\", \"hanging\", \"hassle\", \"have\", \"help\", \"help\", \"help\", \"help\", \"help\", \"help\", \"hit\", \"hold\", \"hold\", \"home\", \"home\", \"home\", \"home\", \"home\", \"home\", \"home\", \"hoping\", \"hoping\", \"horrendous\", \"horrible\", \"hotel\", \"hour\", \"hour\", \"hour\", \"hour\", \"hour\", \"hour\", \"however\", \"hr\", \"hr\", \"hr\", \"human\", \"human\", \"human\", \"hundred\", \"hung\", \"i\", \"iad\", \"iad\", \"ill\", \"ill\", \"ill\", \"ill\", \"ill\", \"im\", \"im\", \"im\", \"im\", \"im\", \"im\", \"im\", \"im\", \"impossible\", \"inch\", \"inside\", \"interview\", \"iphone\", \"issue\", \"issue\", \"issue\", \"issue\", \"issue\", \"issue\", \"issue\", \"ive\", \"ive\", \"ive\", \"jax\", \"jetblues\", \"jfk\", \"jfk\", \"jfk\", \"jfk\", \"jfk\", \"jfk\", \"jh\", \"job\", \"job\", \"job\", \"job\", \"joke\", \"joke\", \"juan\", \"jump\", \"kicking\", \"know\", \"know\", \"know\", \"know\", \"know\", \"know\", \"know\", \"know\", \"kudos\", \"kudos\", \"la\", \"la\", \"la\", \"la\", \"lack\", \"lack\", \"lack\", \"lack\", \"lack\", \"ladygaga\", \"lap\", \"last\", \"last\", \"last\", \"last\", \"last\", \"last\", \"last\", \"last\", \"late\", \"late\", \"late\", \"late\", \"late\", \"lauderdale\", \"layover\", \"layover\", \"layover\", \"left\", \"left\", \"left\", \"left\", \"lga\", \"lga\", \"lga\", \"lga\", \"like\", \"like\", \"like\", \"like\", \"like\", \"like\", \"like\", \"like\", \"line\", \"line\", \"line\", \"line\", \"loaded\", \"looking\", \"looking\", \"looking\", \"looking\", \"lost\", \"lost\", \"lost\", \"lost\", \"love\", \"love\", \"love\", \"love\", \"love\", \"love\", \"lovely\", \"luck\", \"luck\", \"luggage\", \"luggage\", \"luggage\", \"luggage\", \"luggage\", \"made\", \"made\", \"made\", \"made\", \"made\", \"made\", \"made\", \"make\", \"make\", \"make\", \"make\", \"make\", \"make\", \"make\", \"manage\", \"management\", \"match\", \"mco\", \"mco\", \"mco\", \"medium\", \"medium\", \"memory\", \"memphis\", \"method\", \"mexico\", \"middle\", \"mile\", \"mile\", \"mileage\", \"min\", \"minute\", \"miss\", \"miss\", \"miss\", \"missed\", \"missed\", \"missed\", \"missed\", \"missing\", \"missing\", \"missing\", \"missing\", \"mom\", \"mom\", \"monday\", \"monday\", \"money\", \"money\", \"money\", \"money\", \"money\", \"month\", \"month\", \"month\", \"more\", \"morning\", \"morning\", \"morning\", \"morning\", \"morning\", \"morning\", \"morning\", \"much\", \"much\", \"name\", \"name\", \"name\", \"nashville\", \"nc\", \"need\", \"need\", \"need\", \"need\", \"need\", \"need\", \"need\", \"need\", \"needed\", \"needed\", \"needed\", \"never\", \"never\", \"never\", \"never\", \"never\", \"never\", \"new\", \"new\", \"new\", \"new\", \"new\", \"no\", \"no\", \"no\", \"no\", \"nope\", \"nope\", \"notify\", \"notifying\", \"number\", \"number\", \"nut\", \"nytimes\", \"ok\", \"ok\", \"ok\", \"okay\", \"okay\", \"okc\", \"onboard\", \"one\", \"one\", \"one\", \"one\", \"one\", \"one\", \"oneworld\", \"online\", \"online\", \"online\", \"open\", \"open\", \"open\", \"open\", \"outstanding\", \"paid\", \"paid\", \"paid\", \"palm\", \"pas\", \"passbook\", \"passenger\", \"passenger\", \"passenger\", \"passenger\", \"people\", \"people\", \"people\", \"people\", \"people\", \"people\", \"phone\", \"pilot\", \"pilot\", \"pilot\", \"pilot\", \"plane\", \"plane\", \"plane\", \"plane\", \"plane\", \"planning\", \"plat\", \"please\", \"please\", \"please\", \"please\", \"poor\", \"poor\", \"poor\", \"poor\", \"price\", \"price\", \"price\", \"prob\", \"problem\", \"problem\", \"problem\", \"prompt\", \"properly\", \"provided\", \"provided\", \"puerto\", \"pull\", \"quick\", \"quick\", \"quick\", \"quickly\", \"really\", \"really\", \"really\", \"really\", \"really\", \"really\", \"really\", \"rebook\", \"rebook\", \"rebooked\", \"rebooked\", \"receipt\", \"receive\", \"reflight\", \"refunded\", \"rental\", \"repair\", \"reply\", \"reply\", \"reply\", \"reply\", \"reroute\", \"reservation\", \"responding\", \"responding\", \"response\", \"response\", \"response\", \"response\", \"response\", \"response\", \"response\", \"returned\", \"rico\", \"ridiculous\", \"ridiculous\", \"ridiculous\", \"ridiculous\", \"row\", \"row\", \"said\", \"said\", \"said\", \"said\", \"said\", \"sale\", \"sale\", \"screen\", \"seat\", \"seat\", \"seat\", \"seat\", \"seat\", \"seat\", \"seat\", \"see\", \"see\", \"see\", \"see\", \"see\", \"see\", \"see\", \"seen\", \"send\", \"send\", \"sending\", \"sending\", \"sending\", \"sent\", \"sent\", \"sent\", \"sent\", \"service\", \"sfo\", \"sfo\", \"sfo\", \"sfo\", \"sincerely\", \"sit\", \"sit\", \"sitting\", \"sitting\", \"six\", \"six\", \"sleeping\", \"slept\", \"snow\", \"snow\", \"social\", \"social\", \"sold\", \"somebody\", \"someone\", \"someone\", \"someone\", \"someone\", \"someone\", \"someone\", \"son\", \"speak\", \"spent\", \"spent\", \"spent\", \"spent\", \"spent\", \"staff\", \"staff\", \"staff\", \"staff\", \"staff\", \"staff\", \"stand\", \"standing\", \"starting\", \"statement\", \"status\", \"status\", \"status\", \"still\", \"still\", \"still\", \"still\", \"still\", \"still\", \"still\", \"stranded\", \"stranded\", \"stranded\", \"street\", \"stressful\", \"stroller\", \"stuck\", \"stuck\", \"stuck\", \"stuck\", \"stuck\", \"suck\", \"suck\", \"suck\", \"suggest\", \"suit\", \"sunny\", \"sure\", \"sure\", \"sure\", \"sure\", \"sure\", \"system\", \"system\", \"system\", \"system\", \"take\", \"take\", \"take\", \"take\", \"take\", \"take\", \"take\", \"take\", \"talk\", \"talk\", \"talk\", \"talk\", \"tarmac\", \"tarmac\", \"tarmac\", \"tarmac\", \"terrible\", \"thank\", \"thanks\", \"thanks\", \"thanks\", \"thanks\", \"thanks\", \"thanks\", \"that\", \"that\", \"that\", \"that\", \"that\", \"there\", \"there\", \"thinking\", \"thnx\", \"throughout\", \"thru\", \"thru\", \"thru\", \"ticket\", \"ticket\", \"ticket\", \"time\", \"time\", \"time\", \"time\", \"time\", \"time\", \"time\", \"time\", \"timely\", \"tired\", \"tired\", \"today\", \"today\", \"today\", \"today\", \"today\", \"today\", \"today\", \"toilet\", \"told\", \"told\", \"told\", \"told\", \"told\", \"told\", \"tomorrow\", \"tomorrow\", \"ton\", \"tonight\", \"tonight\", \"tonight\", \"tonight\", \"tonight\", \"travel\", \"travel\", \"travel\", \"travel\", \"travel\", \"trip\", \"trip\", \"trip\", \"trip\", \"trip\", \"trying\", \"trying\", \"trying\", \"trying\", \"tues\", \"tuesday\", \"twitter\", \"twitter\", \"twitter\", \"twitter\", \"two\", \"two\", \"two\", \"two\", \"two\", \"two\", \"u\", \"u\", \"u\", \"u\", \"u\", \"u\", \"u\", \"understaffing\", \"upgrade\", \"upgrade\", \"upgrade\", \"useless\", \"va\", \"valid\", \"vega\", \"vega\", \"vega\", \"virginatlantic\", \"volume\", \"voucher\", \"voucher\", \"voucher\", \"voucher\", \"voucher\", \"wait\", \"wait\", \"waiting\", \"waiting\", \"waiting\", \"waiting\", \"want\", \"want\", \"want\", \"want\", \"want\", \"want\", \"want\", \"want\", \"warning\", \"way\", \"way\", \"way\", \"way\", \"way\", \"way\", \"way\", \"way\", \"weather\", \"weather\", \"weather\", \"weather\", \"weather\", \"weather\", \"well\", \"well\", \"well\", \"well\", \"well\", \"well\", \"well\", \"well\", \"wheres\", \"wifi\", \"wifi\", \"wifi\", \"wifi\", \"window\", \"winner\", \"wish\", \"wish\", \"wish\", \"woman\", \"work\", \"work\", \"work\", \"work\", \"work\", \"work\", \"work\", \"worse\", \"worse\", \"worse\", \"worse\", \"worst\", \"would\", \"would\", \"would\", \"would\", \"would\", \"would\", \"wsj\", \"yes\", \"yes\", \"yes\", \"yes\", \"yes\", \"yes\", \"yes\", \"you\", \"youre\", \"youre\", \"youre\", \"youre\", \"youre\", \"youre\"]}, \"R\": 30, \"lambda.step\": 0.01, \"plot.opts\": {\"xlab\": \"PC1\", \"ylab\": \"PC2\"}, \"topic.order\": [1, 2, 3, 4, 5, 6, 7, 8]};\n",
       "\n",
       "function LDAvis_load_lib(url, callback){\n",
       "  var s = document.createElement('script');\n",
       "  s.src = url;\n",
       "  s.async = true;\n",
       "  s.onreadystatechange = s.onload = callback;\n",
       "  s.onerror = function(){console.warn(\"failed to load library \" + url);};\n",
       "  document.getElementsByTagName(\"head\")[0].appendChild(s);\n",
       "}\n",
       "\n",
       "if(typeof(LDAvis) !== \"undefined\"){\n",
       "   // already loaded: just create the visualization\n",
       "   !function(LDAvis){\n",
       "       new LDAvis(\"#\" + \"ldavis_el3666351543185205854245157\", ldavis_el3666351543185205854245157_data);\n",
       "   }(LDAvis);\n",
       "}else if(typeof define === \"function\" && define.amd){\n",
       "   // require.js is available: use it to load d3/LDAvis\n",
       "   require.config({paths: {d3: \"https://cdnjs.cloudflare.com/ajax/libs/d3/3.5.5/d3.min\"}});\n",
       "   require([\"d3\"], function(d3){\n",
       "      window.d3 = d3;\n",
       "      LDAvis_load_lib(\"https://cdn.rawgit.com/bmabey/pyLDAvis/files/ldavis.v1.0.0.js\", function(){\n",
       "        new LDAvis(\"#\" + \"ldavis_el3666351543185205854245157\", ldavis_el3666351543185205854245157_data);\n",
       "      });\n",
       "    });\n",
       "}else{\n",
       "    // require.js not available: dynamically load d3 & LDAvis\n",
       "    LDAvis_load_lib(\"https://cdnjs.cloudflare.com/ajax/libs/d3/3.5.5/d3.min.js\", function(){\n",
       "         LDAvis_load_lib(\"https://cdn.rawgit.com/bmabey/pyLDAvis/files/ldavis.v1.0.0.js\", function(){\n",
       "                 new LDAvis(\"#\" + \"ldavis_el3666351543185205854245157\", ldavis_el3666351543185205854245157_data);\n",
       "            })\n",
       "         });\n",
       "}\n",
       "</script>"
      ],
      "text/plain": [
       "<IPython.core.display.HTML object>"
      ]
     },
     "execution_count": 35,
     "metadata": {},
     "output_type": "execute_result"
    }
   ],
   "source": [
    "lda_display = pyLDAvis.gensim.prepare(ldamodel, doc_term_matrix, dictionary, sort_topics=False)\n",
    "pyLDAvis.display(lda_display)"
   ]
  },
  {
   "cell_type": "markdown",
   "metadata": {},
   "source": [
    "### Topic 1 - Customer Service"
   ]
  },
  {
   "cell_type": "code",
   "execution_count": 36,
   "metadata": {},
   "outputs": [],
   "source": [
    "customer_service_tweets = tweets[tweets.text_clean.str.contains('service|customer|hold|call|phone|CS|agent|help|response|email|message|communication')] "
   ]
  },
  {
   "cell_type": "code",
   "execution_count": 37,
   "metadata": {},
   "outputs": [
    {
     "data": {
      "text/plain": [
       "4340"
      ]
     },
     "execution_count": 37,
     "metadata": {},
     "output_type": "execute_result"
    }
   ],
   "source": [
    "len(customer_service_tweets)"
   ]
  },
  {
   "cell_type": "code",
   "execution_count": 38,
   "metadata": {},
   "outputs": [],
   "source": [
    "#removing words not related to \"customer service\"\n",
    "customer_service_tweets = customer_service_tweets[~ customer_service_tweets.text_clean.str.contains('cancelled')]\n",
    "customer_service_tweets = customer_service_tweets[~ customer_service_tweets.text_clean.str.contains('delay')]\n",
    "customer_service_tweets = customer_service_tweets[~ customer_service_tweets.text_clean.str.contains('seat')]\n",
    "customer_service_tweets = customer_service_tweets[~ customer_service_tweets.text_clean.str.contains('airplane')]\n",
    "customer_service_tweets = customer_service_tweets[~ customer_service_tweets.text_clean.str.contains('luggage')]\n",
    "customer_service_tweets = customer_service_tweets[~ customer_service_tweets.text_clean.str.contains('bag')]\n",
    "customer_service_tweets = customer_service_tweets[~ customer_service_tweets.text_clean.str.contains('http')]"
   ]
  },
  {
   "cell_type": "code",
   "execution_count": 39,
   "metadata": {},
   "outputs": [
    {
     "data": {
      "text/plain": [
       "3240"
      ]
     },
     "execution_count": 39,
     "metadata": {},
     "output_type": "execute_result"
    }
   ],
   "source": [
    "len(customer_service_tweets)"
   ]
  },
  {
   "cell_type": "code",
   "execution_count": 40,
   "metadata": {},
   "outputs": [],
   "source": [
    "#customer_service_tweets.negativereason.value_counts()"
   ]
  },
  {
   "cell_type": "code",
   "execution_count": 41,
   "metadata": {},
   "outputs": [
    {
     "data": {
      "text/plain": [
       "['virginamerica status match program.  i applied and its been three weeks.  called and emailed with no response.',\n",
       " 'virginamerica awaiting my return phone call, just would prefer to use your online selfservice option :',\n",
       " 'virginamerica hey, first time flyer next week  excited but im having a hard time getting my flights added to my elevate account. help',\n",
       " 'virginamerica plz help me win my bid upgrade for my flight 227 laxgtsea  ',\n",
       " 'virginamerica i have an unused ticket but moved to a new city where you dont fly. how can i fly with you before it expires travelhelp',\n",
       " 'virginamerica i called a 34 weeks ago about adding 3 flights from 2014 to my elevate...they still havent shown up...help',\n",
       " 'virginamerica heyyyy guyyyys.. been trying to get through for an hour. can someone call me please :',\n",
       " 'virginamerica hi, virgin im on hold for 4050 minutes  are there any earlier flights from la to nyc tonight earlier than 11:50pm',\n",
       " 'virginamerica need to change reservation. have virgin credit card. do i need to modify on phone to waive change fee or can i do online',\n",
       " 'virginamerica i emailed your customer service team. let me know if you need the tracking number.',\n",
       " 'virginamerica what is going on with customer service is there anyway to speak to a human asap thank you.',\n",
       " 'virginamerica why cant you supp the biz traveler like southwestair  and have customer service like jetblue neverflyvirginforbusiness',\n",
       " 'virginamerica i lt3 flying va but life happens and i am trying to change my trip jperhi  can you help.va home page will not let me ',\n",
       " 'virginamerica what is your phone number. i cant find who to call about a flight reservation.',\n",
       " 'virginamerica is anyone doing anything there today  website is useless and no one is answering the phone.']"
      ]
     },
     "execution_count": 41,
     "metadata": {},
     "output_type": "execute_result"
    }
   ],
   "source": [
    "list(customer_service_tweets.text_clean)[:15]"
   ]
  },
  {
   "cell_type": "code",
   "execution_count": 42,
   "metadata": {},
   "outputs": [
    {
     "data": {
      "text/plain": [
       "['americanair thank you for quick responses.   aa usually has fantastic customer service. thats why i was so shocked when it wasnt there',\n",
       " 'americanair  beyond frustrated with no call back from auto hold or whatever you call it. entered my number at 11:30 cst, still no call 2:26',\n",
       " 'americanair hey aa  can you help with an itinerary for a plat custy  stuck in pvr and phones arent working',\n",
       " 'americanair weve been on hold for hours.',\n",
       " 'americanair can you guys help me please',\n",
       " 'americanair trying to book a flight on hold cant get through to a representative on the phone advice',\n",
       " 'americanair i need someone to help me out',\n",
       " 'americanair i used the call back feature with an operator regarding my flight, got a call 2 hours late flightr and got hung up on. pleasehelp',\n",
       " 'americanair i need to be at work tomorrow at 8am, therefore that doesnt help.  direct message faster than calling 800 number backwards',\n",
       " 'americanair i wait 2 hrs for cs to call me back re why  flt is cxldprotection amp they hang up the minute i answer on 1st ring',\n",
       " 'americanair call me chairman, or call me emerald. after what you did today to me, you can call me a former customer.',\n",
       " 'thank you. americanair: jlhalldc customer relations will review your concerns and contact you back directly, john.',\n",
       " 'americanair how do i change my flight if the phone system keeps telling me that the representatives are busy',\n",
       " 'americanair leaving over 20 minutes late flight. no warnings or communication until we were 15 minutes late flight. thats called shitty customer svc',\n",
       " 'americanair you have my money, you change my flight, and dont answer your phones any other suggestions so i can make my commitment']"
      ]
     },
     "execution_count": 42,
     "metadata": {},
     "output_type": "execute_result"
    }
   ],
   "source": [
    "list(customer_service_tweets.text_clean)[-15:]"
   ]
  },
  {
   "cell_type": "code",
   "execution_count": 43,
   "metadata": {},
   "outputs": [],
   "source": [
    "percent_calc = lambda y:y.sum()/y.count()"
   ]
  },
  {
   "cell_type": "code",
   "execution_count": 44,
   "metadata": {},
   "outputs": [],
   "source": [
    "cust_service_counts = customer_service_tweets.groupby(['airline','airline_sentiment']).agg({'tweet_id':['count']})"
   ]
  },
  {
   "cell_type": "code",
   "execution_count": 45,
   "metadata": {},
   "outputs": [
    {
     "data": {
      "text/html": [
       "<div>\n",
       "<style scoped>\n",
       "    .dataframe tbody tr th:only-of-type {\n",
       "        vertical-align: middle;\n",
       "    }\n",
       "\n",
       "    .dataframe tbody tr th {\n",
       "        vertical-align: top;\n",
       "    }\n",
       "\n",
       "    .dataframe thead tr th {\n",
       "        text-align: left;\n",
       "    }\n",
       "\n",
       "    .dataframe thead tr:last-of-type th {\n",
       "        text-align: right;\n",
       "    }\n",
       "</style>\n",
       "<table border=\"1\" class=\"dataframe\">\n",
       "  <thead>\n",
       "    <tr>\n",
       "      <th></th>\n",
       "      <th></th>\n",
       "      <th>tweet_id</th>\n",
       "    </tr>\n",
       "    <tr>\n",
       "      <th></th>\n",
       "      <th></th>\n",
       "      <th>count</th>\n",
       "    </tr>\n",
       "    <tr>\n",
       "      <th>airline</th>\n",
       "      <th>airline_sentiment</th>\n",
       "      <th></th>\n",
       "    </tr>\n",
       "  </thead>\n",
       "  <tbody>\n",
       "    <tr>\n",
       "      <th rowspan=\"3\" valign=\"top\">American</th>\n",
       "      <th>negative</th>\n",
       "      <td>642</td>\n",
       "    </tr>\n",
       "    <tr>\n",
       "      <th>neutral</th>\n",
       "      <td>73</td>\n",
       "    </tr>\n",
       "    <tr>\n",
       "      <th>positive</th>\n",
       "      <td>64</td>\n",
       "    </tr>\n",
       "    <tr>\n",
       "      <th rowspan=\"3\" valign=\"top\">Delta</th>\n",
       "      <th>negative</th>\n",
       "      <td>168</td>\n",
       "    </tr>\n",
       "    <tr>\n",
       "      <th>neutral</th>\n",
       "      <td>51</td>\n",
       "    </tr>\n",
       "    <tr>\n",
       "      <th>positive</th>\n",
       "      <td>72</td>\n",
       "    </tr>\n",
       "    <tr>\n",
       "      <th rowspan=\"3\" valign=\"top\">Southwest</th>\n",
       "      <th>negative</th>\n",
       "      <td>298</td>\n",
       "    </tr>\n",
       "    <tr>\n",
       "      <th>neutral</th>\n",
       "      <td>73</td>\n",
       "    </tr>\n",
       "    <tr>\n",
       "      <th>positive</th>\n",
       "      <td>91</td>\n",
       "    </tr>\n",
       "    <tr>\n",
       "      <th rowspan=\"3\" valign=\"top\">US Airways</th>\n",
       "      <th>negative</th>\n",
       "      <td>726</td>\n",
       "    </tr>\n",
       "    <tr>\n",
       "      <th>neutral</th>\n",
       "      <td>73</td>\n",
       "    </tr>\n",
       "    <tr>\n",
       "      <th>positive</th>\n",
       "      <td>70</td>\n",
       "    </tr>\n",
       "    <tr>\n",
       "      <th rowspan=\"3\" valign=\"top\">United</th>\n",
       "      <th>negative</th>\n",
       "      <td>548</td>\n",
       "    </tr>\n",
       "    <tr>\n",
       "      <th>neutral</th>\n",
       "      <td>110</td>\n",
       "    </tr>\n",
       "    <tr>\n",
       "      <th>positive</th>\n",
       "      <td>109</td>\n",
       "    </tr>\n",
       "    <tr>\n",
       "      <th rowspan=\"3\" valign=\"top\">Virgin America</th>\n",
       "      <th>negative</th>\n",
       "      <td>42</td>\n",
       "    </tr>\n",
       "    <tr>\n",
       "      <th>neutral</th>\n",
       "      <td>16</td>\n",
       "    </tr>\n",
       "    <tr>\n",
       "      <th>positive</th>\n",
       "      <td>14</td>\n",
       "    </tr>\n",
       "  </tbody>\n",
       "</table>\n",
       "</div>"
      ],
      "text/plain": [
       "                                 tweet_id\n",
       "                                    count\n",
       "airline        airline_sentiment         \n",
       "American       negative               642\n",
       "               neutral                 73\n",
       "               positive                64\n",
       "Delta          negative               168\n",
       "               neutral                 51\n",
       "               positive                72\n",
       "Southwest      negative               298\n",
       "               neutral                 73\n",
       "               positive                91\n",
       "US Airways     negative               726\n",
       "               neutral                 73\n",
       "               positive                70\n",
       "United         negative               548\n",
       "               neutral                110\n",
       "               positive               109\n",
       "Virgin America negative                42\n",
       "               neutral                 16\n",
       "               positive                14"
      ]
     },
     "execution_count": 45,
     "metadata": {},
     "output_type": "execute_result"
    }
   ],
   "source": [
    "cust_service_counts"
   ]
  },
  {
   "cell_type": "code",
   "execution_count": 46,
   "metadata": {},
   "outputs": [
    {
     "data": {
      "text/html": [
       "<div>\n",
       "<style scoped>\n",
       "    .dataframe tbody tr th:only-of-type {\n",
       "        vertical-align: middle;\n",
       "    }\n",
       "\n",
       "    .dataframe tbody tr th {\n",
       "        vertical-align: top;\n",
       "    }\n",
       "\n",
       "    .dataframe thead tr th {\n",
       "        text-align: left;\n",
       "    }\n",
       "\n",
       "    .dataframe thead tr:last-of-type th {\n",
       "        text-align: right;\n",
       "    }\n",
       "</style>\n",
       "<table border=\"1\" class=\"dataframe\">\n",
       "  <thead>\n",
       "    <tr>\n",
       "      <th></th>\n",
       "      <th></th>\n",
       "      <th>tweet_id</th>\n",
       "    </tr>\n",
       "    <tr>\n",
       "      <th></th>\n",
       "      <th></th>\n",
       "      <th>count</th>\n",
       "    </tr>\n",
       "    <tr>\n",
       "      <th>airline</th>\n",
       "      <th>airline_sentiment</th>\n",
       "      <th></th>\n",
       "    </tr>\n",
       "  </thead>\n",
       "  <tbody>\n",
       "    <tr>\n",
       "      <th rowspan=\"3\" valign=\"top\">American</th>\n",
       "      <th>negative</th>\n",
       "      <td>0.824134</td>\n",
       "    </tr>\n",
       "    <tr>\n",
       "      <th>neutral</th>\n",
       "      <td>0.093710</td>\n",
       "    </tr>\n",
       "    <tr>\n",
       "      <th>positive</th>\n",
       "      <td>0.082157</td>\n",
       "    </tr>\n",
       "    <tr>\n",
       "      <th rowspan=\"3\" valign=\"top\">Delta</th>\n",
       "      <th>negative</th>\n",
       "      <td>0.577320</td>\n",
       "    </tr>\n",
       "    <tr>\n",
       "      <th>neutral</th>\n",
       "      <td>0.175258</td>\n",
       "    </tr>\n",
       "    <tr>\n",
       "      <th>positive</th>\n",
       "      <td>0.247423</td>\n",
       "    </tr>\n",
       "    <tr>\n",
       "      <th rowspan=\"3\" valign=\"top\">Southwest</th>\n",
       "      <th>negative</th>\n",
       "      <td>0.645022</td>\n",
       "    </tr>\n",
       "    <tr>\n",
       "      <th>neutral</th>\n",
       "      <td>0.158009</td>\n",
       "    </tr>\n",
       "    <tr>\n",
       "      <th>positive</th>\n",
       "      <td>0.196970</td>\n",
       "    </tr>\n",
       "    <tr>\n",
       "      <th rowspan=\"3\" valign=\"top\">US Airways</th>\n",
       "      <th>negative</th>\n",
       "      <td>0.835443</td>\n",
       "    </tr>\n",
       "    <tr>\n",
       "      <th>neutral</th>\n",
       "      <td>0.084005</td>\n",
       "    </tr>\n",
       "    <tr>\n",
       "      <th>positive</th>\n",
       "      <td>0.080552</td>\n",
       "    </tr>\n",
       "    <tr>\n",
       "      <th rowspan=\"3\" valign=\"top\">United</th>\n",
       "      <th>negative</th>\n",
       "      <td>0.714472</td>\n",
       "    </tr>\n",
       "    <tr>\n",
       "      <th>neutral</th>\n",
       "      <td>0.143416</td>\n",
       "    </tr>\n",
       "    <tr>\n",
       "      <th>positive</th>\n",
       "      <td>0.142112</td>\n",
       "    </tr>\n",
       "    <tr>\n",
       "      <th rowspan=\"3\" valign=\"top\">Virgin America</th>\n",
       "      <th>negative</th>\n",
       "      <td>0.583333</td>\n",
       "    </tr>\n",
       "    <tr>\n",
       "      <th>neutral</th>\n",
       "      <td>0.222222</td>\n",
       "    </tr>\n",
       "    <tr>\n",
       "      <th>positive</th>\n",
       "      <td>0.194444</td>\n",
       "    </tr>\n",
       "  </tbody>\n",
       "</table>\n",
       "</div>"
      ],
      "text/plain": [
       "                                  tweet_id\n",
       "                                     count\n",
       "airline        airline_sentiment          \n",
       "American       negative           0.824134\n",
       "               neutral            0.093710\n",
       "               positive           0.082157\n",
       "Delta          negative           0.577320\n",
       "               neutral            0.175258\n",
       "               positive           0.247423\n",
       "Southwest      negative           0.645022\n",
       "               neutral            0.158009\n",
       "               positive           0.196970\n",
       "US Airways     negative           0.835443\n",
       "               neutral            0.084005\n",
       "               positive           0.080552\n",
       "United         negative           0.714472\n",
       "               neutral            0.143416\n",
       "               positive           0.142112\n",
       "Virgin America negative           0.583333\n",
       "               neutral            0.222222\n",
       "               positive           0.194444"
      ]
     },
     "execution_count": 46,
     "metadata": {},
     "output_type": "execute_result"
    }
   ],
   "source": [
    "cust_service_counts.groupby(level=0).apply(lambda x:x / float(x.sum()))"
   ]
  },
  {
   "cell_type": "code",
   "execution_count": 47,
   "metadata": {},
   "outputs": [],
   "source": [
    "cust_percent = cust_service_counts.groupby(level=0).apply(lambda x:x / float(x.sum()))"
   ]
  },
  {
   "cell_type": "code",
   "execution_count": 48,
   "metadata": {},
   "outputs": [],
   "source": [
    "names = cust_percent.index.get_level_values(0)\n",
    "values = np.square(cust_percent.values)"
   ]
  },
  {
   "cell_type": "code",
   "execution_count": 49,
   "metadata": {},
   "outputs": [
    {
     "name": "stdout",
     "output_type": "stream",
     "text": [
      "Final Scores:\n",
      "American\n",
      "0.30527271558777347\n",
      "Delta\n",
      "0.5747688383462644\n",
      "Southwest\n",
      "0.5201832799235396\n",
      "US Airways\n",
      "0.288489474429956\n",
      "United\n",
      "0.4487658276799328\n"
     ]
    }
   ],
   "source": [
    "print('Final Scores:')\n",
    "print(names[0])\n",
    "print(1-np.sum(values[0:3]))\n",
    "print(names[3])\n",
    "print(1-np.sum(values[3:6]))\n",
    "print(names[6])\n",
    "print(1-np.sum(values[6:9]))\n",
    "print(names[9])\n",
    "print(1-np.sum(values[9:12]))\n",
    "print(names[12])\n",
    "print(1-np.sum(values[12:15]))"
   ]
  },
  {
   "cell_type": "code",
   "execution_count": 50,
   "metadata": {},
   "outputs": [],
   "source": [
    "cust_service_scores = [1-np.sum(values[0:3]),1-np.sum(values[3:6]),1-np.sum(values[6:9]),1-np.sum(values[9:12]),1-np.sum(values[12:15])]"
   ]
  },
  {
   "cell_type": "markdown",
   "metadata": {},
   "source": [
    "### Topic 2 - Cancellations + Delays"
   ]
  },
  {
   "cell_type": "code",
   "execution_count": 51,
   "metadata": {},
   "outputs": [],
   "source": [
    "cancellations_tweets = tweets[tweets.text_clean.str.contains('cancellation|cancel|next|late|delay|wait|hour|2|due|hr|weather|degree|issue|rebook|fix|connection|stuck|day|yesterday|reschedule|tommorow|today|miss|early|arrive|jfk|sfo|ewr|lax|ord|day|problem|minute|min|time|lga')] "
   ]
  },
  {
   "cell_type": "code",
   "execution_count": 52,
   "metadata": {},
   "outputs": [
    {
     "data": {
      "text/plain": [
       "8110"
      ]
     },
     "execution_count": 52,
     "metadata": {},
     "output_type": "execute_result"
    }
   ],
   "source": [
    "len(cancellations_tweets)"
   ]
  },
  {
   "cell_type": "code",
   "execution_count": 53,
   "metadata": {},
   "outputs": [],
   "source": [
    "#removing words not related to \"cancellations or delays\"\n",
    "cancellations_tweets = cancellations_tweets[~ cancellations_tweets.text_clean.str.contains('http|service|customer|hold|call|phone|CS|agent|help|response|email|message|communication|luggage|bag|food')]"
   ]
  },
  {
   "cell_type": "code",
   "execution_count": 54,
   "metadata": {},
   "outputs": [
    {
     "data": {
      "text/plain": [
       "4452"
      ]
     },
     "execution_count": 54,
     "metadata": {},
     "output_type": "execute_result"
    }
   ],
   "source": [
    "len(cancellations_tweets)"
   ]
  },
  {
   "cell_type": "code",
   "execution_count": 55,
   "metadata": {},
   "outputs": [
    {
     "data": {
      "text/plain": [
       "['virginamerica spending my birthday night with you, daldca. get me home',\n",
       " 'virginamerica first time flying virgin, went to sanfrancisco .thanks for the smooth ride. easily my new fav airline',\n",
       " 'virginamerica seriously, though. will there not be direct flights from sfofll in may',\n",
       " 'virginamerica its fine. already done with my purchase. but you should try it. just go most of the way through then go back 3',\n",
       " 'virginamerica not really the experience i was hoping 4, i ws forced 2 check in a small carry on, w nothing but empty cabin space on board',\n",
       " 'virginamerica ok first time flying with you tonight :',\n",
       " 'virginamerica digging the swanky pink mood lighting during the flight from nyc to sfo.  just needs a cabaret singer.  think about it',\n",
       " 'virginamerica on vx399 from jfk to la  dirty plane  not up to your standards.',\n",
       " 'virginamerica on flight vx399 headed to la from jfk  dirtiest va plane i have ever been on. sad for a great airline.',\n",
       " 'virginamerica delayed to10.30',\n",
       " 'virginamerica  flight booking problems last second flight for next week from sfo to san any chance you want to gift me a promo code since i love you guys',\n",
       " 'virginamerica comenity bank is a joke  please change.  nothing but constant problems with this bank',\n",
       " 'virginamerica for my grandma ellas 80th, she would lt3 a bday greeting from your flight crew she was a stewardess for eastern airlines.',\n",
       " 'virginamerica anytime, sugafly.',\n",
       " 'virginamerica, i submitted a status match request a while back and still havent heard im flying on monday. can you look  accelerate']"
      ]
     },
     "execution_count": 55,
     "metadata": {},
     "output_type": "execute_result"
    }
   ],
   "source": [
    "list(cancellations_tweets.text_clean)[100:115]"
   ]
  },
  {
   "cell_type": "code",
   "execution_count": 56,
   "metadata": {},
   "outputs": [
    {
     "data": {
      "text/plain": [
       "['americanair what are my chances of making a connection to el paso aa504 with dfw from sat aa200 delayed 30 minutes',\n",
       " 'americanair shannonbloom wheres my dm wheres my voucher whos paying my 70 cab and my 50 car back to jfk tomorrow',\n",
       " 'americanair do you guys have another flight for today that you can book me on from laguardia to louisville ky',\n",
       " 'americanair my flight out of tyr tomorrow was cancelled flighted due to weather. how long until a rebook',\n",
       " 'americanair has aa flight 296 from san antonio to dallas been cancelled flighted',\n",
       " 'americanair cancelled flights flights arbitrarily on same itinerary.  weekend ruined for no good reason no crew  missed monday am mtg.',\n",
       " 'americanair my flight was cancelled flightled from laguardia to louisville ky and i am  stuck at the airport. do you guys compensate for this',\n",
       " 'americanair i understand the weather issue but you cant expect passengers to wait 24 hours inside airports for whatever reason. outrageous',\n",
       " 'americanair dming you now big thanks.',\n",
       " 'americanair love the new planes for the jfklax run.  maybe one day i will be on one where the amenities all function.  nocharge ever',\n",
       " 'americanair flight 953 nycbuenos aires has been delay since yesterday at 10pm. is going to take off at 3.30pm now give us answers',\n",
       " 'americanair flight cancelled flightled, cant go home until tomorrow. i could use dinner and a play, americanair its my first time in nyc.',\n",
       " 'americanair my flight was cancelled flightled, leaving tomorrow morning. auto rebooked for a tuesday night flight but need to arrive monday.',\n",
       " 'americanair right on cue with the delays',\n",
       " 'americanair we have 8 ppl so we need 2 know how many seats are on the next flight. plz put us on standby for 4 people on the next flight']"
      ]
     },
     "execution_count": 56,
     "metadata": {},
     "output_type": "execute_result"
    }
   ],
   "source": [
    "list(cancellations_tweets.text_clean)[-15:]"
   ]
  },
  {
   "cell_type": "code",
   "execution_count": 57,
   "metadata": {},
   "outputs": [],
   "source": [
    "cancellation_counts = cancellations_tweets.groupby(['airline','airline_sentiment']).agg({'tweet_id':['count']})"
   ]
  },
  {
   "cell_type": "code",
   "execution_count": 58,
   "metadata": {},
   "outputs": [
    {
     "data": {
      "text/html": [
       "<div>\n",
       "<style scoped>\n",
       "    .dataframe tbody tr th:only-of-type {\n",
       "        vertical-align: middle;\n",
       "    }\n",
       "\n",
       "    .dataframe tbody tr th {\n",
       "        vertical-align: top;\n",
       "    }\n",
       "\n",
       "    .dataframe thead tr th {\n",
       "        text-align: left;\n",
       "    }\n",
       "\n",
       "    .dataframe thead tr:last-of-type th {\n",
       "        text-align: right;\n",
       "    }\n",
       "</style>\n",
       "<table border=\"1\" class=\"dataframe\">\n",
       "  <thead>\n",
       "    <tr>\n",
       "      <th></th>\n",
       "      <th></th>\n",
       "      <th>tweet_id</th>\n",
       "    </tr>\n",
       "    <tr>\n",
       "      <th></th>\n",
       "      <th></th>\n",
       "      <th>count</th>\n",
       "    </tr>\n",
       "    <tr>\n",
       "      <th>airline</th>\n",
       "      <th>airline_sentiment</th>\n",
       "      <th></th>\n",
       "    </tr>\n",
       "  </thead>\n",
       "  <tbody>\n",
       "    <tr>\n",
       "      <th rowspan=\"3\" valign=\"top\">American</th>\n",
       "      <th>negative</th>\n",
       "      <td>582</td>\n",
       "    </tr>\n",
       "    <tr>\n",
       "      <th>neutral</th>\n",
       "      <td>126</td>\n",
       "    </tr>\n",
       "    <tr>\n",
       "      <th>positive</th>\n",
       "      <td>77</td>\n",
       "    </tr>\n",
       "    <tr>\n",
       "      <th rowspan=\"3\" valign=\"top\">Delta</th>\n",
       "      <th>negative</th>\n",
       "      <td>388</td>\n",
       "    </tr>\n",
       "    <tr>\n",
       "      <th>neutral</th>\n",
       "      <td>146</td>\n",
       "    </tr>\n",
       "    <tr>\n",
       "      <th>positive</th>\n",
       "      <td>129</td>\n",
       "    </tr>\n",
       "    <tr>\n",
       "      <th rowspan=\"3\" valign=\"top\">Southwest</th>\n",
       "      <th>negative</th>\n",
       "      <td>365</td>\n",
       "    </tr>\n",
       "    <tr>\n",
       "      <th>neutral</th>\n",
       "      <td>195</td>\n",
       "    </tr>\n",
       "    <tr>\n",
       "      <th>positive</th>\n",
       "      <td>135</td>\n",
       "    </tr>\n",
       "    <tr>\n",
       "      <th rowspan=\"3\" valign=\"top\">US Airways</th>\n",
       "      <th>negative</th>\n",
       "      <td>744</td>\n",
       "    </tr>\n",
       "    <tr>\n",
       "      <th>neutral</th>\n",
       "      <td>95</td>\n",
       "    </tr>\n",
       "    <tr>\n",
       "      <th>positive</th>\n",
       "      <td>53</td>\n",
       "    </tr>\n",
       "    <tr>\n",
       "      <th rowspan=\"3\" valign=\"top\">United</th>\n",
       "      <th>negative</th>\n",
       "      <td>968</td>\n",
       "    </tr>\n",
       "    <tr>\n",
       "      <th>neutral</th>\n",
       "      <td>205</td>\n",
       "    </tr>\n",
       "    <tr>\n",
       "      <th>positive</th>\n",
       "      <td>101</td>\n",
       "    </tr>\n",
       "    <tr>\n",
       "      <th rowspan=\"3\" valign=\"top\">Virgin America</th>\n",
       "      <th>negative</th>\n",
       "      <td>63</td>\n",
       "    </tr>\n",
       "    <tr>\n",
       "      <th>neutral</th>\n",
       "      <td>46</td>\n",
       "    </tr>\n",
       "    <tr>\n",
       "      <th>positive</th>\n",
       "      <td>34</td>\n",
       "    </tr>\n",
       "  </tbody>\n",
       "</table>\n",
       "</div>"
      ],
      "text/plain": [
       "                                 tweet_id\n",
       "                                    count\n",
       "airline        airline_sentiment         \n",
       "American       negative               582\n",
       "               neutral                126\n",
       "               positive                77\n",
       "Delta          negative               388\n",
       "               neutral                146\n",
       "               positive               129\n",
       "Southwest      negative               365\n",
       "               neutral                195\n",
       "               positive               135\n",
       "US Airways     negative               744\n",
       "               neutral                 95\n",
       "               positive                53\n",
       "United         negative               968\n",
       "               neutral                205\n",
       "               positive               101\n",
       "Virgin America negative                63\n",
       "               neutral                 46\n",
       "               positive                34"
      ]
     },
     "execution_count": 58,
     "metadata": {},
     "output_type": "execute_result"
    }
   ],
   "source": [
    "cancellation_counts"
   ]
  },
  {
   "cell_type": "code",
   "execution_count": 59,
   "metadata": {},
   "outputs": [],
   "source": [
    "cancel_percent = cancellation_counts.groupby(level=0).apply(lambda x:x / float(x.sum()))"
   ]
  },
  {
   "cell_type": "code",
   "execution_count": 60,
   "metadata": {},
   "outputs": [
    {
     "data": {
      "text/html": [
       "<div>\n",
       "<style scoped>\n",
       "    .dataframe tbody tr th:only-of-type {\n",
       "        vertical-align: middle;\n",
       "    }\n",
       "\n",
       "    .dataframe tbody tr th {\n",
       "        vertical-align: top;\n",
       "    }\n",
       "\n",
       "    .dataframe thead tr th {\n",
       "        text-align: left;\n",
       "    }\n",
       "\n",
       "    .dataframe thead tr:last-of-type th {\n",
       "        text-align: right;\n",
       "    }\n",
       "</style>\n",
       "<table border=\"1\" class=\"dataframe\">\n",
       "  <thead>\n",
       "    <tr>\n",
       "      <th></th>\n",
       "      <th></th>\n",
       "      <th>tweet_id</th>\n",
       "    </tr>\n",
       "    <tr>\n",
       "      <th></th>\n",
       "      <th></th>\n",
       "      <th>count</th>\n",
       "    </tr>\n",
       "    <tr>\n",
       "      <th>airline</th>\n",
       "      <th>airline_sentiment</th>\n",
       "      <th></th>\n",
       "    </tr>\n",
       "  </thead>\n",
       "  <tbody>\n",
       "    <tr>\n",
       "      <th rowspan=\"3\" valign=\"top\">American</th>\n",
       "      <th>negative</th>\n",
       "      <td>0.741401</td>\n",
       "    </tr>\n",
       "    <tr>\n",
       "      <th>neutral</th>\n",
       "      <td>0.160510</td>\n",
       "    </tr>\n",
       "    <tr>\n",
       "      <th>positive</th>\n",
       "      <td>0.098089</td>\n",
       "    </tr>\n",
       "    <tr>\n",
       "      <th rowspan=\"3\" valign=\"top\">Delta</th>\n",
       "      <th>negative</th>\n",
       "      <td>0.585219</td>\n",
       "    </tr>\n",
       "    <tr>\n",
       "      <th>neutral</th>\n",
       "      <td>0.220211</td>\n",
       "    </tr>\n",
       "    <tr>\n",
       "      <th>positive</th>\n",
       "      <td>0.194570</td>\n",
       "    </tr>\n",
       "    <tr>\n",
       "      <th rowspan=\"3\" valign=\"top\">Southwest</th>\n",
       "      <th>negative</th>\n",
       "      <td>0.525180</td>\n",
       "    </tr>\n",
       "    <tr>\n",
       "      <th>neutral</th>\n",
       "      <td>0.280576</td>\n",
       "    </tr>\n",
       "    <tr>\n",
       "      <th>positive</th>\n",
       "      <td>0.194245</td>\n",
       "    </tr>\n",
       "    <tr>\n",
       "      <th rowspan=\"3\" valign=\"top\">US Airways</th>\n",
       "      <th>negative</th>\n",
       "      <td>0.834081</td>\n",
       "    </tr>\n",
       "    <tr>\n",
       "      <th>neutral</th>\n",
       "      <td>0.106502</td>\n",
       "    </tr>\n",
       "    <tr>\n",
       "      <th>positive</th>\n",
       "      <td>0.059417</td>\n",
       "    </tr>\n",
       "    <tr>\n",
       "      <th rowspan=\"3\" valign=\"top\">United</th>\n",
       "      <th>negative</th>\n",
       "      <td>0.759812</td>\n",
       "    </tr>\n",
       "    <tr>\n",
       "      <th>neutral</th>\n",
       "      <td>0.160911</td>\n",
       "    </tr>\n",
       "    <tr>\n",
       "      <th>positive</th>\n",
       "      <td>0.079278</td>\n",
       "    </tr>\n",
       "    <tr>\n",
       "      <th rowspan=\"3\" valign=\"top\">Virgin America</th>\n",
       "      <th>negative</th>\n",
       "      <td>0.440559</td>\n",
       "    </tr>\n",
       "    <tr>\n",
       "      <th>neutral</th>\n",
       "      <td>0.321678</td>\n",
       "    </tr>\n",
       "    <tr>\n",
       "      <th>positive</th>\n",
       "      <td>0.237762</td>\n",
       "    </tr>\n",
       "  </tbody>\n",
       "</table>\n",
       "</div>"
      ],
      "text/plain": [
       "                                  tweet_id\n",
       "                                     count\n",
       "airline        airline_sentiment          \n",
       "American       negative           0.741401\n",
       "               neutral            0.160510\n",
       "               positive           0.098089\n",
       "Delta          negative           0.585219\n",
       "               neutral            0.220211\n",
       "               positive           0.194570\n",
       "Southwest      negative           0.525180\n",
       "               neutral            0.280576\n",
       "               positive           0.194245\n",
       "US Airways     negative           0.834081\n",
       "               neutral            0.106502\n",
       "               positive           0.059417\n",
       "United         negative           0.759812\n",
       "               neutral            0.160911\n",
       "               positive           0.079278\n",
       "Virgin America negative           0.440559\n",
       "               neutral            0.321678\n",
       "               positive           0.237762"
      ]
     },
     "execution_count": 60,
     "metadata": {},
     "output_type": "execute_result"
    }
   ],
   "source": [
    "cancel_percent"
   ]
  },
  {
   "cell_type": "code",
   "execution_count": 61,
   "metadata": {},
   "outputs": [],
   "source": [
    "names = cancel_percent.index.get_level_values(0)\n",
    "values = np.square(cancel_percent.values)"
   ]
  },
  {
   "cell_type": "code",
   "execution_count": 62,
   "metadata": {},
   "outputs": [
    {
     "name": "stdout",
     "output_type": "stream",
     "text": [
      "Final Scores:\n",
      "American\n",
      "0.41493934845227\n",
      "Delta\n",
      "0.5711685764919727\n",
      "Southwest\n",
      "0.6077325190207546\n",
      "US Airways\n",
      "0.28943624444489136\n",
      "United\n",
      "0.39050913204310833\n"
     ]
    }
   ],
   "source": [
    "print('Final Scores:')\n",
    "print(names[0])\n",
    "print(1-np.sum(values[0:3]))\n",
    "print(names[3])\n",
    "print(1-np.sum(values[3:6]))\n",
    "print(names[6])\n",
    "print(1-np.sum(values[6:9]))\n",
    "print(names[9])\n",
    "print(1-np.sum(values[9:12]))\n",
    "print(names[12])\n",
    "print(1-np.sum(values[12:15]))"
   ]
  },
  {
   "cell_type": "code",
   "execution_count": 63,
   "metadata": {},
   "outputs": [],
   "source": [
    "cancel_percent_scores = [1-np.sum(values[0:3]),1-np.sum(values[3:6]),1-np.sum(values[6:9]),1-np.sum(values[9:12]),1-np.sum(values[12:15])]"
   ]
  },
  {
   "cell_type": "markdown",
   "metadata": {},
   "source": [
    "### Topic 3 - Overall Service (In Flight Experience + Luggage Issues)"
   ]
  },
  {
   "cell_type": "code",
   "execution_count": 64,
   "metadata": {},
   "outputs": [],
   "source": [
    "overall_service = tweets[tweets.text_clean.str.contains('lost|luggage|bag|baggage|wifi|leg|seat|device|movie|entertainment|recline|food|aircraft|plane|inflight|tv|cabin|broken|meal|space|sitting|coach|economy')] "
   ]
  },
  {
   "cell_type": "code",
   "execution_count": 65,
   "metadata": {},
   "outputs": [
    {
     "data": {
      "text/plain": [
       "2948"
      ]
     },
     "execution_count": 65,
     "metadata": {},
     "output_type": "execute_result"
    }
   ],
   "source": [
    "len(overall_service)"
   ]
  },
  {
   "cell_type": "code",
   "execution_count": 66,
   "metadata": {},
   "outputs": [],
   "source": [
    "overall_service = overall_service[~ overall_service.text_clean.str.contains('customer|call|delay|cancel|time|hold|call|phone|CS|agent|help|response|email|message|communication|weather')]"
   ]
  },
  {
   "cell_type": "code",
   "execution_count": 67,
   "metadata": {},
   "outputs": [
    {
     "data": {
      "text/plain": [
       "1915"
      ]
     },
     "execution_count": 67,
     "metadata": {},
     "output_type": "execute_result"
    }
   ],
   "source": [
    "len(overall_service)"
   ]
  },
  {
   "cell_type": "code",
   "execution_count": 68,
   "metadata": {},
   "outputs": [
    {
     "data": {
      "text/plain": [
       "Lost Luggage                   403\n",
       "Bad Flight                     297\n",
       "Late Flight                    235\n",
       "Can't Tell                     145\n",
       "Customer Service Issue         136\n",
       "Flight Attendant Complaints     88\n",
       "Flight Booking Problems         47\n",
       "longlines                       45\n",
       "Damaged Luggage                 36\n",
       "Cancelled Flight                28\n",
       "Name: negativereason, dtype: int64"
      ]
     },
     "execution_count": 68,
     "metadata": {},
     "output_type": "execute_result"
    }
   ],
   "source": [
    "overall_service.negativereason.value_counts()"
   ]
  },
  {
   "cell_type": "code",
   "execution_count": 69,
   "metadata": {},
   "outputs": [
    {
     "data": {
      "text/plain": [
       "['virginamerica its really aggressive to blast obnoxious entertainment in your guests faces amp they have little recourse',\n",
       " 'virginamerica seriously would pay 30 a flight for seats that didnt have this playing.its really the only bad thing about flying va',\n",
       " 'virginamerica you guys messed up my seating.. i reserved seating with my friends and you guys gave my seat away ...  i want free internet',\n",
       " 'virginamerica what happened 2 ur vegan food options at least say on ur site so i know i wont be able 2 eat anything for next 6 hrs fail',\n",
       " 'virginamerica lax to ewr  middle seat on a red eye. such a noob maneuver. sendambien andchexmix',\n",
       " 'virginamerica everything was fine until you lost my bag',\n",
       " 'virginamerica hi i just booked a flight but need to add baggage, how can i do this',\n",
       " 'virginamerica not worried, its been a great ride in a new plane with great crew. all airlines should be like this.',\n",
       " 'virginamerica ive applied more then once to be a member of the inflight crew team...im 100 interested. flightattendant dreampath g',\n",
       " 'virginamerica just landed in lax, an hour after i should of been here. your no late flight bag check is not business travel friendly nomorevirgin',\n",
       " 'virginamerica i cant check in or add a bag. your website isnt working. ive tried both desktop and mobile http:t.coavyqdmpi1y',\n",
       " 'virginamerica  let 2 scanned in passengers leave the plane than told someone to remove their bag from 1st class bin uncomfortable',\n",
       " 'virginamerica why must a traveler miss a flight to late flight check a bag  i missed my morning appointments and you lost my business. sfo2lax',\n",
       " 'virginamerica your no late flight bag check just lost you my business. i missed flight and am apt. three other people on flight had same exp.',\n",
       " 'virginamerica do you provide complimentary upgrades to first class, if there are available seats']"
      ]
     },
     "execution_count": 69,
     "metadata": {},
     "output_type": "execute_result"
    }
   ],
   "source": [
    "list(overall_service.text_clean)[:15]"
   ]
  },
  {
   "cell_type": "code",
   "execution_count": 70,
   "metadata": {},
   "outputs": [
    {
     "data": {
      "text/plain": [
       "['americanair after all, the plane didnt land in identical or worse conditions at grk according to metars.',\n",
       " 'americanair i was flying from ft lauderdale fl to seattle wa on the 02282015 until the 03032015 and they dont want to honor my flight.',\n",
       " 'americanair since we are leaving tomorrow to miami can you do one thing right and deliver the bags to the airport',\n",
       " 'americanair i wasnt important this morning when you would not seat my wife and i together or allow me to choose seats at flight booking problems',\n",
       " 'americanair because of you, i am doing the one thing i tried to avoid. thank you for sending me to baggage claim.',\n",
       " 'americanair thanks for forcing me to check in my carry  on luggage. that is exactly why i spent extra money on travel size toiletries',\n",
       " 'americanair i really hope it departs. they said is because the catering service wasnt available but we can see it next to plane doing nthin',\n",
       " 'americanair when i left orlando, i was 2nd in line for standby. i land and im 4th. priority members get first available seats. awesome.',\n",
       " '.americanair nice 2 know. i paid 4 a seat. then you sold my seat. now i bought a 3rd seat. its a good scam, but a scam all the same.',\n",
       " 'americanair .....and they waited 5 hours in a stuffy plane until they could get off then 7 more hrs to get their luggage  americanairlines',\n",
       " 'americanair 3078 is overweight so you pull 2 dozen passengers off why not luggage seriously',\n",
       " 'americanair love the new planes for the jfklax run.  maybe one day i will be on one where the amenities all function.  nocharge ever',\n",
       " 'americanair flight 236 was great. fantastic cabin crew. a landing. thankyou jfk http:t.codrw08djhai',\n",
       " 'americanair thx for nothing on getting us out of the country and back to us. broken plane come on. get another one.',\n",
       " 'americanair we have 8 ppl so we need 2 know how many seats are on the next flight. plz put us on standby for 4 people on the next flight']"
      ]
     },
     "execution_count": 70,
     "metadata": {},
     "output_type": "execute_result"
    }
   ],
   "source": [
    "list(overall_service.text_clean)[-15:]"
   ]
  },
  {
   "cell_type": "code",
   "execution_count": 71,
   "metadata": {},
   "outputs": [],
   "source": [
    "overall_service_counts = overall_service.groupby(['airline','airline_sentiment']).agg({'tweet_id':['count']})"
   ]
  },
  {
   "cell_type": "code",
   "execution_count": 72,
   "metadata": {},
   "outputs": [
    {
     "data": {
      "text/html": [
       "<div>\n",
       "<style scoped>\n",
       "    .dataframe tbody tr th:only-of-type {\n",
       "        vertical-align: middle;\n",
       "    }\n",
       "\n",
       "    .dataframe tbody tr th {\n",
       "        vertical-align: top;\n",
       "    }\n",
       "\n",
       "    .dataframe thead tr th {\n",
       "        text-align: left;\n",
       "    }\n",
       "\n",
       "    .dataframe thead tr:last-of-type th {\n",
       "        text-align: right;\n",
       "    }\n",
       "</style>\n",
       "<table border=\"1\" class=\"dataframe\">\n",
       "  <thead>\n",
       "    <tr>\n",
       "      <th></th>\n",
       "      <th></th>\n",
       "      <th>tweet_id</th>\n",
       "    </tr>\n",
       "    <tr>\n",
       "      <th></th>\n",
       "      <th></th>\n",
       "      <th>count</th>\n",
       "    </tr>\n",
       "    <tr>\n",
       "      <th>airline</th>\n",
       "      <th>airline_sentiment</th>\n",
       "      <th></th>\n",
       "    </tr>\n",
       "  </thead>\n",
       "  <tbody>\n",
       "    <tr>\n",
       "      <th rowspan=\"3\" valign=\"top\">American</th>\n",
       "      <th>negative</th>\n",
       "      <td>247</td>\n",
       "    </tr>\n",
       "    <tr>\n",
       "      <th>neutral</th>\n",
       "      <td>40</td>\n",
       "    </tr>\n",
       "    <tr>\n",
       "      <th>positive</th>\n",
       "      <td>27</td>\n",
       "    </tr>\n",
       "    <tr>\n",
       "      <th rowspan=\"3\" valign=\"top\">Delta</th>\n",
       "      <th>negative</th>\n",
       "      <td>149</td>\n",
       "    </tr>\n",
       "    <tr>\n",
       "      <th>neutral</th>\n",
       "      <td>64</td>\n",
       "    </tr>\n",
       "    <tr>\n",
       "      <th>positive</th>\n",
       "      <td>49</td>\n",
       "    </tr>\n",
       "    <tr>\n",
       "      <th rowspan=\"3\" valign=\"top\">Southwest</th>\n",
       "      <th>negative</th>\n",
       "      <td>178</td>\n",
       "    </tr>\n",
       "    <tr>\n",
       "      <th>neutral</th>\n",
       "      <td>37</td>\n",
       "    </tr>\n",
       "    <tr>\n",
       "      <th>positive</th>\n",
       "      <td>29</td>\n",
       "    </tr>\n",
       "    <tr>\n",
       "      <th rowspan=\"3\" valign=\"top\">US Airways</th>\n",
       "      <th>negative</th>\n",
       "      <td>319</td>\n",
       "    </tr>\n",
       "    <tr>\n",
       "      <th>neutral</th>\n",
       "      <td>34</td>\n",
       "    </tr>\n",
       "    <tr>\n",
       "      <th>positive</th>\n",
       "      <td>17</td>\n",
       "    </tr>\n",
       "    <tr>\n",
       "      <th rowspan=\"3\" valign=\"top\">United</th>\n",
       "      <th>negative</th>\n",
       "      <td>526</td>\n",
       "    </tr>\n",
       "    <tr>\n",
       "      <th>neutral</th>\n",
       "      <td>82</td>\n",
       "    </tr>\n",
       "    <tr>\n",
       "      <th>positive</th>\n",
       "      <td>50</td>\n",
       "    </tr>\n",
       "    <tr>\n",
       "      <th rowspan=\"3\" valign=\"top\">Virgin America</th>\n",
       "      <th>negative</th>\n",
       "      <td>41</td>\n",
       "    </tr>\n",
       "    <tr>\n",
       "      <th>neutral</th>\n",
       "      <td>12</td>\n",
       "    </tr>\n",
       "    <tr>\n",
       "      <th>positive</th>\n",
       "      <td>14</td>\n",
       "    </tr>\n",
       "  </tbody>\n",
       "</table>\n",
       "</div>"
      ],
      "text/plain": [
       "                                 tweet_id\n",
       "                                    count\n",
       "airline        airline_sentiment         \n",
       "American       negative               247\n",
       "               neutral                 40\n",
       "               positive                27\n",
       "Delta          negative               149\n",
       "               neutral                 64\n",
       "               positive                49\n",
       "Southwest      negative               178\n",
       "               neutral                 37\n",
       "               positive                29\n",
       "US Airways     negative               319\n",
       "               neutral                 34\n",
       "               positive                17\n",
       "United         negative               526\n",
       "               neutral                 82\n",
       "               positive                50\n",
       "Virgin America negative                41\n",
       "               neutral                 12\n",
       "               positive                14"
      ]
     },
     "execution_count": 72,
     "metadata": {},
     "output_type": "execute_result"
    }
   ],
   "source": [
    "overall_service_counts"
   ]
  },
  {
   "cell_type": "code",
   "execution_count": 73,
   "metadata": {},
   "outputs": [],
   "source": [
    "overall_percent = overall_service_counts.groupby(level=0).apply(lambda x:x / float(x.sum()))"
   ]
  },
  {
   "cell_type": "code",
   "execution_count": 74,
   "metadata": {},
   "outputs": [
    {
     "data": {
      "text/html": [
       "<div>\n",
       "<style scoped>\n",
       "    .dataframe tbody tr th:only-of-type {\n",
       "        vertical-align: middle;\n",
       "    }\n",
       "\n",
       "    .dataframe tbody tr th {\n",
       "        vertical-align: top;\n",
       "    }\n",
       "\n",
       "    .dataframe thead tr th {\n",
       "        text-align: left;\n",
       "    }\n",
       "\n",
       "    .dataframe thead tr:last-of-type th {\n",
       "        text-align: right;\n",
       "    }\n",
       "</style>\n",
       "<table border=\"1\" class=\"dataframe\">\n",
       "  <thead>\n",
       "    <tr>\n",
       "      <th></th>\n",
       "      <th></th>\n",
       "      <th>tweet_id</th>\n",
       "    </tr>\n",
       "    <tr>\n",
       "      <th></th>\n",
       "      <th></th>\n",
       "      <th>count</th>\n",
       "    </tr>\n",
       "    <tr>\n",
       "      <th>airline</th>\n",
       "      <th>airline_sentiment</th>\n",
       "      <th></th>\n",
       "    </tr>\n",
       "  </thead>\n",
       "  <tbody>\n",
       "    <tr>\n",
       "      <th rowspan=\"3\" valign=\"top\">American</th>\n",
       "      <th>negative</th>\n",
       "      <td>0.786624</td>\n",
       "    </tr>\n",
       "    <tr>\n",
       "      <th>neutral</th>\n",
       "      <td>0.127389</td>\n",
       "    </tr>\n",
       "    <tr>\n",
       "      <th>positive</th>\n",
       "      <td>0.085987</td>\n",
       "    </tr>\n",
       "    <tr>\n",
       "      <th rowspan=\"3\" valign=\"top\">Delta</th>\n",
       "      <th>negative</th>\n",
       "      <td>0.568702</td>\n",
       "    </tr>\n",
       "    <tr>\n",
       "      <th>neutral</th>\n",
       "      <td>0.244275</td>\n",
       "    </tr>\n",
       "    <tr>\n",
       "      <th>positive</th>\n",
       "      <td>0.187023</td>\n",
       "    </tr>\n",
       "    <tr>\n",
       "      <th rowspan=\"3\" valign=\"top\">Southwest</th>\n",
       "      <th>negative</th>\n",
       "      <td>0.729508</td>\n",
       "    </tr>\n",
       "    <tr>\n",
       "      <th>neutral</th>\n",
       "      <td>0.151639</td>\n",
       "    </tr>\n",
       "    <tr>\n",
       "      <th>positive</th>\n",
       "      <td>0.118852</td>\n",
       "    </tr>\n",
       "    <tr>\n",
       "      <th rowspan=\"3\" valign=\"top\">US Airways</th>\n",
       "      <th>negative</th>\n",
       "      <td>0.862162</td>\n",
       "    </tr>\n",
       "    <tr>\n",
       "      <th>neutral</th>\n",
       "      <td>0.091892</td>\n",
       "    </tr>\n",
       "    <tr>\n",
       "      <th>positive</th>\n",
       "      <td>0.045946</td>\n",
       "    </tr>\n",
       "    <tr>\n",
       "      <th rowspan=\"3\" valign=\"top\">United</th>\n",
       "      <th>negative</th>\n",
       "      <td>0.799392</td>\n",
       "    </tr>\n",
       "    <tr>\n",
       "      <th>neutral</th>\n",
       "      <td>0.124620</td>\n",
       "    </tr>\n",
       "    <tr>\n",
       "      <th>positive</th>\n",
       "      <td>0.075988</td>\n",
       "    </tr>\n",
       "    <tr>\n",
       "      <th rowspan=\"3\" valign=\"top\">Virgin America</th>\n",
       "      <th>negative</th>\n",
       "      <td>0.611940</td>\n",
       "    </tr>\n",
       "    <tr>\n",
       "      <th>neutral</th>\n",
       "      <td>0.179104</td>\n",
       "    </tr>\n",
       "    <tr>\n",
       "      <th>positive</th>\n",
       "      <td>0.208955</td>\n",
       "    </tr>\n",
       "  </tbody>\n",
       "</table>\n",
       "</div>"
      ],
      "text/plain": [
       "                                  tweet_id\n",
       "                                     count\n",
       "airline        airline_sentiment          \n",
       "American       negative           0.786624\n",
       "               neutral            0.127389\n",
       "               positive           0.085987\n",
       "Delta          negative           0.568702\n",
       "               neutral            0.244275\n",
       "               positive           0.187023\n",
       "Southwest      negative           0.729508\n",
       "               neutral            0.151639\n",
       "               positive           0.118852\n",
       "US Airways     negative           0.862162\n",
       "               neutral            0.091892\n",
       "               positive           0.045946\n",
       "United         negative           0.799392\n",
       "               neutral            0.124620\n",
       "               positive           0.075988\n",
       "Virgin America negative           0.611940\n",
       "               neutral            0.179104\n",
       "               positive           0.208955"
      ]
     },
     "execution_count": 74,
     "metadata": {},
     "output_type": "execute_result"
    }
   ],
   "source": [
    "overall_percent"
   ]
  },
  {
   "cell_type": "code",
   "execution_count": 75,
   "metadata": {},
   "outputs": [],
   "source": [
    "names = overall_percent.index.get_level_values(0)\n",
    "values = np.square(overall_percent.values)"
   ]
  },
  {
   "cell_type": "code",
   "execution_count": 76,
   "metadata": {},
   "outputs": [
    {
     "name": "stdout",
     "output_type": "stream",
     "text": [
      "Final Scores:\n",
      "American\n",
      "0.35760071402490956\n",
      "Delta\n",
      "0.5819299574616864\n",
      "Southwest\n",
      "0.430697393173878\n",
      "US Airways\n",
      "0.2461212563915267\n",
      "United\n",
      "0.3396679631562901\n"
     ]
    }
   ],
   "source": [
    "print('Final Scores:')\n",
    "print(names[0])\n",
    "print(1-np.sum(values[0:3]))\n",
    "print(names[3])\n",
    "print(1-np.sum(values[3:6]))\n",
    "print(names[6])\n",
    "print(1-np.sum(values[6:9]))\n",
    "print(names[9])\n",
    "print(1-np.sum(values[9:12]))\n",
    "print(names[12])\n",
    "print(1-np.sum(values[12:15]))"
   ]
  },
  {
   "cell_type": "code",
   "execution_count": 77,
   "metadata": {},
   "outputs": [],
   "source": [
    "overall_service_scores = [1-np.sum(values[0:3]),1-np.sum(values[3:6]),1-np.sum(values[6:9]),1-np.sum(values[9:12]),1-np.sum(values[12:15])]"
   ]
  },
  {
   "cell_type": "markdown",
   "metadata": {},
   "source": [
    "## Final Perceptual Map"
   ]
  },
  {
   "cell_type": "code",
   "execution_count": 78,
   "metadata": {},
   "outputs": [],
   "source": [
    "airlines = ['American','Delta','Southwest','US Airways','United']"
   ]
  },
  {
   "cell_type": "code",
   "execution_count": 79,
   "metadata": {},
   "outputs": [],
   "source": [
    "cust_service_scores = pd.DataFrame(cust_service_scores)\n",
    "cancel_percent_scores = pd.DataFrame(cancel_percent_scores)\n",
    "overall_service_scores = pd.DataFrame(overall_service_scores)"
   ]
  },
  {
   "cell_type": "code",
   "execution_count": 80,
   "metadata": {},
   "outputs": [
    {
     "data": {
      "text/html": [
       "<div>\n",
       "<style scoped>\n",
       "    .dataframe tbody tr th:only-of-type {\n",
       "        vertical-align: middle;\n",
       "    }\n",
       "\n",
       "    .dataframe tbody tr th {\n",
       "        vertical-align: top;\n",
       "    }\n",
       "\n",
       "    .dataframe thead th {\n",
       "        text-align: right;\n",
       "    }\n",
       "</style>\n",
       "<table border=\"1\" class=\"dataframe\">\n",
       "  <thead>\n",
       "    <tr style=\"text-align: right;\">\n",
       "      <th></th>\n",
       "      <th>0</th>\n",
       "      <th>0</th>\n",
       "      <th>0</th>\n",
       "    </tr>\n",
       "  </thead>\n",
       "  <tbody>\n",
       "    <tr>\n",
       "      <th>0</th>\n",
       "      <td>0.305273</td>\n",
       "      <td>0.414939</td>\n",
       "      <td>0.357601</td>\n",
       "    </tr>\n",
       "    <tr>\n",
       "      <th>1</th>\n",
       "      <td>0.574769</td>\n",
       "      <td>0.571169</td>\n",
       "      <td>0.581930</td>\n",
       "    </tr>\n",
       "    <tr>\n",
       "      <th>2</th>\n",
       "      <td>0.520183</td>\n",
       "      <td>0.607733</td>\n",
       "      <td>0.430697</td>\n",
       "    </tr>\n",
       "    <tr>\n",
       "      <th>3</th>\n",
       "      <td>0.288489</td>\n",
       "      <td>0.289436</td>\n",
       "      <td>0.246121</td>\n",
       "    </tr>\n",
       "    <tr>\n",
       "      <th>4</th>\n",
       "      <td>0.448766</td>\n",
       "      <td>0.390509</td>\n",
       "      <td>0.339668</td>\n",
       "    </tr>\n",
       "  </tbody>\n",
       "</table>\n",
       "</div>"
      ],
      "text/plain": [
       "          0         0         0\n",
       "0  0.305273  0.414939  0.357601\n",
       "1  0.574769  0.571169  0.581930\n",
       "2  0.520183  0.607733  0.430697\n",
       "3  0.288489  0.289436  0.246121\n",
       "4  0.448766  0.390509  0.339668"
      ]
     },
     "execution_count": 80,
     "metadata": {},
     "output_type": "execute_result"
    }
   ],
   "source": [
    "final_scores = pd.concat([cust_service_scores,cancel_percent_scores,overall_service_scores],axis=1)\n",
    "final_scores"
   ]
  },
  {
   "cell_type": "code",
   "execution_count": 81,
   "metadata": {},
   "outputs": [],
   "source": [
    "final_scores.columns = ['Customer Service','Cancellations + Delays','Overall Service']"
   ]
  },
  {
   "cell_type": "code",
   "execution_count": 82,
   "metadata": {},
   "outputs": [],
   "source": [
    "final_scores.index = airlines"
   ]
  },
  {
   "cell_type": "code",
   "execution_count": 83,
   "metadata": {},
   "outputs": [],
   "source": [
    "final_scores = round(final_scores*10,2)"
   ]
  },
  {
   "cell_type": "code",
   "execution_count": 84,
   "metadata": {},
   "outputs": [
    {
     "data": {
      "text/html": [
       "<div>\n",
       "<style scoped>\n",
       "    .dataframe tbody tr th:only-of-type {\n",
       "        vertical-align: middle;\n",
       "    }\n",
       "\n",
       "    .dataframe tbody tr th {\n",
       "        vertical-align: top;\n",
       "    }\n",
       "\n",
       "    .dataframe thead th {\n",
       "        text-align: right;\n",
       "    }\n",
       "</style>\n",
       "<table border=\"1\" class=\"dataframe\">\n",
       "  <thead>\n",
       "    <tr style=\"text-align: right;\">\n",
       "      <th></th>\n",
       "      <th>Customer Service</th>\n",
       "      <th>Cancellations + Delays</th>\n",
       "      <th>Overall Service</th>\n",
       "    </tr>\n",
       "  </thead>\n",
       "  <tbody>\n",
       "    <tr>\n",
       "      <th>American</th>\n",
       "      <td>3.05</td>\n",
       "      <td>4.15</td>\n",
       "      <td>3.58</td>\n",
       "    </tr>\n",
       "    <tr>\n",
       "      <th>Delta</th>\n",
       "      <td>5.75</td>\n",
       "      <td>5.71</td>\n",
       "      <td>5.82</td>\n",
       "    </tr>\n",
       "    <tr>\n",
       "      <th>Southwest</th>\n",
       "      <td>5.20</td>\n",
       "      <td>6.08</td>\n",
       "      <td>4.31</td>\n",
       "    </tr>\n",
       "    <tr>\n",
       "      <th>US Airways</th>\n",
       "      <td>2.88</td>\n",
       "      <td>2.89</td>\n",
       "      <td>2.46</td>\n",
       "    </tr>\n",
       "    <tr>\n",
       "      <th>United</th>\n",
       "      <td>4.49</td>\n",
       "      <td>3.91</td>\n",
       "      <td>3.40</td>\n",
       "    </tr>\n",
       "  </tbody>\n",
       "</table>\n",
       "</div>"
      ],
      "text/plain": [
       "            Customer Service  Cancellations + Delays  Overall Service\n",
       "American                3.05                    4.15             3.58\n",
       "Delta                   5.75                    5.71             5.82\n",
       "Southwest               5.20                    6.08             4.31\n",
       "US Airways              2.88                    2.89             2.46\n",
       "United                  4.49                    3.91             3.40"
      ]
     },
     "execution_count": 84,
     "metadata": {},
     "output_type": "execute_result"
    }
   ],
   "source": [
    "final_scores"
   ]
  },
  {
   "cell_type": "code",
   "execution_count": 85,
   "metadata": {},
   "outputs": [
    {
     "data": {
      "text/plain": [
       "['American', 'Delta', 'Southwest', 'US Airways', 'United']"
      ]
     },
     "execution_count": 85,
     "metadata": {},
     "output_type": "execute_result"
    }
   ],
   "source": [
    "list(final_scores.index)"
   ]
  },
  {
   "cell_type": "markdown",
   "metadata": {},
   "source": [
    "## Perceptual Map"
   ]
  },
  {
   "cell_type": "code",
   "execution_count": 86,
   "metadata": {},
   "outputs": [],
   "source": [
    "from sklearn.manifold import MDS"
   ]
  },
  {
   "cell_type": "code",
   "execution_count": 87,
   "metadata": {},
   "outputs": [
    {
     "data": {
      "text/plain": [
       "(5, 2)"
      ]
     },
     "execution_count": 87,
     "metadata": {},
     "output_type": "execute_result"
    }
   ],
   "source": [
    "embedding = MDS(n_components=2,random_state=2019)\n",
    "scores_transformed = embedding.fit_transform(final_scores)\n",
    "scores_transformed.shape"
   ]
  },
  {
   "cell_type": "code",
   "execution_count": 89,
   "metadata": {},
   "outputs": [
    {
     "data": {
      "image/png": "[encoded data removed]",
      "text/plain": [
       "<Figure size 1080x720 with 1 Axes>"
      ]
     },
     "metadata": {
      "needs_background": "light"
     },
     "output_type": "display_data"
    }
   ],
   "source": [
    "import matplotlib.pyplot as plt\n",
    "import seaborn as sns\n",
    "\n",
    "fig, ax = plt.subplots(figsize=(15, 10))\n",
    "ax.scatter(scores_transformed[:,0],scores_transformed[:,1])\n",
    "\n",
    "for i, txt in enumerate(list(final_scores.index)):\n",
    "    ax.annotate(txt, (scores_transformed[i,0], scores_transformed[i,1]),fontsize=20,\n",
    "                 style='italic',horizontalalignment='left',verticalalignment='bottom',\n",
    "                bbox=dict(facecolor='none', edgecolor='black', boxstyle='round,pad=1'),\n",
    "               annotation_clip=False)"
   ]
  }
 ],
 "metadata": {
  "kernelspec": {
   "display_name": "Python 3",
   "language": "python",
   "name": "python3"
  },
  "language_info": {
   "codemirror_mode": {
    "name": "ipython",
    "version": 3
   },
   "file_extension": ".py",
   "mimetype": "text/x-python",
   "name": "python",
   "nbconvert_exporter": "python",
   "pygments_lexer": "ipython3",
   "version": "3.6.8"
  }
 },
 "nbformat": 4,
 "nbformat_minor": 2
}
